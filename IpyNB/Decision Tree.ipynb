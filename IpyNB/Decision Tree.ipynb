{
 "cells": [
  {
   "cell_type": "markdown",
   "metadata": {},
   "source": [
    "# Árboles de decisión\n",
    "\n",
    "## Introducción\n",
    "\n",
    "En este Notebook vamos a analizar el funcionamiento de los [árboles de decisión](http://scikit-learn.org/stable/modules/tree.html).\n",
    "\n",
    "\n",
    "## Árboles de decisión\n",
    "\n",
    "Es un algoritmo basado en reglas de decisión sencillas, que dividen el espacio de características en rectángulos. Es algo así como jugar al [*quién es quién*](https://es.wikipedia.org/wiki/Guess_Who%3F) con los datos.\n",
    "\n",
    "<img src=\"./figs/CART_tree_titanic_survivors.png\"> Fuente: [Wikipedia](https://en.wikipedia.org/wiki/Decision_tree_learning)\n",
    "\n",
    "Existen distintos algoritmos para implementar árboles de decisión, algunos son: [ID3 (Iterative Dichotomiser)](https://en.wikipedia.org/wiki/ID3_algorithm), [C4.5](https://en.wikipedia.org/wiki/C4.5_algorithm), o CART (Classification And Regression Tree). Este último es el que utiliza scikit-learn.\n",
    "\n",
    "CART es un algoritmo iterativo, en el que incrementalmente se divide el espacio de acuerdo con la característica o atributo que menor error de clasificación produzca al realizar dicha división. Esta división se conoce como *splitting*, y el resultado es la creación de una o varias ramas. El algoritmo de *splitting* vuelve a aplicarse sobre cada rama, hasta que en la rama el error de clasificación no mejora, y entonces se crea una hoja. \n",
    "\n",
    "<img src=\"./figs/Recursive_Splitting.png\"> \n",
    "Fuente: [Wikipedia](https://en.wikipedia.org/wiki/Decision_tree_learning)"
   ]
  },
  {
   "cell_type": "code",
   "execution_count": 1,
   "metadata": {
    "collapsed": true
   },
   "outputs": [],
   "source": [
    "# cargamos librerías necesarias\n",
    "import pandas as pd\n",
    "import numpy as np\n",
    "import matplotlib.pyplot as plt\n",
    "from sklearn.model_selection import train_test_split\n",
    "from sklearn import linear_model\n",
    "from sklearn import naive_bayes\n",
    "from sklearn import svm\n",
    "from sklearn import tree\n",
    "import sklearn.metrics as met\n",
    "from sklearn.metrics import confusion_matrix\n",
    "%matplotlib inline"
   ]
  },
  {
   "cell_type": "code",
   "execution_count": 43,
   "metadata": {},
   "outputs": [
    {
     "name": "stdout",
     "output_type": "stream",
     "text": [
      "(8702, 5)\n",
      "43510\n"
     ]
    }
   ],
   "source": [
    "db = pd.read_csv(\"asset.csv\")\n",
    "print (db.shape)\n",
    "print (db.size)"
   ]
  },
  {
   "cell_type": "code",
   "execution_count": 44,
   "metadata": {},
   "outputs": [
    {
     "data": {
      "text/html": [
       "<div>\n",
       "<table border=\"1\" class=\"dataframe\">\n",
       "  <thead>\n",
       "    <tr style=\"text-align: right;\">\n",
       "      <th></th>\n",
       "      <th>Date</th>\n",
       "      <th>Open</th>\n",
       "      <th>High</th>\n",
       "      <th>Low</th>\n",
       "      <th>Close</th>\n",
       "    </tr>\n",
       "  </thead>\n",
       "  <tbody>\n",
       "    <tr>\n",
       "      <th>0</th>\n",
       "      <td>2017-03-24</td>\n",
       "      <td>29350.60</td>\n",
       "      <td>29539.85</td>\n",
       "      <td>29350.17</td>\n",
       "      <td>29421.40</td>\n",
       "    </tr>\n",
       "    <tr>\n",
       "      <th>1</th>\n",
       "      <td>2017-03-23</td>\n",
       "      <td>29201.01</td>\n",
       "      <td>29373.79</td>\n",
       "      <td>29198.08</td>\n",
       "      <td>29332.16</td>\n",
       "    </tr>\n",
       "  </tbody>\n",
       "</table>\n",
       "</div>"
      ],
      "text/plain": [
       "         Date      Open      High       Low     Close\n",
       "0  2017-03-24  29350.60  29539.85  29350.17  29421.40\n",
       "1  2017-03-23  29201.01  29373.79  29198.08  29332.16"
      ]
     },
     "execution_count": 44,
     "metadata": {},
     "output_type": "execute_result"
    }
   ],
   "source": [
    "db.head(2)"
   ]
  },
  {
   "cell_type": "code",
   "execution_count": 45,
   "metadata": {
    "collapsed": true
   },
   "outputs": [],
   "source": [
    "#REPASO\n",
    "##### Method 1: Replace NaN values with 0.\n",
    "db = db.fillna(0)\n",
    "##### Method 2: Replace NaN values in each column with the mean of that column.\n",
    "db[\"Open\"] = db[\"Open\"].fillna(db[\"Open\"].mean())\n",
    "db[\"Close\"] = db[\"Close\"].fillna(db[\"Close\"].mean())\n",
    "db[\"High\"] = db[\"High\"].fillna(db[\"High\"].mean())\n",
    "db[\"Low\"] = db[\"Low\"].fillna(db[\"Low\"].mean())\n",
    "##### Method 3: Replace NaN values in each column with the median of that column.\n",
    "db[\"Open\"] = db[\"Open\"].fillna(db[\"Open\"].median())\n",
    "db[\"Close\"] = db[\"Close\"].fillna(db[\"Close\"].median())\n",
    "db[\"High\"] = db[\"High\"].fillna(db[\"High\"].median())\n",
    "db[\"Low\"] = db[\"Low\"].fillna(db[\"Low\"].median())\n",
    "##### Method 4: Replace NaN values in each column with the mode of that column.\n",
    "db[\"Open\"] = db[\"Open\"].fillna(db[\"Open\"].mode().mean())\n",
    "db[\"Close\"] = db[\"Close\"].fillna(db[\"Close\"].mode().mean())\n",
    "db[\"High\"] = db[\"High\"].fillna(db[\"High\"].mode().mean())\n",
    "db[\"Low\"] = db[\"Low\"].fillna(db[\"Low\"].mode().mean())"
   ]
  },
  {
   "cell_type": "code",
   "execution_count": 51,
   "metadata": {
    "collapsed": true
   },
   "outputs": [],
   "source": []
  },
  {
   "cell_type": "code",
   "execution_count": 52,
   "metadata": {
    "collapsed": true
   },
   "outputs": [],
   "source": [
    "#construyo target variable\n",
    "db[\"Change\"] = db[\"Close\"] - db[\"Open\"]\n",
    "db[\"label\"] = db[\"Change\"].apply(lambda x : 1 if x > 0 else -1)"
   ]
  },
  {
   "cell_type": "code",
   "execution_count": 56,
   "metadata": {
    "collapsed": true
   },
   "outputs": [],
   "source": [
    "#Añado algunas variables\n",
    "db[\"Open1\"] = db[\"Open\"].shift(-1)\n",
    "db[\"Close1\"] = db[\"Close\"].shift(-1)\n",
    "db[\"High1\"] = db[\"High\"].shift(-1)\n",
    "db[\"Low1\"] = db[\"Low\"].shift(-1)\n",
    "db = db.dropna()"
   ]
  },
  {
   "cell_type": "code",
   "execution_count": 91,
   "metadata": {
    "collapsed": true
   },
   "outputs": [],
   "source": [
    "features = [\"Open1\", \"Close1\", \"High1\", \"Low1\"]"
   ]
  },
  {
   "cell_type": "code",
   "execution_count": 92,
   "metadata": {},
   "outputs": [
    {
     "data": {
      "text/html": [
       "<div>\n",
       "<table border=\"1\" class=\"dataframe\">\n",
       "  <thead>\n",
       "    <tr style=\"text-align: right;\">\n",
       "      <th></th>\n",
       "      <th>Open1</th>\n",
       "      <th>Close1</th>\n",
       "      <th>High1</th>\n",
       "      <th>Low1</th>\n",
       "    </tr>\n",
       "  </thead>\n",
       "  <tbody>\n",
       "    <tr>\n",
       "      <th>0</th>\n",
       "      <td>29201.01</td>\n",
       "      <td>29332.16</td>\n",
       "      <td>29373.79</td>\n",
       "      <td>29198.08</td>\n",
       "    </tr>\n",
       "    <tr>\n",
       "      <th>1</th>\n",
       "      <td>29341.41</td>\n",
       "      <td>29167.68</td>\n",
       "      <td>29341.41</td>\n",
       "      <td>29137.48</td>\n",
       "    </tr>\n",
       "    <tr>\n",
       "      <th>2</th>\n",
       "      <td>29525.88</td>\n",
       "      <td>29485.45</td>\n",
       "      <td>29585.05</td>\n",
       "      <td>29380.14</td>\n",
       "    </tr>\n",
       "    <tr>\n",
       "      <th>3</th>\n",
       "      <td>29653.54</td>\n",
       "      <td>29518.74</td>\n",
       "      <td>29699.48</td>\n",
       "      <td>29482.40</td>\n",
       "    </tr>\n",
       "    <tr>\n",
       "      <th>4</th>\n",
       "      <td>29755.74</td>\n",
       "      <td>29648.99</td>\n",
       "      <td>29824.62</td>\n",
       "      <td>29601.86</td>\n",
       "    </tr>\n",
       "    <tr>\n",
       "      <th>5</th>\n",
       "      <td>29482.83</td>\n",
       "      <td>29585.85</td>\n",
       "      <td>29614.79</td>\n",
       "      <td>29482.83</td>\n",
       "    </tr>\n",
       "    <tr>\n",
       "      <th>6</th>\n",
       "      <td>29452.86</td>\n",
       "      <td>29398.11</td>\n",
       "      <td>29500.08</td>\n",
       "      <td>29358.91</td>\n",
       "    </tr>\n",
       "    <tr>\n",
       "      <th>7</th>\n",
       "      <td>29437.23</td>\n",
       "      <td>29442.63</td>\n",
       "      <td>29561.93</td>\n",
       "      <td>29356.05</td>\n",
       "    </tr>\n",
       "    <tr>\n",
       "      <th>8</th>\n",
       "      <td>29006.00</td>\n",
       "      <td>28946.23</td>\n",
       "      <td>29076.63</td>\n",
       "      <td>28851.04</td>\n",
       "    </tr>\n",
       "    <tr>\n",
       "      <th>9</th>\n",
       "      <td>28909.70</td>\n",
       "      <td>28929.13</td>\n",
       "      <td>28986.72</td>\n",
       "      <td>28815.02</td>\n",
       "    </tr>\n",
       "  </tbody>\n",
       "</table>\n",
       "</div>"
      ],
      "text/plain": [
       "      Open1    Close1     High1      Low1\n",
       "0  29201.01  29332.16  29373.79  29198.08\n",
       "1  29341.41  29167.68  29341.41  29137.48\n",
       "2  29525.88  29485.45  29585.05  29380.14\n",
       "3  29653.54  29518.74  29699.48  29482.40\n",
       "4  29755.74  29648.99  29824.62  29601.86\n",
       "5  29482.83  29585.85  29614.79  29482.83\n",
       "6  29452.86  29398.11  29500.08  29358.91\n",
       "7  29437.23  29442.63  29561.93  29356.05\n",
       "8  29006.00  28946.23  29076.63  28851.04\n",
       "9  28909.70  28929.13  28986.72  28815.02"
      ]
     },
     "execution_count": 92,
     "metadata": {},
     "output_type": "execute_result"
    }
   ],
   "source": [
    "db[features].head(10)"
   ]
  },
  {
   "cell_type": "code",
   "execution_count": 93,
   "metadata": {},
   "outputs": [],
   "source": [
    "label = \"label\"\n",
    "X = db[features][:-1]\n",
    "y = db[label][:-1]"
   ]
  },
  {
   "cell_type": "code",
   "execution_count": 94,
   "metadata": {},
   "outputs": [],
   "source": [
    "#creo datasets de entrenamiento y test\n",
    "X_train, X_test, y_train, y_test = train_test_split(X, y, test_size=0.2, random_state=42)\n"
   ]
  },
  {
   "cell_type": "code",
   "execution_count": 95,
   "metadata": {},
   "outputs": [],
   "source": [
    "# model_1 = linear_model.LogisticRegression()\n",
    "model_1 = tree.DecisionTreeClassifier()\n",
    "model_1.fit(X_train, y_train)\n",
    "predictions = model_1.predict(X_test)"
   ]
  },
  {
   "cell_type": "code",
   "execution_count": 96,
   "metadata": {},
   "outputs": [
    {
     "name": "stdout",
     "output_type": "stream",
     "text": [
      "             precision    recall  f1-score   support\n",
      "\n",
      "         -1       0.51      0.47      0.49       668\n",
      "          1       0.68      0.71      0.70      1072\n",
      "\n",
      "avg / total       0.62      0.62      0.62      1740\n",
      "\n",
      "0.620689655172\n"
     ]
    }
   ],
   "source": [
    "from sklearn.metrics import classification_report\n",
    "from sklearn.metrics import f1_score\n",
    "from sklearn.metrics import accuracy_score \n",
    "from sklearn.metrics import confusion_matrix\n",
    "\n",
    "print (classification_report(y_test, predictions))\n",
    "print (accuracy_score(y_test, predictions))"
   ]
  },
  {
   "cell_type": "code",
   "execution_count": 97,
   "metadata": {},
   "outputs": [
    {
     "data": {
      "text/html": [
       "<div>\n",
       "<table border=\"1\" class=\"dataframe\">\n",
       "  <thead>\n",
       "    <tr style=\"text-align: right;\">\n",
       "      <th>Predicted</th>\n",
       "      <th>-1</th>\n",
       "      <th>1</th>\n",
       "    </tr>\n",
       "    <tr>\n",
       "      <th>Actual</th>\n",
       "      <th></th>\n",
       "      <th></th>\n",
       "    </tr>\n",
       "  </thead>\n",
       "  <tbody>\n",
       "    <tr>\n",
       "      <th>-1</th>\n",
       "      <td>317</td>\n",
       "      <td>351</td>\n",
       "    </tr>\n",
       "    <tr>\n",
       "      <th>1</th>\n",
       "      <td>309</td>\n",
       "      <td>763</td>\n",
       "    </tr>\n",
       "  </tbody>\n",
       "</table>\n",
       "</div>"
      ],
      "text/plain": [
       "Predicted   -1    1\n",
       "Actual             \n",
       "-1         317  351\n",
       " 1         309  763"
      ]
     },
     "execution_count": 97,
     "metadata": {},
     "output_type": "execute_result"
    }
   ],
   "source": [
    "pd.crosstab(y_test, predictions, rownames=[\"Actual\"], colnames=[\"Predicted\"])"
   ]
  },
  {
   "cell_type": "code",
   "execution_count": null,
   "metadata": {
    "collapsed": true
   },
   "outputs": [],
   "source": []
  }
 ],
 "metadata": {
  "kernelspec": {
   "display_name": "Python 3",
   "language": "python",
   "name": "python3"
  },
  "language_info": {
   "codemirror_mode": {
    "name": "ipython",
    "version": 3
   },
   "file_extension": ".py",
   "mimetype": "text/x-python",
   "name": "python",
   "nbconvert_exporter": "python",
   "pygments_lexer": "ipython3",
   "version": "3.6.5"
  }
 },
 "nbformat": 4,
 "nbformat_minor": 1
}

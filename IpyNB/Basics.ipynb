{
 "cells": [
  {
   "cell_type": "code",
   "execution_count": 1,
   "metadata": {},
   "outputs": [],
   "source": [
    "from IPython.core.interactiveshell import InteractiveShell\n",
    "InteractiveShell.ast_node_interactivity = \"all\""
   ]
  },
  {
   "cell_type": "markdown",
   "metadata": {},
   "source": [
    "**LOAD DATASET**"
   ]
  },
  {
   "cell_type": "code",
   "execution_count": 2,
   "metadata": {},
   "outputs": [],
   "source": [
    "import os\n",
    "from csv import reader\n",
    "import pandas as pd"
   ]
  },
  {
   "cell_type": "code",
   "execution_count": 12,
   "metadata": {},
   "outputs": [
    {
     "name": "stdout",
     "output_type": "stream",
     "text": [
      "Loaded data file ./data/diabetes.csv with 768 rows and 9 columns\n"
     ]
    }
   ],
   "source": [
    "# Example of loading Pima Indians CSV dataset from csv import reader\n",
    "# Load a CSV file def load_csv(filename): \n",
    "dataset = list() \n",
    "default_path=\"C:\\\\Users\\\\junaj\\\\Desktop\\\\CursoDataScience\\\\notebooks\\\\\"\n",
    "data_path=\"./data/\"\n",
    "os.chdir(default_path)\n",
    "filename = data_path+'diabetes.csv' \n",
    "def load_csv(filename):\n",
    "\tfile = open(filename, \"r\")\n",
    "\tlines = reader(file)\n",
    "\tdataset = list(lines)\n",
    "\treturn dataset\n",
    "\n",
    "# Load dataset\n",
    "\n",
    "dataset = load_csv(filename)\n",
    "print('Loaded data file {0} with {1} rows and {2} columns'.format(filename, len(dataset), len(dataset[0])))"
   ]
  },
  {
   "cell_type": "code",
   "execution_count": 13,
   "metadata": {},
   "outputs": [
    {
     "name": "stdout",
     "output_type": "stream",
     "text": [
      "['6', '148', '72', '35', '0', '33.6', '0.627', '50', '1']\n"
     ]
    }
   ],
   "source": [
    "print(dataset[0])\n"
   ]
  },
  {
   "cell_type": "code",
   "execution_count": 14,
   "metadata": {},
   "outputs": [],
   "source": [
    "?pd.read_csv"
   ]
  },
  {
   "cell_type": "code",
   "execution_count": 15,
   "metadata": {},
   "outputs": [],
   "source": [
    "\n",
    "dataset = pd.read_csv(filename,header=None)"
   ]
  },
  {
   "cell_type": "code",
   "execution_count": 16,
   "metadata": {},
   "outputs": [
    {
     "data": {
      "text/html": [
       "<div>\n",
       "<style scoped>\n",
       "    .dataframe tbody tr th:only-of-type {\n",
       "        vertical-align: middle;\n",
       "    }\n",
       "\n",
       "    .dataframe tbody tr th {\n",
       "        vertical-align: top;\n",
       "    }\n",
       "\n",
       "    .dataframe thead th {\n",
       "        text-align: right;\n",
       "    }\n",
       "</style>\n",
       "<table border=\"1\" class=\"dataframe\">\n",
       "  <thead>\n",
       "    <tr style=\"text-align: right;\">\n",
       "      <th></th>\n",
       "      <th>0</th>\n",
       "      <th>1</th>\n",
       "      <th>2</th>\n",
       "      <th>3</th>\n",
       "      <th>4</th>\n",
       "      <th>5</th>\n",
       "      <th>6</th>\n",
       "      <th>7</th>\n",
       "      <th>8</th>\n",
       "    </tr>\n",
       "  </thead>\n",
       "  <tbody>\n",
       "    <tr>\n",
       "      <th>0</th>\n",
       "      <td>6</td>\n",
       "      <td>148</td>\n",
       "      <td>72</td>\n",
       "      <td>35</td>\n",
       "      <td>0</td>\n",
       "      <td>33.6</td>\n",
       "      <td>0.627</td>\n",
       "      <td>50</td>\n",
       "      <td>1</td>\n",
       "    </tr>\n",
       "  </tbody>\n",
       "</table>\n",
       "</div>"
      ],
      "text/plain": [
       "   0    1   2   3  4     5      6   7  8\n",
       "0  6  148  72  35  0  33.6  0.627  50  1"
      ]
     },
     "execution_count": 16,
     "metadata": {},
     "output_type": "execute_result"
    },
    {
     "data": {
      "text/plain": [
       "numpy.float64"
      ]
     },
     "execution_count": 16,
     "metadata": {},
     "output_type": "execute_result"
    }
   ],
   "source": [
    "dataset.head(1)\n",
    "type(dataset[5].values[0])"
   ]
  },
  {
   "cell_type": "code",
   "execution_count": 5,
   "metadata": {},
   "outputs": [
    {
     "name": "stdout",
     "output_type": "stream",
     "text": [
      "Requirement already satisfied: jupyterthemes in c:\\users\\hp\\anaconda4\\lib\\site-packages (0.20.0)\n",
      "Requirement already satisfied: lesscpy>=0.11.2 in c:\\users\\hp\\anaconda4\\lib\\site-packages (from jupyterthemes) (0.14.0)\n",
      "Requirement already satisfied: ipython>=5.4.1 in c:\\users\\hp\\anaconda4\\lib\\site-packages (from jupyterthemes) (6.4.0)\n",
      "Requirement already satisfied: notebook>=5.6.0 in c:\\users\\hp\\anaconda4\\lib\\site-packages (from jupyterthemes) (6.0.3)\n",
      "Requirement already satisfied: matplotlib>=1.4.3 in c:\\users\\hp\\anaconda4\\lib\\site-packages (from jupyterthemes) (2.2.2)\n",
      "Requirement already satisfied: jupyter-core in c:\\users\\hp\\anaconda4\\lib\\site-packages (from jupyterthemes) (4.4.0)\n",
      "Requirement already satisfied: six in c:\\users\\hp\\anaconda4\\lib\\site-packages (from lesscpy>=0.11.2->jupyterthemes) (1.11.0)\n",
      "Requirement already satisfied: ply in c:\\users\\hp\\anaconda4\\lib\\site-packages (from lesscpy>=0.11.2->jupyterthemes) (3.11)\n",
      "Requirement already satisfied: setuptools>=18.5 in c:\\users\\hp\\anaconda4\\lib\\site-packages (from ipython>=5.4.1->jupyterthemes) (38.5.1)\n",
      "Requirement already satisfied: jedi>=0.10 in c:\\users\\hp\\anaconda4\\lib\\site-packages (from ipython>=5.4.1->jupyterthemes) (0.12.0)\n",
      "Requirement already satisfied: colorama; sys_platform == \"win32\" in c:\\users\\hp\\anaconda4\\lib\\site-packages (from ipython>=5.4.1->jupyterthemes) (0.3.9)\n",
      "Requirement already satisfied: simplegeneric>0.8 in c:\\users\\hp\\anaconda4\\lib\\site-packages (from ipython>=5.4.1->jupyterthemes) (0.8.1)\n",
      "Requirement already satisfied: pickleshare in c:\\users\\hp\\anaconda4\\lib\\site-packages (from ipython>=5.4.1->jupyterthemes) (0.7.4)\n",
      "Requirement already satisfied: prompt-toolkit<2.0.0,>=1.0.15 in c:\\users\\hp\\anaconda4\\lib\\site-packages (from ipython>=5.4.1->jupyterthemes) (1.0.15)\n",
      "Requirement already satisfied: pygments in c:\\users\\hp\\anaconda4\\lib\\site-packages (from ipython>=5.4.1->jupyterthemes) (2.2.0)\n",
      "Requirement already satisfied: traitlets>=4.2 in c:\\users\\hp\\anaconda4\\lib\\site-packages (from ipython>=5.4.1->jupyterthemes) (4.3.2)\n",
      "Requirement already satisfied: backcall in c:\\users\\hp\\anaconda4\\lib\\site-packages (from ipython>=5.4.1->jupyterthemes) (0.1.0)\n",
      "Requirement already satisfied: decorator in c:\\users\\hp\\anaconda4\\lib\\site-packages (from ipython>=5.4.1->jupyterthemes) (4.3.0)\n",
      "Requirement already satisfied: jinja2 in c:\\users\\hp\\anaconda4\\lib\\site-packages (from notebook>=5.6.0->jupyterthemes) (2.10)\n",
      "Requirement already satisfied: ipython-genutils in c:\\users\\hp\\anaconda4\\lib\\site-packages (from notebook>=5.6.0->jupyterthemes) (0.2.0)\n",
      "Requirement already satisfied: prometheus-client in c:\\users\\hp\\anaconda4\\lib\\site-packages (from notebook>=5.6.0->jupyterthemes) (0.8.0)\n",
      "Requirement already satisfied: tornado>=5.0 in c:\\users\\hp\\anaconda4\\lib\\site-packages (from notebook>=5.6.0->jupyterthemes) (5.0.2)\n",
      "Requirement already satisfied: nbconvert in c:\\users\\hp\\anaconda4\\lib\\site-packages (from notebook>=5.6.0->jupyterthemes) (5.3.1)\n",
      "Requirement already satisfied: pyzmq>=17 in c:\\users\\hp\\anaconda4\\lib\\site-packages (from notebook>=5.6.0->jupyterthemes) (17.0.0)\n",
      "Requirement already satisfied: jupyter-client>=5.3.4 in c:\\users\\hp\\anaconda4\\lib\\site-packages (from notebook>=5.6.0->jupyterthemes) (6.1.3)\n",
      "Requirement already satisfied: nbformat in c:\\users\\hp\\anaconda4\\lib\\site-packages (from notebook>=5.6.0->jupyterthemes) (4.4.0)\n",
      "Requirement already satisfied: Send2Trash in c:\\users\\hp\\anaconda4\\lib\\site-packages (from notebook>=5.6.0->jupyterthemes) (1.5.0)\n",
      "Requirement already satisfied: terminado>=0.8.1 in c:\\users\\hp\\anaconda4\\lib\\site-packages (from notebook>=5.6.0->jupyterthemes) (0.8.1)\n",
      "Requirement already satisfied: ipykernel in c:\\users\\hp\\anaconda4\\lib\\site-packages (from notebook>=5.6.0->jupyterthemes) (4.8.2)\n",
      "Requirement already satisfied: numpy>=1.7.1 in c:\\users\\hp\\anaconda4\\lib\\site-packages (from matplotlib>=1.4.3->jupyterthemes) (1.14.3)\n",
      "Requirement already satisfied: cycler>=0.10 in c:\\users\\hp\\anaconda4\\lib\\site-packages (from matplotlib>=1.4.3->jupyterthemes) (0.10.0)\n",
      "Requirement already satisfied: pyparsing!=2.0.4,!=2.1.2,!=2.1.6,>=2.0.1 in c:\\users\\hp\\anaconda4\\lib\\site-packages (from matplotlib>=1.4.3->jupyterthemes) (2.2.0)\n",
      "Requirement already satisfied: python-dateutil>=2.1 in c:\\users\\hp\\anaconda4\\lib\\site-packages (from matplotlib>=1.4.3->jupyterthemes) (2.7.3)\n",
      "Requirement already satisfied: pytz in c:\\users\\hp\\anaconda4\\lib\\site-packages (from matplotlib>=1.4.3->jupyterthemes) (2018.4)\n",
      "Requirement already satisfied: kiwisolver>=1.0.1 in c:\\users\\hp\\anaconda4\\lib\\site-packages (from matplotlib>=1.4.3->jupyterthemes) (1.0.1)\n",
      "Requirement already satisfied: parso>=0.2.0 in c:\\users\\hp\\anaconda4\\lib\\site-packages (from jedi>=0.10->ipython>=5.4.1->jupyterthemes) (0.2.0)\n",
      "Requirement already satisfied: wcwidth in c:\\users\\hp\\anaconda4\\lib\\site-packages (from prompt-toolkit<2.0.0,>=1.0.15->ipython>=5.4.1->jupyterthemes) (0.1.7)\n",
      "Requirement already satisfied: MarkupSafe>=0.23 in c:\\users\\hp\\anaconda4\\lib\\site-packages (from jinja2->notebook>=5.6.0->jupyterthemes) (1.0)\n",
      "Requirement already satisfied: mistune>=0.7.4 in c:\\users\\hp\\anaconda4\\lib\\site-packages (from nbconvert->notebook>=5.6.0->jupyterthemes) (0.8.3)\n",
      "Requirement already satisfied: entrypoints>=0.2.2 in c:\\users\\hp\\anaconda4\\lib\\site-packages (from nbconvert->notebook>=5.6.0->jupyterthemes) (0.2.3)\n",
      "Requirement already satisfied: bleach in c:\\users\\hp\\anaconda4\\lib\\site-packages (from nbconvert->notebook>=5.6.0->jupyterthemes) (2.1.3)\n",
      "Requirement already satisfied: pandocfilters>=1.4.1 in c:\\users\\hp\\anaconda4\\lib\\site-packages (from nbconvert->notebook>=5.6.0->jupyterthemes) (1.4.2)\n",
      "Requirement already satisfied: testpath in c:\\users\\hp\\anaconda4\\lib\\site-packages (from nbconvert->notebook>=5.6.0->jupyterthemes) (0.3.1)\n",
      "Requirement already satisfied: jsonschema!=2.5.0,>=2.4 in c:\\users\\hp\\anaconda4\\lib\\site-packages (from nbformat->notebook>=5.6.0->jupyterthemes) (2.6.0)\n",
      "Requirement already satisfied: html5lib!=1.0b1,!=1.0b2,!=1.0b3,!=1.0b4,!=1.0b5,!=1.0b6,!=1.0b7,!=1.0b8,>=0.99999999pre in c:\\users\\hp\\anaconda4\\lib\\site-packages (from bleach->nbconvert->notebook>=5.6.0->jupyterthemes) (1.0.1)\n",
      "Requirement already satisfied: webencodings in c:\\users\\hp\\anaconda4\\lib\\site-packages (from html5lib!=1.0b1,!=1.0b2,!=1.0b3,!=1.0b4,!=1.0b5,!=1.0b6,!=1.0b7,!=1.0b8,>=0.99999999pre->bleach->nbconvert->notebook>=5.6.0->jupyterthemes) (0.5.1)\n"
     ]
    }
   ],
   "source": [
    "!pip install jupyterthemes\n"
   ]
  },
  {
   "cell_type": "code",
   "execution_count": 6,
   "metadata": {},
   "outputs": [
    {
     "ename": "SyntaxError",
     "evalue": "invalid syntax (<ipython-input-6-06a783fbafd7>, line 1)",
     "output_type": "error",
     "traceback": [
      "\u001b[1;36m  File \u001b[1;32m\"<ipython-input-6-06a783fbafd7>\"\u001b[1;36m, line \u001b[1;32m1\u001b[0m\n\u001b[1;33m    jt -t onedork\u001b[0m\n\u001b[1;37m                ^\u001b[0m\n\u001b[1;31mSyntaxError\u001b[0m\u001b[1;31m:\u001b[0m invalid syntax\n"
     ]
    }
   ],
   "source": [
    "jt -t onedork\n"
   ]
  },
  {
   "cell_type": "code",
   "execution_count": null,
   "metadata": {},
   "outputs": [],
   "source": []
  }
 ],
 "metadata": {
  "kernelspec": {
   "display_name": "Python 3",
   "language": "python",
   "name": "python3"
  },
  "language_info": {
   "codemirror_mode": {
    "name": "ipython",
    "version": 3
   },
   "file_extension": ".py",
   "mimetype": "text/x-python",
   "name": "python",
   "nbconvert_exporter": "python",
   "pygments_lexer": "ipython3",
   "version": "3.6.5"
  }
 },
 "nbformat": 4,
 "nbformat_minor": 2
}

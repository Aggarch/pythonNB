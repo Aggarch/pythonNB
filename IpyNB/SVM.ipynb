{
 "cells": [
  {
   "cell_type": "markdown",
   "metadata": {},
   "source": [
    "# Máquinas de vectores soporte\n",
    "\n",
    "\n",
    "## Introducción\n",
    "\n",
    "En este Notebook vamos a analizar el funcionamiento del algoritmo de [máquinas de vectores soporte](http://scikit-learn.org/stable/modules/svm.html).\n",
    "\n",
    "\n",
    "## Máquinas de vectores soporte (SVM)\n",
    "\n",
    "Del inglés, *Support Vector Machines*. Originalmente desarrolladass para abordar problemas de clasificación linealmente separables, las SVMs se definen como un clasificador lineal que generan una frontera de separación con máximo margen, es decir con máxima separación entre las muestras (de cada clase) y el plano de separación. En la figura, los planos $H_2$ y $H_3$ permiten separar perfectamente las clases, sin embargo, $H_3$ realiza esta separación con máximo margen.\n",
    "\n",
    "<img src=\"./figs/Svm_separating_hyperplanes.png\"> Fuente: [Wikipedia](https://en.wikipedia.org/wiki/Support_vector_machine), figura realizada por ZackWeinberg.\n",
    "\n",
    "La ventaja de definir este hiperplano de separación de máximo margen es doble:\n",
    "\n",
    "1. Proporciona una frontera de separación que generaliza muy bien. Las SVMs son uno de los algoritmos con mejores prestaciones en problemas de clasificación. \n",
    "\n",
    "2. La frontera de separación se define únicamente en función de las muestras más cercanas al hiperplano de separación, las cuales se denominan *vectores soporte*, que en general son un subconjunto reducido de las muestras del problema, lo que lo convierte en un algoritmo eficiente. \n",
    "\n",
    "El algoritmo SVM puede extenderse fácilmente a problemas no lineales utilizando el truco del núcleo o [*Kernel Trick*](https://en.wikipedia.org/wiki/Kernel_method). El truco del núcleo consiste en aplicar una transformación $\\phi(\\mathbf{x})$ sobre los datos para llevarlos a un espacio de dimensionalidad mayor, donde presumiblemente los datos podrán ser linealmente separados. Sobre ese nuevo espacio, se aplica el algoritmo SVM. \n",
    "\n",
    "<img src=\"./figs/Kernel_Machine.png\"> Fuente: [Wikipedia](https://en.wikipedia.org/wiki/Kernel_method), figura realizada por Zirguezi.\n",
    "\n",
    "Esta transformación no es nueva para nosotros. Si recordamos el algoritmo de regresión logística, tuvimos que incluir nuevas variables en forma de variables polinómicas (lo que en otras palabras es aumentar la dimensionalidad del problema) para poder abordar problemas de clasificación no lineales. \n",
    "\n",
    "¿Por qué se llama truco del núcleo? Porque realmente no tenemos que conocer la función de transformación $\\phi(\\mathbf{x})$, sino únicamente su producto escalar, que denominamos núcleo:\n",
    "\n",
    "$$k(\\mathbf{x_i},\\mathbf{x_j}) = <\\phi(\\mathbf{x_i}),\\phi(\\mathbf{x_j})>$$\n",
    "\n",
    "La ventaja de las SVMs es que el truco del núcleo puede incluirse de forma natural en su formulación, dando como resultado un algoritmo muy versátil y potente. Algunos de los [núcleos](http://scikit-learn.org/stable/modules/svm.html#svm-kernels) más utilizados son:\n",
    "\n",
    "- Lineal (lo que equivale a no introducir transformación sobre los datos): $k(\\mathbf{x_i},\\mathbf{x_j}) = \\mathbf{x_i}\\cdot\\mathbf{x_j}$.\n",
    "\n",
    "- RBF (Radial Basis Function), o kernel gaussiano: $k(\\mathbf{x_i},\\mathbf{x_j}) = e^{-\\gamma||\\mathbf{x_i}-\\mathbf{x_j}||^2}$, donde $\\gamma$ es un parámetro libre que hay que fijar a priori.\n",
    "\n",
    "- Polinómico: $k(\\mathbf{x_i},\\mathbf{x_j}) = \\left(\\gamma(\\mathbf{x_i}\\cdot\\mathbf{x_j}) + r \\right)^d$, donde $r$ y $\\gamma$ son parámetros libres que hay que fijar a priori"
   ]
  },
  {
   "cell_type": "code",
   "execution_count": 1,
   "metadata": {
    "collapsed": true
   },
   "outputs": [],
   "source": [
    "# cargamos librerías necesarias\n",
    "import pandas as pd\n",
    "import numpy as np\n",
    "import matplotlib.pyplot as plt\n",
    "from sklearn.model_selection import train_test_split\n",
    "from sklearn.metrics import scorer\n",
    "from sklearn.metrics import accuracy_score\n",
    "from sklearn import svm\n",
    "import sklearn.metrics as met\n",
    "from sklearn.metrics import confusion_matrix\n",
    "%matplotlib inline"
   ]
  },
  {
   "cell_type": "code",
   "execution_count": 2,
   "metadata": {
    "collapsed": true
   },
   "outputs": [],
   "source": [
    "db = pd.read_csv(\"ohlcdata.csv\")\n",
    "db= db.dropna()"
   ]
  },
  {
   "cell_type": "code",
   "execution_count": 3,
   "metadata": {
    "collapsed": true
   },
   "outputs": [],
   "source": [
    "y = np.where(db['Close'].shift(-1) > db['Close'],1,-1)\n",
    "db['Open-Close'] = db.Open - db.Close\n",
    "db['High-Low'] = db.High - db.Low"
   ]
  },
  {
   "cell_type": "code",
   "execution_count": 4,
   "metadata": {
    "collapsed": true
   },
   "outputs": [],
   "source": [
    "X=db[['Open-Close','High-Low']]\n",
    "split_percentage = 0.8\n",
    "split = int(split_percentage*len(db))\n",
    "X_train = X[:split]\n",
    "y_train = y[:split]\n",
    "X_test = X[split:]\n",
    "y_test = y[split:]"
   ]
  },
  {
   "cell_type": "code",
   "execution_count": 5,
   "metadata": {},
   "outputs": [
    {
     "name": "stdout",
     "output_type": "stream",
     "text": [
      "\n",
      "Train Accuracy: 83.33%\n",
      "Test Accuracy: 100.00%\n"
     ]
    }
   ],
   "source": [
    "clf=svm.SVC(kernel='linear',probability=True)\n",
    "clf.fit(X_train,y_train)\n",
    "accuracy_train = accuracy_score(y_train, clf.predict(X_train))\n",
    "accuracy_test = accuracy_score(y_test, clf.predict(X_test))\n",
    "print('\\nTrain Accuracy:{: .2f}%'.format(accuracy_train*100))\n",
    "print('Test Accuracy:{: .2f}%'.format(accuracy_test*100))"
   ]
  },
  {
   "cell_type": "markdown",
   "metadata": {},
   "source": [
    "* Si tenemos un valor elevado del coste $C$, estaremos penalizando mucho los errores, y por tanto se obtienen fronteras más ajustadas (mayor complejidad, mayor riesgo de overfitting, potenciales mejores prestaciones). \n",
    "\n",
    "* De otro lado, si tenemos un valor pequeño del coste $C$, no daremos mucha importancia a los errores, y por tanto se obtienen fronteras menos ajustadas (menor complejidad, menor riesgo de overfitting, potenciales peores prestaciones). \n",
    "\n",
    "Se puede modificar el coste $C$ mediante el parámetro de mismo nombre en scikit-learn. Por defecto, $C=1$."
   ]
  },
  {
   "cell_type": "code",
   "execution_count": 6,
   "metadata": {},
   "outputs": [
    {
     "name": "stdout",
     "output_type": "stream",
     "text": [
      "\n",
      "Train Accuracy: 81.25%\n",
      "Test Accuracy: 84.62%\n"
     ]
    }
   ],
   "source": [
    "clf=svm.SVC(kernel='linear',probability=True,C = 0.0001)\n",
    "clf.fit(X_train,y_train)\n",
    "accuracy_train = accuracy_score(y_train, clf.predict(X_train))\n",
    "accuracy_test = accuracy_score(y_test, clf.predict(X_test))\n",
    "print('\\nTrain Accuracy:{: .2f}%'.format(accuracy_train*100))\n",
    "print('Test Accuracy:{: .2f}%'.format(accuracy_test*100))"
   ]
  },
  {
   "cell_type": "code",
   "execution_count": 7,
   "metadata": {},
   "outputs": [
    {
     "name": "stdout",
     "output_type": "stream",
     "text": [
      "\n",
      "Train Accuracy: 85.42%\n",
      "Test Accuracy: 92.31%\n"
     ]
    }
   ],
   "source": [
    "clf=svm.SVC(kernel='linear',C = 1e3)\n",
    "clf.fit(X_train,y_train)\n",
    "accuracy_train = accuracy_score(y_train, clf.predict(X_train))\n",
    "accuracy_test = accuracy_score(y_test, clf.predict(X_test))\n",
    "print('\\nTrain Accuracy:{: .2f}%'.format(accuracy_train*100))\n",
    "print('Test Accuracy:{: .2f}%'.format(accuracy_test*100))"
   ]
  },
  {
   "cell_type": "code",
   "execution_count": null,
   "metadata": {
    "collapsed": true
   },
   "outputs": [],
   "source": [
    "clf=svm.SVC(kernel='rbf',gamma = 2)\n",
    "clf.fit(X_train,y_train)\n",
    "accuracy_train = accuracy_score(y_train, clf.predict(X_train))\n",
    "accuracy_test = accuracy_score(y_test, clf.predict(X_test))\n",
    "print('\\nTrain Accuracy:{: .2f}%'.format(accuracy_train*100))\n",
    "print('Test Accuracy:{: .2f}%'.format(accuracy_test*100))"
   ]
  },
  {
   "cell_type": "markdown",
   "metadata": {},
   "source": [
    "## Conclusiones\n",
    "\n",
    "El algoritmo SVM destaca por:\n",
    "\n",
    "1. Proporciona muy buenas prestaciones en clasificación.\n",
    "2. Versatilidad: utilización de núcleos.\n",
    "3. Como contrapartida, la búsqueda de parámetros libres ($C$) puede ser costosa computacionalmente"
   ]
  },
  {
   "cell_type": "code",
   "execution_count": 2,
   "metadata": {},
   "outputs": [
    {
     "data": {
      "image/png": "[encoded data removed]",
      "text/plain": [
       "<matplotlib.figure.Figure at 0x221b15963c8>"
      ]
     },
     "metadata": {},
     "output_type": "display_data"
    }
   ],
   "source": [
    "import numpy as np\n",
    "import matplotlib.pyplot as plt\n",
    "from sklearn import svm\n",
    "%matplotlib inline\n",
    "np.random.seed(0)\n",
    "X = np.r_[np.random.randn(20, 2) - [2, 2], np.random.randn(20, 2) + [2, 2]]\n",
    "Y = [0] * 20 + [1] * 20\n",
    "# fit the model\n",
    "clf = svm.SVC(kernel='linear')\n",
    "clf.fit(X, Y)\n",
    "clf.predict(X)\n",
    "# get the separating hyperplane\n",
    "w = clf.coef_[0]\n",
    "a = -w[0] / w[1]\n",
    "xx = np.linspace(-5, 5)\n",
    "yy = a * xx - (clf.intercept_[0]) / w[1]\n",
    "\n",
    "# generate the parallels to the separating hyperplane that pass through the support vectors\n",
    "b = clf.support_vectors_[0]\n",
    "yy_down = a * xx + (b[1] - a * b[0])\n",
    "b = clf.support_vectors_[-1]\n",
    "yy_up = a * xx + (b[1] - a * b[0])\n",
    "# plot the hyper planes\n",
    "plt.plot(xx, yy, 'k-')\n",
    "plt.plot(xx, yy_down, 'k--')\n",
    "plt.plot(xx, yy_up, 'k--')\n",
    "\n",
    "# plot the support vectors\n",
    "plt.scatter(clf.support_vectors_[:, 0], clf.support_vectors_[:, 1],\n",
    "            s=200, facecolors='black')\n",
    "\n",
    "# plot all points\n",
    "plt.scatter(X[:, 0], X[:, 1], c=Y, cmap=plt.cm.Paired)\n",
    "\n",
    "plt.axis('tight')\n",
    "plt.show()"
   ]
  },
  {
   "cell_type": "code",
   "execution_count": null,
   "metadata": {},
   "outputs": [],
   "source": []
  }
 ],
 "metadata": {
  "kernelspec": {
   "display_name": "Python 3",
   "language": "python",
   "name": "python3"
  },
  "language_info": {
   "codemirror_mode": {
    "name": "ipython",
    "version": 3
   },
   "file_extension": ".py",
   "mimetype": "text/x-python",
   "name": "python",
   "nbconvert_exporter": "python",
   "pygments_lexer": "ipython3",
   "version": "3.6.4"
  }
 },
 "nbformat": 4,
 "nbformat_minor": 1
}

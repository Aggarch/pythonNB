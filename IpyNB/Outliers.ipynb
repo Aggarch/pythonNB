{
 "cells": [
  {
   "cell_type": "markdown",
   "metadata": {},
   "source": [
    "**Identify Outliers in Data**"
   ]
  },
  {
   "cell_type": "code",
   "execution_count": 1,
   "metadata": {},
   "outputs": [],
   "source": [
    "import pandas as pd\n",
    "import numpy as np\n",
    "from numpy import percentile"
   ]
  },
  {
   "cell_type": "code",
   "execution_count": 2,
   "metadata": {},
   "outputs": [],
   "source": [
    "dataset = pd.read_csv(\"bitcoin.csv\",index_col=0)"
   ]
  },
  {
   "cell_type": "code",
   "execution_count": 3,
   "metadata": {},
   "outputs": [
    {
     "name": "stdout",
     "output_type": "stream",
     "text": [
      "Open [13733.4, 15899.0, 15921.9, 14682.9, 14850.0, 16577.5, 16958.9, 16150.0, 16376.6, 17500.0, 19356.9, 18935.4, 18830.6, 17604.0, 16217.7, 15176.0, 13809.3, 14590.6, 13760.0, 13870.0, 15813.3, 15444.3, 14566.1, 14400.8, 12600.0, 13965.0, 13506.1, 14882.0, 15190.2, 15266.6, 16988.3, 17099.9, 16116.9, 15016.9, 14508.7, 14907.0, 14101.0, 14396.3, 13711.1, 13606.8, 12845.8]\n",
      "Identified outliers: 41\n",
      "Non-outlier observations: 1653\n",
      "High [13850.0, 15958.0, 16986.0, 16100.0, 15700.0, 17423.0, 17390.1, 17199.9, 16698.5, 17950.0, 19500.0, 19660.0, 19289.0, 18946.6, 17724.5, 16950.0, 15442.3, 15600.0, 14841.8, 14512.0, 16249.0, 16555.2, 15550.0, 15198.5, 14438.8, 14299.0, 14442.9, 15300.0, 15599.7, 15500.1, 17000.0, 17245.0, 17100.0, 16130.1, 15440.7, 14979.0, 15055.0, 17200.0, 14500.0, 14438.9, 13633.1, 13079.6, 12845.8]\n",
      "Identified outliers: 43\n",
      "Non-outlier observations: 1651\n",
      "Low [11723.4, 13699.0, 14201.6, 13200.0, 13000.0, 14850.0, 16300.0, 15717.0, 15825.7, 16323.3, 17343.0, 18567.1, 18298.5, 16723.5, 15501.2, 14315.0, 13499.9, 12500.0, 13030.0, 13763.0, 14624.0, 13732.5, 14250.0, 12132.4, 12500.0, 13050.0, 13088.8, 14701.9, 14417.1, 14961.0, 16167.5, 15665.0, 13500.0, 14230.7, 13525.0, 12848.0, 13266.3, 13209.6, 13441.04]\n",
      "Identified outliers: 39\n",
      "Non-outlier observations: 1655\n",
      "Close [13737.7, 15899.0, 15921.9, 14682.9, 14850.3, 16578.0, 16889.3, 16135.3, 16376.1, 17500.0, 19356.9, 18920.6, 18833.1, 17593.7, 16220.7, 15199.3, 13874.1, 14560.9, 13750.0, 13865.0, 15814.5, 15445.9, 14548.8, 14400.8, 12600.0, 13979.7, 13506.1, 14882.0, 15185.7, 15258.3, 16990.0, 17088.0, 16128.4, 15016.9, 14515.4, 14937.6, 13503.6, 14400.0, 13711.3, 13608.3, 12840.1]\n",
      "Identified outliers: 41\n",
      "Non-outlier observations: 1653\n",
      "Volume [18027.477, 15968.118, 13738.783000000001, 14237.805, 12532.777, 15725.042, 13840.027, 12866.003, 15041.4, 16460.22, 13129.097, 12845.958, 12966.105, 15918.403999999999, 21052.213, 14252.045, 14608.653, 18223.63, 20354.572, 28280.847999999998, 15528.428, 14132.622, 13759.018, 14188.511, 19186.438000000002, 13695.551000000001, 12955.063, 16158.543, 16874.232, 18352.582, 14854.396999999999, 12468.678999999998, 20610.877, 20665.697, 13118.935, 14901.518999999998, 13831.702]\n",
      "Identified outliers: 37\n",
      "Non-outlier observations: 1657\n"
     ]
    }
   ],
   "source": [
    "# calculate summary statistics\n",
    "for feature in dataset.columns:\n",
    "    data_mean, data_std = np.mean(dataset[feature]), np.std(dataset[feature])\n",
    "    # identify outliers\n",
    "    cut_off = data_std * 3\n",
    "    lower, upper = data_mean - cut_off, data_mean + cut_off\n",
    "    # identify outliers\n",
    "    outliers = [x for x in dataset[feature].values if x < lower or x > upper]\n",
    "    print(feature,outliers)\n",
    "    print('Identified outliers: %d' % len(outliers))\n",
    "    outliers_removed = [x for x in dataset[feature] if x > lower and x < upper]\n",
    "    print('Non-outlier observations: %d' % len(outliers_removed))"
   ]
  },
  {
   "cell_type": "code",
   "execution_count": 4,
   "metadata": {},
   "outputs": [
    {
     "name": "stdout",
     "output_type": "stream",
     "text": [
      "Percentiles: 25th=228.943, 75th=9703.150, IQR=9474.207\n",
      "Open\n",
      "Identified outliers: 170\n",
      "Non-outlier observations: 1524\n",
      "Percentiles: 25th=233.065, 75th=10017.545, IQR=9784.480\n",
      "High\n",
      "Identified outliers: 170\n",
      "Non-outlier observations: 1524\n",
      "Percentiles: 25th=223.979, 75th=9254.785, IQR=9030.806\n",
      "Low\n",
      "Identified outliers: 170\n",
      "Non-outlier observations: 1524\n",
      "Percentiles: 25th=228.943, 75th=9704.370, IQR=9475.427\n",
      "Close\n",
      "Identified outliers: 170\n",
      "Non-outlier observations: 1524\n",
      "Percentiles: 25th=1.397, 75th=9469.930, IQR=9468.533\n",
      "Volume\n",
      "Identified outliers: 170\n",
      "Non-outlier observations: 1524\n"
     ]
    }
   ],
   "source": [
    "# calculate summary statistics\n",
    "for feature in dataset.columns:\n",
    "    q1, q2 = percentile(dataset[feature], 5), percentile(dataset[feature], 95)\n",
    "    iqr = q2 - q1\n",
    "    print('Percentiles: 25th=%.3f, 75th=%.3f, IQR=%.3f' % (q1, q2, iqr))\n",
    "    lower, upper = q1 , q2\n",
    "    outliers = [x for x in dataset[feature].values if x < lower or x > upper]\n",
    "    print(feature)\n",
    "    print('Identified outliers: %d' % len(outliers))\n",
    "    outliers_removed = [x for x in dataset[feature] if x > lower and x < upper]\n",
    "    print('Non-outlier observations: %d' % len(outliers_removed))"
   ]
  },
  {
   "cell_type": "code",
   "execution_count": 5,
   "metadata": {},
   "outputs": [
    {
     "data": {
      "text/html": [
       "<div>\n",
       "<style scoped>\n",
       "    .dataframe tbody tr th:only-of-type {\n",
       "        vertical-align: middle;\n",
       "    }\n",
       "\n",
       "    .dataframe tbody tr th {\n",
       "        vertical-align: top;\n",
       "    }\n",
       "\n",
       "    .dataframe thead th {\n",
       "        text-align: right;\n",
       "    }\n",
       "</style>\n",
       "<table border=\"1\" class=\"dataframe\">\n",
       "  <thead>\n",
       "    <tr style=\"text-align: right;\">\n",
       "      <th></th>\n",
       "      <th>Open</th>\n",
       "      <th>High</th>\n",
       "      <th>Low</th>\n",
       "      <th>Close</th>\n",
       "      <th>Volume</th>\n",
       "    </tr>\n",
       "  </thead>\n",
       "  <tbody>\n",
       "    <tr>\n",
       "      <th>count</th>\n",
       "      <td>1694.000000</td>\n",
       "      <td>1694.000000</td>\n",
       "      <td>1694.000000</td>\n",
       "      <td>1694.000000</td>\n",
       "      <td>1694.000000</td>\n",
       "    </tr>\n",
       "    <tr>\n",
       "      <th>mean</th>\n",
       "      <td>2058.668532</td>\n",
       "      <td>2140.089622</td>\n",
       "      <td>1968.085023</td>\n",
       "      <td>2062.146556</td>\n",
       "      <td>2163.887583</td>\n",
       "    </tr>\n",
       "    <tr>\n",
       "      <th>std</th>\n",
       "      <td>3395.859425</td>\n",
       "      <td>3551.203377</td>\n",
       "      <td>3208.844217</td>\n",
       "      <td>3396.090938</td>\n",
       "      <td>3425.162780</td>\n",
       "    </tr>\n",
       "    <tr>\n",
       "      <th>min</th>\n",
       "      <td>0.000000</td>\n",
       "      <td>0.000000</td>\n",
       "      <td>0.000000</td>\n",
       "      <td>0.000000</td>\n",
       "      <td>0.000000</td>\n",
       "    </tr>\n",
       "    <tr>\n",
       "      <th>25%</th>\n",
       "      <td>370.027505</td>\n",
       "      <td>379.242500</td>\n",
       "      <td>355.147925</td>\n",
       "      <td>370.000000</td>\n",
       "      <td>19.376938</td>\n",
       "    </tr>\n",
       "    <tr>\n",
       "      <th>50%</th>\n",
       "      <td>596.443135</td>\n",
       "      <td>611.718000</td>\n",
       "      <td>582.255000</td>\n",
       "      <td>596.443135</td>\n",
       "      <td>436.605280</td>\n",
       "    </tr>\n",
       "    <tr>\n",
       "      <th>75%</th>\n",
       "      <td>1229.670750</td>\n",
       "      <td>1250.608250</td>\n",
       "      <td>1204.255000</td>\n",
       "      <td>1228.750000</td>\n",
       "      <td>3200.011300</td>\n",
       "    </tr>\n",
       "    <tr>\n",
       "      <th>max</th>\n",
       "      <td>19356.900000</td>\n",
       "      <td>19660.000000</td>\n",
       "      <td>18567.100000</td>\n",
       "      <td>19356.900000</td>\n",
       "      <td>28280.848000</td>\n",
       "    </tr>\n",
       "  </tbody>\n",
       "</table>\n",
       "</div>"
      ],
      "text/plain": [
       "               Open          High           Low         Close        Volume\n",
       "count   1694.000000   1694.000000   1694.000000   1694.000000   1694.000000\n",
       "mean    2058.668532   2140.089622   1968.085023   2062.146556   2163.887583\n",
       "std     3395.859425   3551.203377   3208.844217   3396.090938   3425.162780\n",
       "min        0.000000      0.000000      0.000000      0.000000      0.000000\n",
       "25%      370.027505    379.242500    355.147925    370.000000     19.376938\n",
       "50%      596.443135    611.718000    582.255000    596.443135    436.605280\n",
       "75%     1229.670750   1250.608250   1204.255000   1228.750000   3200.011300\n",
       "max    19356.900000  19660.000000  18567.100000  19356.900000  28280.848000"
      ]
     },
     "execution_count": 5,
     "metadata": {},
     "output_type": "execute_result"
    }
   ],
   "source": [
    "dataset.describe()"
   ]
  },
  {
   "cell_type": "code",
   "execution_count": null,
   "metadata": {},
   "outputs": [],
   "source": []
  }
 ],
 "metadata": {
  "kernelspec": {
   "display_name": "Python 3",
   "language": "python",
   "name": "python3"
  },
  "language_info": {
   "codemirror_mode": {
    "name": "ipython",
    "version": 3
   },
   "file_extension": ".py",
   "mimetype": "text/x-python",
   "name": "python",
   "nbconvert_exporter": "python",
   "pygments_lexer": "ipython3",
   "version": "3.6.4"
  }
 },
 "nbformat": 4,
 "nbformat_minor": 1
}

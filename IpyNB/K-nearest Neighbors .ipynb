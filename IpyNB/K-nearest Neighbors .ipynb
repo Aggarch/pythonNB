{
 "cells": [
  {
   "cell_type": "markdown",
   "metadata": {},
   "source": [
    "# Vecinos más próximos\n",
    "\n",
    "\n",
    "## Introducción\n",
    "\n",
    "En este Notebook vamos a analizar el funcionamiento del algoritmo [vecinos más próximos](http://scikit-learn.org/stable/modules/neighbors.html) .\n",
    "\n",
    "\n",
    "## Vecinos más próximos (k-nn)\n",
    "\n",
    "Del inglés, *K-Nearest Neighbors*. Es un algoritmo que puede utilizarse tanto para regresión como para clasifiación. \n",
    "\n",
    "Conceptualmente, es muy sencillo: sea una observación $x_0$ (en verde en la figura), de la que queremos predecir a qué clase pertenece. Se identifican las $k$ muestras vecinas más cercanas a $x_0$, y se le asigna la clase más popular entre las muestras vecinas (*majority vote*):\n",
    "\n",
    "<img src=\"./figs/KnnClassification.png\"> Fuente: [Wikipedia](https://en.wikipedia.org/wiki/K-nearest_neighbors_algorithm)\n",
    "\n",
    "* Si $k=3$ (la vecindad viene marcada por la circunferencia de línea sólida), entonces $x_0$ se asigna a la clase triángulo rojo.\n",
    "\n",
    "* Si $k=5$ (la vecindad viene marcada por la circunferencia de línea punteada), entonces $x_0$ se asigna a la clase cuadrado azul."
   ]
  },
  {
   "cell_type": "code",
   "execution_count": 4,
   "metadata": {
    "collapsed": true
   },
   "outputs": [],
   "source": [
    "# cargamos librerías necesarias\n",
    "import pandas as pd\n",
    "import numpy as np\n",
    "import matplotlib.pyplot as plt\n",
    "from sklearn.model_selection import train_test_split\n",
    "from sklearn.metrics import scorer\n",
    "from sklearn.metrics import accuracy_score\n",
    "from sklearn import neighbors\n",
    "import sklearn.metrics as met\n",
    "from sklearn.metrics import confusion_matrix\n",
    "%matplotlib inline"
   ]
  },
  {
   "cell_type": "code",
   "execution_count": 7,
   "metadata": {
    "collapsed": false
   },
   "outputs": [],
   "source": [
    "db = pd.read_csv(\"ohlcdata.csv\")\n",
    "db= db.dropna()"
   ]
  },
  {
   "cell_type": "code",
   "execution_count": 10,
   "metadata": {
    "collapsed": false
   },
   "outputs": [
    {
     "data": {
      "text/html": [
       "<div>\n",
       "<table border=\"1\" class=\"dataframe\">\n",
       "  <thead>\n",
       "    <tr style=\"text-align: right;\">\n",
       "      <th></th>\n",
       "      <th>Date</th>\n",
       "      <th>Open</th>\n",
       "      <th>High</th>\n",
       "      <th>Low</th>\n",
       "      <th>Close</th>\n",
       "      <th>Volume</th>\n",
       "      <th>Adj Close</th>\n",
       "    </tr>\n",
       "  </thead>\n",
       "  <tbody>\n",
       "    <tr>\n",
       "      <th>0</th>\n",
       "      <td>2009-03-31</td>\n",
       "      <td>17.83</td>\n",
       "      <td>18.79</td>\n",
       "      <td>17.78</td>\n",
       "      <td>18.37</td>\n",
       "      <td>92095500</td>\n",
       "      <td>17.81</td>\n",
       "    </tr>\n",
       "    <tr>\n",
       "      <th>1</th>\n",
       "      <td>2009-03-30</td>\n",
       "      <td>17.74</td>\n",
       "      <td>17.76</td>\n",
       "      <td>17.27</td>\n",
       "      <td>17.48</td>\n",
       "      <td>49633000</td>\n",
       "      <td>16.95</td>\n",
       "    </tr>\n",
       "    <tr>\n",
       "      <th>2</th>\n",
       "      <td>2009-03-27</td>\n",
       "      <td>18.54</td>\n",
       "      <td>18.62</td>\n",
       "      <td>18.05</td>\n",
       "      <td>18.13</td>\n",
       "      <td>47670400</td>\n",
       "      <td>17.58</td>\n",
       "    </tr>\n",
       "    <tr>\n",
       "      <th>3</th>\n",
       "      <td>2009-03-26</td>\n",
       "      <td>18.17</td>\n",
       "      <td>18.88</td>\n",
       "      <td>18.12</td>\n",
       "      <td>18.83</td>\n",
       "      <td>63775100</td>\n",
       "      <td>18.26</td>\n",
       "    </tr>\n",
       "    <tr>\n",
       "      <th>4</th>\n",
       "      <td>2009-03-25</td>\n",
       "      <td>17.98</td>\n",
       "      <td>18.31</td>\n",
       "      <td>17.52</td>\n",
       "      <td>17.88</td>\n",
       "      <td>73927100</td>\n",
       "      <td>17.34</td>\n",
       "    </tr>\n",
       "    <tr>\n",
       "      <th>5</th>\n",
       "      <td>2009-03-24</td>\n",
       "      <td>18.04</td>\n",
       "      <td>18.21</td>\n",
       "      <td>17.84</td>\n",
       "      <td>17.93</td>\n",
       "      <td>50044100</td>\n",
       "      <td>17.39</td>\n",
       "    </tr>\n",
       "    <tr>\n",
       "      <th>6</th>\n",
       "      <td>2009-03-23</td>\n",
       "      <td>17.37</td>\n",
       "      <td>18.59</td>\n",
       "      <td>17.31</td>\n",
       "      <td>18.33</td>\n",
       "      <td>71600000</td>\n",
       "      <td>17.77</td>\n",
       "    </tr>\n",
       "    <tr>\n",
       "      <th>7</th>\n",
       "      <td>2009-03-20</td>\n",
       "      <td>17.32</td>\n",
       "      <td>17.65</td>\n",
       "      <td>16.88</td>\n",
       "      <td>17.06</td>\n",
       "      <td>81725500</td>\n",
       "      <td>16.54</td>\n",
       "    </tr>\n",
       "    <tr>\n",
       "      <th>8</th>\n",
       "      <td>2009-03-19</td>\n",
       "      <td>17.37</td>\n",
       "      <td>17.45</td>\n",
       "      <td>16.92</td>\n",
       "      <td>17.14</td>\n",
       "      <td>58994600</td>\n",
       "      <td>16.62</td>\n",
       "    </tr>\n",
       "    <tr>\n",
       "      <th>9</th>\n",
       "      <td>2009-03-18</td>\n",
       "      <td>17.03</td>\n",
       "      <td>17.22</td>\n",
       "      <td>16.60</td>\n",
       "      <td>16.96</td>\n",
       "      <td>70710700</td>\n",
       "      <td>16.45</td>\n",
       "    </tr>\n",
       "  </tbody>\n",
       "</table>\n",
       "</div>"
      ],
      "text/plain": [
       "         Date   Open   High    Low  Close    Volume  Adj Close\n",
       "0  2009-03-31  17.83  18.79  17.78  18.37  92095500      17.81\n",
       "1  2009-03-30  17.74  17.76  17.27  17.48  49633000      16.95\n",
       "2  2009-03-27  18.54  18.62  18.05  18.13  47670400      17.58\n",
       "3  2009-03-26  18.17  18.88  18.12  18.83  63775100      18.26\n",
       "4  2009-03-25  17.98  18.31  17.52  17.88  73927100      17.34\n",
       "5  2009-03-24  18.04  18.21  17.84  17.93  50044100      17.39\n",
       "6  2009-03-23  17.37  18.59  17.31  18.33  71600000      17.77\n",
       "7  2009-03-20  17.32  17.65  16.88  17.06  81725500      16.54\n",
       "8  2009-03-19  17.37  17.45  16.92  17.14  58994600      16.62\n",
       "9  2009-03-18  17.03  17.22  16.60  16.96  70710700      16.45"
      ]
     },
     "execution_count": 10,
     "metadata": {},
     "output_type": "execute_result"
    }
   ],
   "source": [
    "db.head(10)"
   ]
  },
  {
   "cell_type": "code",
   "execution_count": 9,
   "metadata": {
    "collapsed": false
   },
   "outputs": [
    {
     "data": {
      "text/plain": [
       "Date          object\n",
       "Open         float64\n",
       "High         float64\n",
       "Low          float64\n",
       "Close        float64\n",
       "Volume         int64\n",
       "Adj Close    float64\n",
       "dtype: object"
      ]
     },
     "execution_count": 9,
     "metadata": {},
     "output_type": "execute_result"
    }
   ],
   "source": [
    "db.dtypes"
   ]
  },
  {
   "cell_type": "code",
   "execution_count": 11,
   "metadata": {
    "collapsed": false
   },
   "outputs": [
    {
     "data": {
      "image/png": "[encoded data removed]",
      "text/plain": [
       "<matplotlib.figure.Figure at 0x7f525a904b50>"
      ]
     },
     "metadata": {},
     "output_type": "display_data"
    }
   ],
   "source": [
    "db.Close.plot(figsize=(10,5))\n",
    "plt.ylabel(\"Stock Price\")\n",
    "plt.show()"
   ]
  },
  {
   "cell_type": "code",
   "execution_count": 13,
   "metadata": {
    "collapsed": false
   },
   "outputs": [],
   "source": [
    "y = np.where(db['Close'].shift(-1) > db['Close'],1,-1)\n",
    "db['Open-Close'] = db.Open - db.Close\n",
    "db['High-Low'] = db.High - db.Low"
   ]
  },
  {
   "cell_type": "code",
   "execution_count": 16,
   "metadata": {
    "collapsed": false
   },
   "outputs": [],
   "source": [
    "X=db[['Open-Close','High-Low']]\n",
    "split_percentage = 0.8\n",
    "split = int(split_percentage*len(db))\n",
    "X_train = X[:split]\n",
    "y_train = y[:split]\n",
    "X_test = X[split:]\n",
    "y_test = y[split:]"
   ]
  },
  {
   "cell_type": "code",
   "execution_count": 18,
   "metadata": {
    "collapsed": false
   },
   "outputs": [
    {
     "name": "stdout",
     "output_type": "stream",
     "text": [
      "\n",
      "Train Accuracy: 87.50%\n",
      "Test Accuracy: 92.31%\n"
     ]
    }
   ],
   "source": [
    "clf=neighbors.KNeighborsClassifier()\n",
    "clf.fit(X_train,y_train)\n",
    "accuracy_train = accuracy_score(y_train, clf.predict(X_train))\n",
    "accuracy_test = accuracy_score(y_test, clf.predict(X_test))\n",
    "print('\\nTrain Accuracy:{: .2f}%'.format(accuracy_train*100))\n",
    "print('Test Accuracy:{: .2f}%'.format(accuracy_test*100))\n"
   ]
  },
  {
   "cell_type": "markdown",
   "metadata": {},
   "source": [
    "**Número de vecinos**\n",
    "\n",
    "Podemos modificar el número de vecinos $k$ del algoritmo k-nn implementado en scikit-learn mediante el parámetro *n_neighbors*. Por defecto, scikit-learn toma *n_neighbors* $=5$\n",
    "\n",
    "El número de vecinos que escojamos afecta significativamente a las prestaciones del algoritmo. Este parámetro es un compromiso entre los errores que cometemos (*accuracy*) y la complejidad del modelo (frontera de separación). \n",
    "\n",
    "- Cuanto mayor es el número de vecinos, menor será el sobreajuste pero potencialmente también se tendrá peor *accuracy*.\n",
    "\n",
    "- Cuanto menor es el número de vecinos, mayor será el sobreajuste pero potencialmente se mejorará la *accuracy*."
   ]
  },
  {
   "cell_type": "code",
   "execution_count": 21,
   "metadata": {
    "collapsed": false
   },
   "outputs": [
    {
     "name": "stdout",
     "output_type": "stream",
     "text": [
      "\n",
      "Train Accuracy: 81.25%\n",
      "Test Accuracy: 100.00%\n"
     ]
    }
   ],
   "source": [
    "# Complejidad mínima (ANTES DE EJECUTAR TRATA DE PENSAR CÓMO SERÁ EL RESULTADO!)\n",
    "# creamos el modelo y ajustamos\n",
    "\n",
    "\n",
    "clf=neighbors.KNeighborsClassifier(n_neighbors=20)\n",
    "clf.fit(X_train,y_train)\n",
    "accuracy_train = accuracy_score(y_train, clf.predict(X_train))\n",
    "accuracy_test = accuracy_score(y_test, clf.predict(X_test))\n",
    "print('\\nTrain Accuracy:{: .2f}%'.format(accuracy_train*100))\n",
    "print('Test Accuracy:{: .2f}%'.format(accuracy_test*100))\n"
   ]
  },
  {
   "cell_type": "markdown",
   "metadata": {},
   "source": [
    "- Cuanto menor es el número de vecinos, mayor será el sobreajuste pero potencialmente se mejorará la *accuracy*."
   ]
  },
  {
   "cell_type": "code",
   "execution_count": 24,
   "metadata": {
    "collapsed": false
   },
   "outputs": [
    {
     "name": "stdout",
     "output_type": "stream",
     "text": [
      "\n",
      "Train Accuracy: 100.00%\n",
      "Test Accuracy: 92.31%\n"
     ]
    }
   ],
   "source": [
    "# Complejidad alta\n",
    "clf=neighbors.KNeighborsClassifier(n_neighbors=1)\n",
    "clf.fit(X_train,y_train)\n",
    "accuracy_train = accuracy_score(y_train, clf.predict(X_train))\n",
    "accuracy_test = accuracy_score(y_test, clf.predict(X_test))\n",
    "print('\\nTrain Accuracy:{: .2f}%'.format(accuracy_train*100))\n",
    "print('Test Accuracy:{: .2f}%'.format(accuracy_test*100))"
   ]
  },
  {
   "cell_type": "markdown",
   "metadata": {},
   "source": [
    "## Conclusiones\n",
    "\n",
    "El algoritmo k-nn destaca por:\n",
    "\n",
    "1. Conceptualmente sencillo.\n",
    "2. Normalmente proporciona buenas prestaciones donde la frontera de separación es muy irregular.\n",
    "3. Computacionalmente intenso (hay que calcular la distancia entre todas las muestras)."
   ]
  },
  {
   "cell_type": "markdown",
   "metadata": {},
   "source": [
    "** IMPORTANT**\n",
    "Accuracy is the number of correct predictions made as a ratio of all predictions\n",
    "made. This is the most common evaluation metric for classi\f",
    "cation problems, it is also the most\n",
    "misused. It is really only suitable when there are an equal number of observations in each class\n",
    "(which is rarely the case) and that all predictions and prediction errors are equally important,\n",
    "which is often not the case."
   ]
  },
  {
   "cell_type": "code",
   "execution_count": null,
   "metadata": {
    "collapsed": true
   },
   "outputs": [],
   "source": []
  }
 ],
 "metadata": {
  "kernelspec": {
   "display_name": "Python 3",
   "language": "python",
   "name": "python3"
  },
  "language_info": {
   "codemirror_mode": {
    "name": "ipython",
    "version": 3
   },
   "file_extension": ".py",
   "mimetype": "text/x-python",
   "name": "python",
   "nbconvert_exporter": "python",
   "pygments_lexer": "ipython3",
   "version": "3.3.5"
  }
 },
 "nbformat": 4,
 "nbformat_minor": 0
}

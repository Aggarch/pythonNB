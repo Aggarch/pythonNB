{
 "cells": [
  {
   "cell_type": "markdown",
   "metadata": {},
   "source": [
    "# Resumen\n",
    "\n",
    "Hasta ahora hemos implementado distintos modelos de estimación o regresión:\n",
    "\n",
    "* Regresión lineal, de una variable\n",
    "* Regresión de varias variables\n",
    "* Regresión polinómica, incluyendo transformación de atributos e interacciones entre ellos.\n",
    "\n",
    "Para medir el error hemos utilizado el error cuadrático medio sobre **todas** las muestras de entrenamiento. En este Notebook, vamos a analizar las prestaciones de cuatro modelos de regresión, pero ya haciendolo bien, es decir con sus dataset de test y entrenamiento.\n",
    "\n",
    "* Modelo 1: utilizaremos el atributo *sqm_living* de manera aislada.\n",
    "* Modelo 2: utilizaremos las siguientes variables\n",
    "    * *price*, *sqm_living*, *bedrooms*, *bathrooms*, *floors*, *years*, *zip_code*\n",
    "* Modelo 3: utilizaremos las siguientes variables\n",
    "    * *price*, *sqm_living*, *bedrooms_squared*, *bed_bath_rooms*, *log_sqm_living*, *lat_plus_long*, *sqm_living*\n",
    " \n",
    "\n",
    "        * Elevar al cuadrado el número de habitaciones incrementará la separación entre viviendas de no muchas habitaciones,  y las viviendas con muchas habitaciones \n",
    "        * Multiplicar las variables bedrooms y bathrooms genera un atributo cuyo valor será grande cuando conjuntamente ambas variables lo sean.\n",
    "        * Utilizar el logaritmo del tamaño de la vivienda separa lo valores pequeños y agrupa los valores grandes.\n",
    "        * Sumar latitud y longitud no mucho tiene sentido, pero la añadimos igualmente para ver que supone no conocer el negocio\n",
    "* Modelo 4: utilizaremos las variables originales de la base de datos"
   ]
  },
  {
   "cell_type": "code",
   "execution_count": 20,
   "metadata": {},
   "outputs": [],
   "source": [
    "# cargamos librerías necesarias\n",
    "import numpy  as np  \n",
    "import pandas as pd\n",
    "\n",
    "import matplotlib.pyplot as plt # para dibujar\n",
    "%matplotlib inline\n",
    "\n",
    "from sklearn.linear_model import LinearRegression\n",
    "from sklearn.metrics import mean_squared_error\n",
    "\n",
    "from math import log"
   ]
  },
  {
   "cell_type": "markdown",
   "metadata": {},
   "source": [
    "## Cargar datos"
   ]
  },
  {
   "cell_type": "code",
   "execution_count": 8,
   "metadata": {},
   "outputs": [],
   "source": [
    "# cargamos fichero\n",
    "house_data = pd.read_csv(\"./data/house_data.csv\") \n",
    "\n",
    "# Eliminamos las columnas id y date \n",
    "house_data = house_data.drop(['id','date'], axis=1)\n",
    "\n",
    "# convertir las variables en pies al cuadrado en metros al cuadrado \n",
    "feetFeatures = ['sqft_living','sqft_lot','sqft_above','sqft_basement','sqft_living15','sqft_lot15']\n",
    "house_data[feetFeatures] = house_data[feetFeatures].apply(lambda x: x * 0.3048 * 0.3048)\n",
    "\n",
    "# renombramos\n",
    "house_data.columns = ['price','bedrooms','bathrooms','sqm_living','sqm_lot','floors','waterfront','view','condition',\n",
    "                      'grade','sqm_above','sqm_basement','yr_built','yr_renovated','zip_code','lat','long',\n",
    "                      'sqm_living15','sqm_lot15']\n",
    "\n",
    "# añadimos las nuevas variables\n",
    "house_data['years']            = 2018 - house_data['yr_built']\n",
    "house_data['bedrooms_squared'] = house_data['bedrooms'].apply(lambda x: x**2)\n",
    "house_data['bed_bath_rooms']   = house_data['bedrooms']*house_data['bathrooms']\n",
    "house_data['log_sqm_living']   = house_data['sqm_living'].apply(lambda x: log(x))\n",
    "house_data['lat_plus_long']    = house_data['lat']*house_data['long']"
   ]
  },
  {
   "cell_type": "code",
   "execution_count": 9,
   "metadata": {},
   "outputs": [
    {
     "data": {
      "text/html": [
       "<div>\n",
       "<style scoped>\n",
       "    .dataframe tbody tr th:only-of-type {\n",
       "        vertical-align: middle;\n",
       "    }\n",
       "\n",
       "    .dataframe tbody tr th {\n",
       "        vertical-align: top;\n",
       "    }\n",
       "\n",
       "    .dataframe thead th {\n",
       "        text-align: right;\n",
       "    }\n",
       "</style>\n",
       "<table border=\"1\" class=\"dataframe\">\n",
       "  <thead>\n",
       "    <tr style=\"text-align: right;\">\n",
       "      <th></th>\n",
       "      <th>price</th>\n",
       "      <th>bedrooms</th>\n",
       "      <th>bathrooms</th>\n",
       "      <th>sqm_living</th>\n",
       "      <th>sqm_lot</th>\n",
       "      <th>floors</th>\n",
       "      <th>waterfront</th>\n",
       "      <th>view</th>\n",
       "      <th>condition</th>\n",
       "      <th>grade</th>\n",
       "      <th>...</th>\n",
       "      <th>zip_code</th>\n",
       "      <th>lat</th>\n",
       "      <th>long</th>\n",
       "      <th>sqm_living15</th>\n",
       "      <th>sqm_lot15</th>\n",
       "      <th>years</th>\n",
       "      <th>bedrooms_squared</th>\n",
       "      <th>bed_bath_rooms</th>\n",
       "      <th>log_sqm_living</th>\n",
       "      <th>lat_plus_long</th>\n",
       "    </tr>\n",
       "  </thead>\n",
       "  <tbody>\n",
       "    <tr>\n",
       "      <th>0</th>\n",
       "      <td>221900.0</td>\n",
       "      <td>3</td>\n",
       "      <td>1.00</td>\n",
       "      <td>109.625587</td>\n",
       "      <td>524.902176</td>\n",
       "      <td>1.0</td>\n",
       "      <td>0</td>\n",
       "      <td>0</td>\n",
       "      <td>3</td>\n",
       "      <td>7</td>\n",
       "      <td>...</td>\n",
       "      <td>98178</td>\n",
       "      <td>47.5112</td>\n",
       "      <td>-122.257</td>\n",
       "      <td>124.490074</td>\n",
       "      <td>524.902176</td>\n",
       "      <td>62</td>\n",
       "      <td>9</td>\n",
       "      <td>3.00</td>\n",
       "      <td>4.697071</td>\n",
       "      <td>-5808.576778</td>\n",
       "    </tr>\n",
       "    <tr>\n",
       "      <th>1</th>\n",
       "      <td>538000.0</td>\n",
       "      <td>3</td>\n",
       "      <td>2.25</td>\n",
       "      <td>238.760813</td>\n",
       "      <td>672.803816</td>\n",
       "      <td>2.0</td>\n",
       "      <td>0</td>\n",
       "      <td>0</td>\n",
       "      <td>3</td>\n",
       "      <td>7</td>\n",
       "      <td>...</td>\n",
       "      <td>98125</td>\n",
       "      <td>47.7210</td>\n",
       "      <td>-122.319</td>\n",
       "      <td>157.006138</td>\n",
       "      <td>709.686323</td>\n",
       "      <td>66</td>\n",
       "      <td>9</td>\n",
       "      <td>6.75</td>\n",
       "      <td>5.475462</td>\n",
       "      <td>-5837.184999</td>\n",
       "    </tr>\n",
       "    <tr>\n",
       "      <th>2</th>\n",
       "      <td>180000.0</td>\n",
       "      <td>2</td>\n",
       "      <td>1.00</td>\n",
       "      <td>71.535341</td>\n",
       "      <td>929.030400</td>\n",
       "      <td>1.0</td>\n",
       "      <td>0</td>\n",
       "      <td>0</td>\n",
       "      <td>3</td>\n",
       "      <td>6</td>\n",
       "      <td>...</td>\n",
       "      <td>98028</td>\n",
       "      <td>47.7379</td>\n",
       "      <td>-122.233</td>\n",
       "      <td>252.696269</td>\n",
       "      <td>748.984308</td>\n",
       "      <td>84</td>\n",
       "      <td>4</td>\n",
       "      <td>2.00</td>\n",
       "      <td>4.270192</td>\n",
       "      <td>-5835.146731</td>\n",
       "    </tr>\n",
       "    <tr>\n",
       "      <th>3</th>\n",
       "      <td>604000.0</td>\n",
       "      <td>4</td>\n",
       "      <td>3.00</td>\n",
       "      <td>182.089958</td>\n",
       "      <td>464.515200</td>\n",
       "      <td>1.0</td>\n",
       "      <td>0</td>\n",
       "      <td>0</td>\n",
       "      <td>5</td>\n",
       "      <td>7</td>\n",
       "      <td>...</td>\n",
       "      <td>98136</td>\n",
       "      <td>47.5208</td>\n",
       "      <td>-122.393</td>\n",
       "      <td>126.348134</td>\n",
       "      <td>464.515200</td>\n",
       "      <td>52</td>\n",
       "      <td>16</td>\n",
       "      <td>12.00</td>\n",
       "      <td>5.204501</td>\n",
       "      <td>-5816.213274</td>\n",
       "    </tr>\n",
       "    <tr>\n",
       "      <th>4</th>\n",
       "      <td>510000.0</td>\n",
       "      <td>3</td>\n",
       "      <td>2.00</td>\n",
       "      <td>156.077107</td>\n",
       "      <td>750.656563</td>\n",
       "      <td>1.0</td>\n",
       "      <td>0</td>\n",
       "      <td>0</td>\n",
       "      <td>3</td>\n",
       "      <td>8</td>\n",
       "      <td>...</td>\n",
       "      <td>98074</td>\n",
       "      <td>47.6168</td>\n",
       "      <td>-122.045</td>\n",
       "      <td>167.225472</td>\n",
       "      <td>697.051509</td>\n",
       "      <td>30</td>\n",
       "      <td>9</td>\n",
       "      <td>6.00</td>\n",
       "      <td>5.050350</td>\n",
       "      <td>-5811.392356</td>\n",
       "    </tr>\n",
       "  </tbody>\n",
       "</table>\n",
       "<p>5 rows × 24 columns</p>\n",
       "</div>"
      ],
      "text/plain": [
       "      price  bedrooms  bathrooms  sqm_living     sqm_lot  floors  waterfront  \\\n",
       "0  221900.0         3       1.00  109.625587  524.902176     1.0           0   \n",
       "1  538000.0         3       2.25  238.760813  672.803816     2.0           0   \n",
       "2  180000.0         2       1.00   71.535341  929.030400     1.0           0   \n",
       "3  604000.0         4       3.00  182.089958  464.515200     1.0           0   \n",
       "4  510000.0         3       2.00  156.077107  750.656563     1.0           0   \n",
       "\n",
       "   view  condition  grade      ...        zip_code      lat     long  \\\n",
       "0     0          3      7      ...           98178  47.5112 -122.257   \n",
       "1     0          3      7      ...           98125  47.7210 -122.319   \n",
       "2     0          3      6      ...           98028  47.7379 -122.233   \n",
       "3     0          5      7      ...           98136  47.5208 -122.393   \n",
       "4     0          3      8      ...           98074  47.6168 -122.045   \n",
       "\n",
       "   sqm_living15   sqm_lot15  years  bedrooms_squared  bed_bath_rooms  \\\n",
       "0    124.490074  524.902176     62                 9            3.00   \n",
       "1    157.006138  709.686323     66                 9            6.75   \n",
       "2    252.696269  748.984308     84                 4            2.00   \n",
       "3    126.348134  464.515200     52                16           12.00   \n",
       "4    167.225472  697.051509     30                 9            6.00   \n",
       "\n",
       "   log_sqm_living  lat_plus_long  \n",
       "0        4.697071   -5808.576778  \n",
       "1        5.475462   -5837.184999  \n",
       "2        4.270192   -5835.146731  \n",
       "3        5.204501   -5816.213274  \n",
       "4        5.050350   -5811.392356  \n",
       "\n",
       "[5 rows x 24 columns]"
      ]
     },
     "execution_count": 9,
     "metadata": {},
     "output_type": "execute_result"
    }
   ],
   "source": [
    "house_data.head(5)"
   ]
  },
  {
   "cell_type": "markdown",
   "metadata": {},
   "source": [
    "## Entrenamiento/Test\n",
    "\n",
    "Dividamos los datos en un conjunto de entrenamiento y test"
   ]
  },
  {
   "cell_type": "code",
   "execution_count": 11,
   "metadata": {},
   "outputs": [
    {
     "name": "stdout",
     "output_type": "stream",
     "text": [
      "3165\n",
      "3164\n",
      "Datos entrenamiento:  (2373, 23)\n",
      "Datos test:  (791, 23)\n"
     ]
    }
   ],
   "source": [
    "from sklearn import preprocessing\n",
    "from sklearn.model_selection import train_test_split\n",
    "print(len(house_data))\n",
    "house_data =house_data.dropna()\n",
    "print(len(house_data))\n",
    "# convertimos el DataFrame al formato necesario para scikit-learn\n",
    "data = house_data.as_matrix() \n",
    "\n",
    "y = data[:,0:1]     # nos quedamos con la 1ª columna, price\n",
    "X = data[:,1:]     # nos quedamos con el resto (sqm_living)\n",
    "\n",
    "feature_names = house_data.columns[1:]\n",
    "\n",
    "# Dividimos los datos en entrenamiento y test\n",
    "Xtrain, Xtest, ytrain, ytest = train_test_split(X, y, test_size=.25, random_state = 2)\n",
    "\n",
    "print ('Datos entrenamiento: ', Xtrain.shape)\n",
    "print ('Datos test: ', Xtest.shape)\n",
    "\n",
    "# Escalamos (con los datos de train)\n",
    "scaler = preprocessing.StandardScaler().fit(Xtrain)\n",
    "XtrainScaled = scaler.transform(Xtrain)\n",
    "XtestScaled = scaler.transform(Xtest)"
   ]
  },
  {
   "cell_type": "markdown",
   "metadata": {},
   "source": [
    "<div class = \"alert alert-success\">\n",
    "¿Qué porcentaje de las muestras totales utilizamos para construir nuestro conjunto de test?\n",
    "</div>"
   ]
  },
  {
   "cell_type": "code",
   "execution_count": 13,
   "metadata": {},
   "outputs": [
    {
     "name": "stdout",
     "output_type": "stream",
     "text": [
      "MSE Modelo 1 (train): 7.29e+10\n",
      "MSE Modelo 1 (test) : 7.31e+10\n"
     ]
    }
   ],
   "source": [
    "# Modelo 1\n",
    "XtrainModel1 = XtrainScaled[:,2:3]\n",
    "XtestModel1 = XtestScaled[:,2:3]\n",
    "\n",
    "Model1 = LinearRegression()\n",
    "Model1.fit(XtrainModel1,ytrain)\n",
    "\n",
    "ytrain1 = Model1.predict(XtrainModel1)\n",
    "ytest1 = Model1.predict(XtestModel1)\n",
    "mseTrainModel1 = mean_squared_error(ytrain,ytrain1)\n",
    "mseTestModel1 = mean_squared_error(ytest,ytest1)\n",
    "\n",
    "print ('MSE Modelo 1 (train): %0.3g' % mseTrainModel1)\n",
    "print ('MSE Modelo 1 (test) : %0.3g' % mseTestModel1)"
   ]
  },
  {
   "cell_type": "code",
   "execution_count": 14,
   "metadata": {},
   "outputs": [
    {
     "name": "stdout",
     "output_type": "stream",
     "text": [
      "Index(['bedrooms', 'bathrooms', 'sqm_living', 'sqm_lot', 'floors',\n",
      "       'waterfront', 'view', 'condition', 'grade', 'sqm_above', 'sqm_basement',\n",
      "       'yr_built', 'yr_renovated', 'zip_code', 'lat', 'long', 'sqm_living15',\n",
      "       'sqm_lot15', 'years', 'bedrooms_squared', 'bed_bath_rooms',\n",
      "       'log_sqm_living', 'lat_plus_long'],\n",
      "      dtype='object')\n"
     ]
    }
   ],
   "source": [
    "print (feature_names)"
   ]
  },
  {
   "cell_type": "code",
   "execution_count": 16,
   "metadata": {},
   "outputs": [
    {
     "name": "stdout",
     "output_type": "stream",
     "text": [
      "MSE Modelo 2 (train): 6.34e+10\n",
      "MSE Modelo 2 (test) : 6.48e+10\n"
     ]
    }
   ],
   "source": [
    "# Modelo 2\n",
    "featuresModel2 = [0,1,2,4,13,18]\n",
    "#print 'Modelo entrenado con: ', feature_names[featuresModel2]\n",
    "\n",
    "XtrainModel2 = XtrainScaled[:,featuresModel2]\n",
    "XtestModel2 = XtestScaled[:,featuresModel2]\n",
    "\n",
    "Model2 = LinearRegression()\n",
    "Model2.fit(XtrainModel2,ytrain)\n",
    "\n",
    "ytrain2 = Model2.predict(XtrainModel2)\n",
    "ytest2  = Model2.predict(XtestModel2)\n",
    "mseTrainModel2 = mean_squared_error(ytrain,ytrain2)\n",
    "mseTestModel2 = mean_squared_error(ytest,ytest2)\n",
    "\n",
    "print ('MSE Modelo 2 (train): %0.3g' % mseTrainModel2)\n",
    "print ('MSE Modelo 2 (test) : %0.3g' % mseTestModel2)"
   ]
  },
  {
   "cell_type": "code",
   "execution_count": 17,
   "metadata": {},
   "outputs": [
    {
     "name": "stdout",
     "output_type": "stream",
     "text": [
      "MSE Modelo 3 (train): 5.36e+10\n",
      "MSE Modelo 3 (test) : 5.47e+10\n"
     ]
    }
   ],
   "source": [
    "# Modelo 3: price, sqm_living, bedrooms_squared, bed_bath_rooms, log_sqm_living, lat_plus_long, sqm_living\n",
    "featuresModel3 = [2,18,19,20,21,22]\n",
    "#print 'Modelo entrenado con: ', feature_names[featuresModel3]\n",
    "\n",
    "XtrainModel3 = XtrainScaled[:,featuresModel3]\n",
    "XtestModel3  = XtestScaled[:,featuresModel3]\n",
    "\n",
    "Model3 = LinearRegression()\n",
    "Model3.fit(XtrainModel3,ytrain)\n",
    "\n",
    "ytrain3 = Model3.predict(XtrainModel3)\n",
    "ytest3  = Model3.predict(XtestModel3)\n",
    "mseTrainModel3 = mean_squared_error(ytrain,ytrain3)\n",
    "mseTestModel3 = mean_squared_error(ytest,ytest3)\n",
    "\n",
    "print ('MSE Modelo 3 (train): %0.3g' % mseTrainModel3)\n",
    "print ('MSE Modelo 3 (test) : %0.3g' % mseTestModel3)"
   ]
  },
  {
   "cell_type": "code",
   "execution_count": 19,
   "metadata": {},
   "outputs": [
    {
     "name": "stdout",
     "output_type": "stream",
     "text": [
      "Modelo entrenado con:  Index(['bedrooms', 'bathrooms', 'sqm_living', 'sqm_lot', 'floors',\n",
      "       'waterfront', 'view', 'condition', 'grade', 'sqm_above', 'sqm_basement',\n",
      "       'yr_built', 'yr_renovated', 'zip_code', 'lat', 'long', 'sqm_living15',\n",
      "       'sqm_lot15'],\n",
      "      dtype='object')\n",
      "MSE Modelo 3 (train): 4.02e+10\n",
      "MSE Modelo 3 (test) : 4.28e+10\n"
     ]
    }
   ],
   "source": [
    "# Modelo 4: todas las características originales\n",
    "print ('Modelo entrenado con: ', feature_names[0:18])\n",
    "\n",
    "XtrainModel4 = XtrainScaled[:,0:18]\n",
    "XtestModel4  = XtestScaled[:,0:18]\n",
    "\n",
    "Model4 = LinearRegression()\n",
    "Model4.fit(XtrainModel4,ytrain)\n",
    "\n",
    "ytrain4 = Model4.predict(XtrainModel4)\n",
    "ytest4  = Model4.predict(XtestModel4)\n",
    "mseTrainModel4 = mean_squared_error(ytrain,ytrain4)\n",
    "mseTestModel4 = mean_squared_error(ytest,ytest4)\n",
    "\n",
    "print ('MSE Modelo 3 (train): %0.3g' % mseTrainModel4)\n",
    "print ('MSE Modelo 3 (test) : %0.3g' % mseTestModel4)"
   ]
  },
  {
   "cell_type": "markdown",
   "metadata": {},
   "source": [
    "### Ejercicio"
   ]
  },
  {
   "cell_type": "markdown",
   "metadata": {},
   "source": [
    "<div class = \"alert alert-success\">\n",
    "¿Qué modelo tiene menor error de entrenamiento? ¿Y cuál tiene menor error en test?\n",
    "</div>"
   ]
  }
 ],
 "metadata": {
  "kernelspec": {
   "display_name": "Python 3",
   "language": "python",
   "name": "python3"
  },
  "language_info": {
   "codemirror_mode": {
    "name": "ipython",
    "version": 3
   },
   "file_extension": ".py",
   "mimetype": "text/x-python",
   "name": "python",
   "nbconvert_exporter": "python",
   "pygments_lexer": "ipython3",
   "version": "3.6.4"
  }
 },
 "nbformat": 4,
 "nbformat_minor": 2
}

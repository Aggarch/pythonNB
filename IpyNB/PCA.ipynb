{
 "cells": [
  {
   "cell_type": "code",
   "execution_count": 4,
   "metadata": {},
   "outputs": [],
   "source": [
    "import pandas as pd\n",
    "import matplotlib.pyplot as plt\n",
    "%matplotlib inline\n",
    "import seaborn as sns; sns.set_style(\"whitegrid\")"
   ]
  },
  {
   "cell_type": "code",
   "execution_count": 48,
   "metadata": {},
   "outputs": [],
   "source": [
    "data_path='../data/'\n",
    "instrument='BTC'\n",
    "data  = pd.read_csv(data_path+instrument+'.csv', names=['date','open','high','low','close','volume','market cap'], skiprows=1,index_col=0, parse_dates=True)\n",
    "BTC=pd.DataFrame(data[[\"close\"]])\n",
    "\n",
    "\n",
    "instrument= \"XRP\"\n",
    "data  = pd.read_csv(data_path+instrument+'.csv', names=['date','open','high','low','close','volume','market cap'], skiprows=1,index_col=0, parse_dates=True)\n",
    "XRP=pd.DataFrame(data[[\"close\"]])\n",
    "\n",
    "instrument= \"ETH\"\n",
    "data  = pd.read_csv(data_path+instrument+'.csv', names=['date','open','high','low','close','volume','market cap'], skiprows=1,index_col=0, parse_dates=True)\n",
    "ETH=pd.DataFrame(data[[\"close\"]])\n",
    "\n",
    "instrument= \"BCH\"\n",
    "data2  = pd.read_csv(data_path+instrument+'.csv', names=['date','open','high','low','close','volume','market cap'], skiprows=1,index_col=0, parse_dates=True)\n",
    "BCH=pd.DataFrame(data[[\"close\"]])\n",
    "\n",
    "\n",
    "instrument= \"LTC\"\n",
    "data  = pd.read_csv(data_path+instrument+'.csv', names=['date','open','high','low','close','volume','market cap'], skiprows=1,index_col=0, parse_dates=True)\n",
    "LTC=pd.DataFrame(data[[\"close\"]])\n",
    "\n",
    "close= pd.concat([BTC, ETH,  XRP,BCH,LTC], axis=1)\n",
    "close.columns= [ \"BTC\", \"ETH\",  \"XRP\",\"BCH\",\"LTC\"]\n",
    "close=close.dropna()"
   ]
  },
  {
   "cell_type": "code",
   "execution_count": 49,
   "metadata": {},
   "outputs": [
    {
     "data": {
      "text/html": [
       "<div>\n",
       "<style scoped>\n",
       "    .dataframe tbody tr th:only-of-type {\n",
       "        vertical-align: middle;\n",
       "    }\n",
       "\n",
       "    .dataframe tbody tr th {\n",
       "        vertical-align: top;\n",
       "    }\n",
       "\n",
       "    .dataframe thead th {\n",
       "        text-align: right;\n",
       "    }\n",
       "</style>\n",
       "<table border=\"1\" class=\"dataframe\">\n",
       "  <thead>\n",
       "    <tr style=\"text-align: right;\">\n",
       "      <th></th>\n",
       "      <th>BTC</th>\n",
       "      <th>ETH</th>\n",
       "      <th>XRP</th>\n",
       "      <th>BCH</th>\n",
       "      <th>LTC</th>\n",
       "    </tr>\n",
       "    <tr>\n",
       "      <th>date</th>\n",
       "      <th></th>\n",
       "      <th></th>\n",
       "      <th></th>\n",
       "      <th></th>\n",
       "      <th></th>\n",
       "    </tr>\n",
       "  </thead>\n",
       "  <tbody>\n",
       "    <tr>\n",
       "      <th>2015-08-07</th>\n",
       "      <td>279.58</td>\n",
       "      <td>2.770000</td>\n",
       "      <td>0.008152</td>\n",
       "      <td>2.770000</td>\n",
       "      <td>4.21</td>\n",
       "    </tr>\n",
       "    <tr>\n",
       "      <th>2015-08-08</th>\n",
       "      <td>261.00</td>\n",
       "      <td>0.753325</td>\n",
       "      <td>0.008476</td>\n",
       "      <td>0.753325</td>\n",
       "      <td>3.85</td>\n",
       "    </tr>\n",
       "    <tr>\n",
       "      <th>2015-08-09</th>\n",
       "      <td>265.08</td>\n",
       "      <td>0.701897</td>\n",
       "      <td>0.008808</td>\n",
       "      <td>0.701897</td>\n",
       "      <td>3.90</td>\n",
       "    </tr>\n",
       "    <tr>\n",
       "      <th>2015-08-10</th>\n",
       "      <td>264.47</td>\n",
       "      <td>0.708448</td>\n",
       "      <td>0.008750</td>\n",
       "      <td>0.708448</td>\n",
       "      <td>3.95</td>\n",
       "    </tr>\n",
       "    <tr>\n",
       "      <th>2015-08-11</th>\n",
       "      <td>270.39</td>\n",
       "      <td>1.070000</td>\n",
       "      <td>0.008591</td>\n",
       "      <td>1.070000</td>\n",
       "      <td>4.16</td>\n",
       "    </tr>\n",
       "    <tr>\n",
       "      <th>2015-08-12</th>\n",
       "      <td>266.38</td>\n",
       "      <td>1.220000</td>\n",
       "      <td>0.008271</td>\n",
       "      <td>1.220000</td>\n",
       "      <td>3.99</td>\n",
       "    </tr>\n",
       "    <tr>\n",
       "      <th>2015-08-13</th>\n",
       "      <td>264.08</td>\n",
       "      <td>1.830000</td>\n",
       "      <td>0.008147</td>\n",
       "      <td>1.830000</td>\n",
       "      <td>3.88</td>\n",
       "    </tr>\n",
       "    <tr>\n",
       "      <th>2015-08-14</th>\n",
       "      <td>265.68</td>\n",
       "      <td>1.830000</td>\n",
       "      <td>0.008337</td>\n",
       "      <td>1.830000</td>\n",
       "      <td>4.03</td>\n",
       "    </tr>\n",
       "    <tr>\n",
       "      <th>2015-08-15</th>\n",
       "      <td>261.55</td>\n",
       "      <td>1.690000</td>\n",
       "      <td>0.008420</td>\n",
       "      <td>1.690000</td>\n",
       "      <td>3.93</td>\n",
       "    </tr>\n",
       "    <tr>\n",
       "      <th>2015-08-16</th>\n",
       "      <td>258.51</td>\n",
       "      <td>1.570000</td>\n",
       "      <td>0.008315</td>\n",
       "      <td>1.570000</td>\n",
       "      <td>3.95</td>\n",
       "    </tr>\n",
       "  </tbody>\n",
       "</table>\n",
       "</div>"
      ],
      "text/plain": [
       "               BTC       ETH       XRP       BCH   LTC\n",
       "date                                                  \n",
       "2015-08-07  279.58  2.770000  0.008152  2.770000  4.21\n",
       "2015-08-08  261.00  0.753325  0.008476  0.753325  3.85\n",
       "2015-08-09  265.08  0.701897  0.008808  0.701897  3.90\n",
       "2015-08-10  264.47  0.708448  0.008750  0.708448  3.95\n",
       "2015-08-11  270.39  1.070000  0.008591  1.070000  4.16\n",
       "2015-08-12  266.38  1.220000  0.008271  1.220000  3.99\n",
       "2015-08-13  264.08  1.830000  0.008147  1.830000  3.88\n",
       "2015-08-14  265.68  1.830000  0.008337  1.830000  4.03\n",
       "2015-08-15  261.55  1.690000  0.008420  1.690000  3.93\n",
       "2015-08-16  258.51  1.570000  0.008315  1.570000  3.95"
      ]
     },
     "execution_count": 49,
     "metadata": {},
     "output_type": "execute_result"
    }
   ],
   "source": [
    "close.head(10)"
   ]
  },
  {
   "cell_type": "code",
   "execution_count": 50,
   "metadata": {},
   "outputs": [
    {
     "name": "stdout",
     "output_type": "stream",
     "text": [
      "885\n",
      "5\n",
      "100.00% of the variance is explained by the first 2 PCs\n"
     ]
    }
   ],
   "source": [
    "from sklearn.decomposition import PCA\n",
    "import numpy as np\n",
    "num_pc = 2\n",
    "\n",
    "X = np.asarray(close)\n",
    "[n,m] = X.shape\n",
    "print (format(n))\n",
    "print (format(m))\n",
    "\n",
    "pca = PCA(n_components=num_pc) # number of principal components\n",
    "pca.fit(X)\n",
    "\n",
    "percentage =  pca.explained_variance_ratio_\n",
    "percentage_cum = np.cumsum(percentage)\n",
    "print ('{0:.2f}% of the variance is explained by the first 2 PCs'.format(percentage_cum[-1]*100))\n",
    "\n",
    "pca_components = pca.components_"
   ]
  },
  {
   "cell_type": "code",
   "execution_count": 51,
   "metadata": {},
   "outputs": [
    {
     "data": {
      "image/png": "[encoded data removed]",
      "text/plain": [
       "<matplotlib.figure.Figure at 0x26559cdb710>"
      ]
     },
     "metadata": {},
     "output_type": "display_data"
    }
   ],
   "source": [
    "x = np.arange(1,len(percentage)+1,1)\n",
    "\n",
    "plt.subplot(1, 2, 1)\n",
    "plt.bar(x, percentage*100, align = \"center\")\n",
    "plt.title('Contribution of principal components',fontsize = 16)\n",
    "plt.xlabel('principal components',fontsize = 16)\n",
    "plt.ylabel('percentage',fontsize = 16)\n",
    "plt.xticks(x,fontsize = 16) \n",
    "plt.yticks(fontsize = 16)\n",
    "plt.xlim([0, num_pc+1])\n",
    "\n",
    "plt.subplot(1, 2, 2)\n",
    "plt.plot(x, percentage_cum*100,'ro-')\n",
    "plt.xlabel('principal components',fontsize = 16)\n",
    "plt.ylabel('percentage',fontsize = 16)\n",
    "plt.title('Cumulative contribution of principal components',fontsize = 16)\n",
    "plt.xticks(x,fontsize = 16) \n",
    "plt.yticks(fontsize = 16)\n",
    "plt.xlim([1, num_pc])\n",
    "plt.ylim([50,100]);"
   ]
  },
  {
   "cell_type": "code",
   "execution_count": 52,
   "metadata": {},
   "outputs": [
    {
     "data": {
      "text/html": [
       "<div>\n",
       "<style scoped>\n",
       "    .dataframe tbody tr th:only-of-type {\n",
       "        vertical-align: middle;\n",
       "    }\n",
       "\n",
       "    .dataframe tbody tr th {\n",
       "        vertical-align: top;\n",
       "    }\n",
       "\n",
       "    .dataframe thead th {\n",
       "        text-align: right;\n",
       "    }\n",
       "</style>\n",
       "<table border=\"1\" class=\"dataframe\">\n",
       "  <thead>\n",
       "    <tr style=\"text-align: right;\">\n",
       "      <th></th>\n",
       "      <th>factor 1</th>\n",
       "      <th>factor 2</th>\n",
       "    </tr>\n",
       "    <tr>\n",
       "      <th>date</th>\n",
       "      <th></th>\n",
       "      <th></th>\n",
       "    </tr>\n",
       "  </thead>\n",
       "  <tbody>\n",
       "    <tr>\n",
       "      <th>2015-08-07</th>\n",
       "      <td>279.206923</td>\n",
       "      <td>15.504213</td>\n",
       "    </tr>\n",
       "    <tr>\n",
       "      <th>2015-08-08</th>\n",
       "      <td>260.470282</td>\n",
       "      <td>17.059271</td>\n",
       "    </tr>\n",
       "    <tr>\n",
       "      <th>2015-08-09</th>\n",
       "      <td>264.535636</td>\n",
       "      <td>17.415555</td>\n",
       "    </tr>\n",
       "    <tr>\n",
       "      <th>2015-08-10</th>\n",
       "      <td>263.928550</td>\n",
       "      <td>17.360463</td>\n",
       "    </tr>\n",
       "    <tr>\n",
       "      <th>2015-08-11</th>\n",
       "      <td>269.872203</td>\n",
       "      <td>17.255016</td>\n",
       "    </tr>\n",
       "  </tbody>\n",
       "</table>\n",
       "</div>"
      ],
      "text/plain": [
       "              factor 1   factor 2\n",
       "date                             \n",
       "2015-08-07  279.206923  15.504213\n",
       "2015-08-08  260.470282  17.059271\n",
       "2015-08-09  264.535636  17.415555\n",
       "2015-08-10  263.928550  17.360463\n",
       "2015-08-11  269.872203  17.255016"
      ]
     },
     "execution_count": 52,
     "metadata": {},
     "output_type": "execute_result"
    }
   ],
   "source": [
    "factor_returns = X.dot(pca_components.T)\n",
    "factor_returns = pd.DataFrame(columns=[\"factor 1\", \"factor 2\"], \n",
    "                              index=close.index,\n",
    "                              data=factor_returns)\n",
    "factor_returns.head()"
   ]
  },
  {
   "cell_type": "code",
   "execution_count": 53,
   "metadata": {},
   "outputs": [],
   "source": [
    "factor_exposures = pd.DataFrame(index=[\"factor 1\", \"factor 2\"], \n",
    "                                columns=close.columns,\n",
    "                                data = pca.components_).T"
   ]
  },
  {
   "cell_type": "code",
   "execution_count": 54,
   "metadata": {},
   "outputs": [
    {
     "data": {
      "text/html": [
       "<div>\n",
       "<style scoped>\n",
       "    .dataframe tbody tr th:only-of-type {\n",
       "        vertical-align: middle;\n",
       "    }\n",
       "\n",
       "    .dataframe tbody tr th {\n",
       "        vertical-align: top;\n",
       "    }\n",
       "\n",
       "    .dataframe thead th {\n",
       "        text-align: right;\n",
       "    }\n",
       "</style>\n",
       "<table border=\"1\" class=\"dataframe\">\n",
       "  <thead>\n",
       "    <tr style=\"text-align: right;\">\n",
       "      <th></th>\n",
       "      <th>factor 1</th>\n",
       "      <th>factor 2</th>\n",
       "    </tr>\n",
       "  </thead>\n",
       "  <tbody>\n",
       "    <tr>\n",
       "      <th>BTC</th>\n",
       "      <td>0.997472</td>\n",
       "      <td>0.070305</td>\n",
       "    </tr>\n",
       "    <tr>\n",
       "      <th>ETH</th>\n",
       "      <td>0.049184</td>\n",
       "      <td>-0.704096</td>\n",
       "    </tr>\n",
       "    <tr>\n",
       "      <th>XRP</th>\n",
       "      <td>0.000071</td>\n",
       "      <td>-0.001201</td>\n",
       "    </tr>\n",
       "    <tr>\n",
       "      <th>BCH</th>\n",
       "      <td>0.049184</td>\n",
       "      <td>-0.704096</td>\n",
       "    </tr>\n",
       "    <tr>\n",
       "      <th>LTC</th>\n",
       "      <td>0.014539</td>\n",
       "      <td>-0.059613</td>\n",
       "    </tr>\n",
       "  </tbody>\n",
       "</table>\n",
       "</div>"
      ],
      "text/plain": [
       "     factor 1  factor 2\n",
       "BTC  0.997472  0.070305\n",
       "ETH  0.049184 -0.704096\n",
       "XRP  0.000071 -0.001201\n",
       "BCH  0.049184 -0.704096\n",
       "LTC  0.014539 -0.059613"
      ]
     },
     "execution_count": 54,
     "metadata": {},
     "output_type": "execute_result"
    }
   ],
   "source": [
    "factor_exposures"
   ]
  },
  {
   "cell_type": "code",
   "execution_count": 55,
   "metadata": {},
   "outputs": [],
   "source": [
    "labels = factor_exposures.index\n",
    "data = factor_exposures.values"
   ]
  },
  {
   "cell_type": "code",
   "execution_count": 56,
   "metadata": {},
   "outputs": [
    {
     "data": {
      "image/png": "[encoded data removed]",
      "text/plain": [
       "<matplotlib.figure.Figure at 0x26559bc1080>"
      ]
     },
     "metadata": {},
     "output_type": "display_data"
    }
   ],
   "source": [
    "plt.subplots_adjust(bottom = 0.1)\n",
    "plt.scatter(\n",
    "    data[:, 0], data[:, 1], marker='o', s=300, c='m',\n",
    "    cmap=plt.get_cmap('Spectral'))\n",
    "plt.title('Scatter Plot of Coefficients of PC1 and PC2')\n",
    "plt.xlabel('factor exposure of PC1')\n",
    "plt.ylabel('factor exposure of PC2')\n",
    "\n",
    "for label, x, y in zip(labels, data[:, 0], data[:, 1]):\n",
    "    plt.annotate(\n",
    "        label,\n",
    "        xy=(x, y), xytext=(-20, 20),\n",
    "        textcoords='offset points', ha='right', va='bottom',\n",
    "        bbox=dict(boxstyle='round,pad=0.5', fc='yellow', alpha=0.5),\n",
    "        arrowprops=dict(arrowstyle = '->', connectionstyle='arc3,rad=0')\n",
    "    );"
   ]
  },
  {
   "cell_type": "code",
   "execution_count": null,
   "metadata": {},
   "outputs": [],
   "source": []
  }
 ],
 "metadata": {
  "kernelspec": {
   "display_name": "Python 3",
   "language": "python",
   "name": "python3"
  },
  "language_info": {
   "codemirror_mode": {
    "name": "ipython",
    "version": 3
   },
   "file_extension": ".py",
   "mimetype": "text/x-python",
   "name": "python",
   "nbconvert_exporter": "python",
   "pygments_lexer": "ipython3",
   "version": "3.6.4"
  }
 },
 "nbformat": 4,
 "nbformat_minor": 2
}

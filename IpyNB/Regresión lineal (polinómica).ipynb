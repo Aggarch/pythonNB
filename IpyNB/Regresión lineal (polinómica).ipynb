{
 "cells": [
  {
   "cell_type": "markdown",
   "metadata": {},
   "source": [
    "# Regresión lineal (polinómica)\n",
    "\n",
    "En este caso, vamos a estimar el precio de una vivienda utilizando transformaciones sobre las variables. De nuevo, utilizaremos la base de datos de viviendas [House Sales in King COunty, USA](https://www.kaggle.com/harlfoxem/housesalesprediction).\n",
    "\n",
    "### La dependencia entre la variable de respuesta y la regresora frecuentemente no es lineal.\n",
    "\n",
    "¿Cómo determinar la significancia de la desviación del supuesto de linearidad?\n",
    "\n",
    "Una de las maneras más sencillas es usando la regresión polinomial"
   ]
  },
  {
   "cell_type": "code",
   "execution_count": 1,
   "metadata": {},
   "outputs": [],
   "source": [
    "# cargamos librerías necesarias\n",
    "import numpy  as np  \n",
    "import pandas as pd\n",
    "\n",
    "import matplotlib.pyplot as plt # para dibujar\n",
    "%matplotlib inline"
   ]
  },
  {
   "cell_type": "markdown",
   "metadata": {},
   "source": [
    "## Cargar datos"
   ]
  },
  {
   "cell_type": "code",
   "execution_count": 2,
   "metadata": {},
   "outputs": [],
   "source": [
    "# cargamos fichero\n",
    "house_data = pd.read_csv(\"../data/house_data.csv\") \n",
    "\n",
    "# Eliminamos las columnas id y date \n",
    "house_data = house_data.drop(['id','date'], axis=1)\n",
    "\n",
    "# convertir las variables en pies al cuadrado en metros al cuadrado \n",
    "feetFeatures = ['sqft_living','sqft_lot','sqft_above','sqft_basement','sqft_living15','sqft_lot15']\n",
    "house_data[feetFeatures] = house_data[feetFeatures].apply(lambda x: x * 0.3048 * 0.3048)\n",
    "\n",
    "# renombramos\n",
    "house_data.columns = ['price','bedrooms','bathrooms','sqm_living','sqm_lot','floors','waterfront','view','condition',\n",
    "                      'grade','sqm_above','sqm_basement','yr_built','yr_renovated','zip_code','lat','long',\n",
    "                      'sqm_living15','sqm_lot15']\n",
    "\n",
    "# añadimos esta nueva variable\n",
    "house_data['years'] = 2018 - house_data['yr_built']"
   ]
  },
  {
   "cell_type": "code",
   "execution_count": 3,
   "metadata": {},
   "outputs": [
    {
     "data": {
      "text/html": [
       "<div>\n",
       "<style scoped>\n",
       "    .dataframe tbody tr th:only-of-type {\n",
       "        vertical-align: middle;\n",
       "    }\n",
       "\n",
       "    .dataframe tbody tr th {\n",
       "        vertical-align: top;\n",
       "    }\n",
       "\n",
       "    .dataframe thead th {\n",
       "        text-align: right;\n",
       "    }\n",
       "</style>\n",
       "<table border=\"1\" class=\"dataframe\">\n",
       "  <thead>\n",
       "    <tr style=\"text-align: right;\">\n",
       "      <th></th>\n",
       "      <th>price</th>\n",
       "      <th>bedrooms</th>\n",
       "      <th>bathrooms</th>\n",
       "      <th>sqm_living</th>\n",
       "      <th>sqm_lot</th>\n",
       "      <th>floors</th>\n",
       "      <th>waterfront</th>\n",
       "      <th>view</th>\n",
       "      <th>condition</th>\n",
       "      <th>grade</th>\n",
       "      <th>sqm_above</th>\n",
       "      <th>sqm_basement</th>\n",
       "      <th>yr_built</th>\n",
       "      <th>yr_renovated</th>\n",
       "      <th>zip_code</th>\n",
       "      <th>lat</th>\n",
       "      <th>long</th>\n",
       "      <th>sqm_living15</th>\n",
       "      <th>sqm_lot15</th>\n",
       "      <th>years</th>\n",
       "    </tr>\n",
       "  </thead>\n",
       "  <tbody>\n",
       "    <tr>\n",
       "      <th>0</th>\n",
       "      <td>221900.0</td>\n",
       "      <td>3</td>\n",
       "      <td>1.00</td>\n",
       "      <td>109.625587</td>\n",
       "      <td>524.902176</td>\n",
       "      <td>1.0</td>\n",
       "      <td>0</td>\n",
       "      <td>0</td>\n",
       "      <td>3</td>\n",
       "      <td>7</td>\n",
       "      <td>109.625587</td>\n",
       "      <td>0.000000</td>\n",
       "      <td>1955</td>\n",
       "      <td>0</td>\n",
       "      <td>98178</td>\n",
       "      <td>47.5112</td>\n",
       "      <td>-122.257</td>\n",
       "      <td>124.490074</td>\n",
       "      <td>524.902176</td>\n",
       "      <td>63</td>\n",
       "    </tr>\n",
       "    <tr>\n",
       "      <th>1</th>\n",
       "      <td>538000.0</td>\n",
       "      <td>3</td>\n",
       "      <td>2.25</td>\n",
       "      <td>238.760813</td>\n",
       "      <td>672.803816</td>\n",
       "      <td>2.0</td>\n",
       "      <td>0</td>\n",
       "      <td>0</td>\n",
       "      <td>3</td>\n",
       "      <td>7</td>\n",
       "      <td>201.599597</td>\n",
       "      <td>37.161216</td>\n",
       "      <td>1951</td>\n",
       "      <td>1991</td>\n",
       "      <td>98125</td>\n",
       "      <td>47.7210</td>\n",
       "      <td>-122.319</td>\n",
       "      <td>157.006138</td>\n",
       "      <td>709.686323</td>\n",
       "      <td>67</td>\n",
       "    </tr>\n",
       "    <tr>\n",
       "      <th>2</th>\n",
       "      <td>180000.0</td>\n",
       "      <td>2</td>\n",
       "      <td>1.00</td>\n",
       "      <td>71.535341</td>\n",
       "      <td>929.030400</td>\n",
       "      <td>1.0</td>\n",
       "      <td>0</td>\n",
       "      <td>0</td>\n",
       "      <td>3</td>\n",
       "      <td>6</td>\n",
       "      <td>71.535341</td>\n",
       "      <td>0.000000</td>\n",
       "      <td>1933</td>\n",
       "      <td>0</td>\n",
       "      <td>98028</td>\n",
       "      <td>47.7379</td>\n",
       "      <td>-122.233</td>\n",
       "      <td>252.696269</td>\n",
       "      <td>748.984308</td>\n",
       "      <td>85</td>\n",
       "    </tr>\n",
       "    <tr>\n",
       "      <th>3</th>\n",
       "      <td>604000.0</td>\n",
       "      <td>4</td>\n",
       "      <td>3.00</td>\n",
       "      <td>182.089958</td>\n",
       "      <td>464.515200</td>\n",
       "      <td>1.0</td>\n",
       "      <td>0</td>\n",
       "      <td>0</td>\n",
       "      <td>5</td>\n",
       "      <td>7</td>\n",
       "      <td>97.548192</td>\n",
       "      <td>84.541766</td>\n",
       "      <td>1965</td>\n",
       "      <td>0</td>\n",
       "      <td>98136</td>\n",
       "      <td>47.5208</td>\n",
       "      <td>-122.393</td>\n",
       "      <td>126.348134</td>\n",
       "      <td>464.515200</td>\n",
       "      <td>53</td>\n",
       "    </tr>\n",
       "    <tr>\n",
       "      <th>4</th>\n",
       "      <td>510000.0</td>\n",
       "      <td>3</td>\n",
       "      <td>2.00</td>\n",
       "      <td>156.077107</td>\n",
       "      <td>750.656563</td>\n",
       "      <td>1.0</td>\n",
       "      <td>0</td>\n",
       "      <td>0</td>\n",
       "      <td>3</td>\n",
       "      <td>8</td>\n",
       "      <td>156.077107</td>\n",
       "      <td>0.000000</td>\n",
       "      <td>1987</td>\n",
       "      <td>0</td>\n",
       "      <td>98074</td>\n",
       "      <td>47.6168</td>\n",
       "      <td>-122.045</td>\n",
       "      <td>167.225472</td>\n",
       "      <td>697.051509</td>\n",
       "      <td>31</td>\n",
       "    </tr>\n",
       "  </tbody>\n",
       "</table>\n",
       "</div>"
      ],
      "text/plain": [
       "      price  bedrooms  bathrooms  sqm_living     sqm_lot  floors  waterfront  \\\n",
       "0  221900.0         3       1.00  109.625587  524.902176     1.0           0   \n",
       "1  538000.0         3       2.25  238.760813  672.803816     2.0           0   \n",
       "2  180000.0         2       1.00   71.535341  929.030400     1.0           0   \n",
       "3  604000.0         4       3.00  182.089958  464.515200     1.0           0   \n",
       "4  510000.0         3       2.00  156.077107  750.656563     1.0           0   \n",
       "\n",
       "   view  condition  grade   sqm_above  sqm_basement  yr_built  yr_renovated  \\\n",
       "0     0          3      7  109.625587      0.000000      1955             0   \n",
       "1     0          3      7  201.599597     37.161216      1951          1991   \n",
       "2     0          3      6   71.535341      0.000000      1933             0   \n",
       "3     0          5      7   97.548192     84.541766      1965             0   \n",
       "4     0          3      8  156.077107      0.000000      1987             0   \n",
       "\n",
       "   zip_code      lat     long  sqm_living15   sqm_lot15  years  \n",
       "0     98178  47.5112 -122.257    124.490074  524.902176     63  \n",
       "1     98125  47.7210 -122.319    157.006138  709.686323     67  \n",
       "2     98028  47.7379 -122.233    252.696269  748.984308     85  \n",
       "3     98136  47.5208 -122.393    126.348134  464.515200     53  \n",
       "4     98074  47.6168 -122.045    167.225472  697.051509     31  "
      ]
     },
     "execution_count": 3,
     "metadata": {},
     "output_type": "execute_result"
    }
   ],
   "source": [
    "house_data.head(5)"
   ]
  },
  {
   "cell_type": "markdown",
   "metadata": {},
   "source": [
    "## Regresión lineal (polinómica)\n",
    "\n",
    "En primer lugar, vamos a utilizar sólo la variable $x = $*sqm_living* y potencias de la misma, para predecir $y = $*price*, de tal forma que  $$y=\\omega_0 + \\omega_1x + \\omega_2 x^2 + \\omega_3 x^3 + \\omega_4 x^4 + \\ldots$$"
   ]
  },
  {
   "cell_type": "code",
   "execution_count": 4,
   "metadata": {},
   "outputs": [],
   "source": [
    "myFeatures = ['price','sqm_living']\n",
    "\n",
    "# convertimos el DataFrame al formato necesario para scikit-learn\n",
    "data = house_data[myFeatures].as_matrix() \n",
    "\n",
    "y = data[:,0:1]     # nos quedamos con la 1ª columna, price\n",
    "x = data[:,1:]     # nos quedamos con el resto (sqm_living)"
   ]
  },
  {
   "cell_type": "code",
   "execution_count": 5,
   "metadata": {},
   "outputs": [],
   "source": [
    "from sklearn.preprocessing import PolynomialFeatures\n",
    "\n",
    "# modelo lineal y = w0 + w1 x\n",
    "X1 = x \n",
    "# modelo cuadrático y = w0 + w1 x + w2 x^2\n",
    "X2 = PolynomialFeatures(2,include_bias = False).fit_transform(x)\n",
    "# modelo cúbico y = w0 + w1 x + w2 x^2 + w3 x^3\n",
    "X3 = PolynomialFeatures(3,include_bias = False).fit_transform(x)\n",
    "# modelo orden 15 y = w0 + w1 x + w2 x^2 + w3 x^3 + ... + w15 x^15\n",
    "X15 = PolynomialFeatures(15,include_bias = False).fit_transform(x)"
   ]
  },
  {
   "cell_type": "markdown",
   "metadata": {},
   "source": [
    "### Entrenamiento "
   ]
  },
  {
   "cell_type": "code",
   "execution_count": 6,
   "metadata": {},
   "outputs": [
    {
     "data": {
      "text/plain": [
       "LinearRegression(copy_X=True, fit_intercept=True, n_jobs=1, normalize=False)"
      ]
     },
     "execution_count": 6,
     "metadata": {},
     "output_type": "execute_result"
    }
   ],
   "source": [
    "# 1. Cargamos librería y creamos objeto lr\n",
    "from sklearn.linear_model import LinearRegression\n",
    "\n",
    "# 2. Entrenamos los modelos:\n",
    "\n",
    "# modelo lineal\n",
    "lr1 = LinearRegression()\n",
    "lr1.fit(X1,y)\n",
    "\n",
    "# modelo cuadrático\n",
    "lr2 = LinearRegression()\n",
    "lr2.fit(X2,y)\n",
    "\n",
    "# modelo cúbico\n",
    "lr3 = LinearRegression()\n",
    "lr3.fit(X3,y)\n",
    "\n",
    "# modelo potencia 15\n",
    "lr15 = LinearRegression()\n",
    "lr15.fit(X15,y)"
   ]
  },
  {
   "cell_type": "markdown",
   "metadata": {},
   "source": [
    "Vamos a representar los ajustes obtenidos"
   ]
  },
  {
   "cell_type": "code",
   "execution_count": 7,
   "metadata": {},
   "outputs": [],
   "source": [
    "newx   = np.linspace(0,max(X1),1000).reshape(-1,1)\n",
    "newx2  = PolynomialFeatures(2,include_bias = False).fit_transform(newx)\n",
    "newx3  = PolynomialFeatures(3,include_bias = False).fit_transform(newx)\n",
    "newx15 = PolynomialFeatures(15,include_bias = False).fit_transform(newx)\n",
    "\n",
    "fw1  = lr1.predict(newx)\n",
    "fw2  = lr2.predict(newx2)\n",
    "fw3  = lr3.predict(newx3)\n",
    "fw15 = lr15.predict(newx15)"
   ]
  },
  {
   "cell_type": "markdown",
   "metadata": {},
   "source": [
    "El modelo de orden 15 es demasiado complejo para ajustarlo a los datos:"
   ]
  },
  {
   "cell_type": "code",
   "execution_count": 8,
   "metadata": {},
   "outputs": [
    {
     "data": {
      "image/png": "[encoded data removed]",
      "text/plain": [
       "<matplotlib.figure.Figure at 0x2371e69d390>"
      ]
     },
     "metadata": {},
     "output_type": "display_data"
    }
   ],
   "source": [
    "plt.figure(figsize=(15,5))\n",
    "\n",
    "plt.subplot(1,2,1)\n",
    "plt.plot(X1,y,'.',alpha=0.25)\n",
    "plt.plot(newx,fw1,'b-')\n",
    "plt.plot(newx,fw2,'r-')\n",
    "plt.plot(newx,fw3,'g-')\n",
    "plt.plot(newx,fw15,'k-')\n",
    "plt.xlabel('sqm_living')\n",
    "plt.ylabel('price')\n",
    "plt.legend(['','orden 1','orden 2','orden 3','orden 15'])\n",
    "\n",
    "plt.subplot(1,2,2)\n",
    "plt.plot(X1,y,'.',alpha=0.25)\n",
    "plt.plot(newx,fw1,'b-')\n",
    "plt.plot(newx,fw2,'r-')\n",
    "plt.plot(newx,fw3,'g-')\n",
    "plt.xlabel('sqm_living')\n",
    "plt.ylabel('price')\n",
    "plt.legend(['','orden 1','orden 2','orden 3'])\n",
    "plt.show()"
   ]
  },
  {
   "cell_type": "markdown",
   "metadata": {},
   "source": [
    "Calculemos ahora el error que estamos cometiendo con cada modelo"
   ]
  },
  {
   "cell_type": "code",
   "execution_count": 9,
   "metadata": {},
   "outputs": [
    {
     "name": "stdout",
     "output_type": "stream",
     "text": [
      "Modelo 1:  7.29e+10\n",
      "Modelo 2:  6.48e+10\n",
      "Modelo 3:  6.45e+10\n",
      "Modelo 15: 7.4e+10\n"
     ]
    }
   ],
   "source": [
    "from sklearn.metrics import mean_squared_error\n",
    "\n",
    "y1  = lr1.predict(X1)\n",
    "y2  = lr2.predict(X2)\n",
    "y3  = lr3.predict(X3)\n",
    "y15 = lr15.predict(X15)\n",
    "\n",
    "mse1  = mean_squared_error(y,y1)\n",
    "mse2  = mean_squared_error(y,y2)\n",
    "mse3  = mean_squared_error(y,y3)\n",
    "mse15 = mean_squared_error(y,y15)\n",
    "\n",
    "print ('Modelo 1:  %0.3g' % mse1)\n",
    "print ('Modelo 2:  %0.3g' % mse2)\n",
    "print ('Modelo 3:  %0.3g' % mse3)\n",
    "print ('Modelo 15: %0.3g' % mse15)\n"
   ]
  },
  {
   "cell_type": "markdown",
   "metadata": {},
   "source": [
    "<div class = \"alert alert-success\">\n",
    "¿Cuál es el modelo con menos error?\n",
    "</div>"
   ]
  },
  {
   "cell_type": "markdown",
   "metadata": {},
   "source": [
    "## Interacción entre variables\n",
    "\n",
    "Además de las variables iniciales del problema, siempre podemos crear nuevas variables que sean transformaciones y/o intereacciones de las mismas. Vamos a crear 4 nuevos atributos:\n",
    "\n",
    "* bedrooms_squared = bedrooms\\*bedrooms\n",
    "* bed_bath_rooms = bedrooms\\*bathrooms\n",
    "* log_sqm_living = log(sqm_living)\n",
    "* lat_plus_long = lat + long \n"
   ]
  },
  {
   "cell_type": "code",
   "execution_count": 10,
   "metadata": {},
   "outputs": [],
   "source": [
    "from math import log\n",
    "\n",
    "house_data['bedrooms_squared'] = house_data['bedrooms'].apply(lambda x: x**2)\n",
    "house_data['bed_bath_rooms'] = house_data['bedrooms']*house_data['bathrooms']\n",
    "house_data['log_sqm_living'] = house_data['sqm_living'].apply(lambda x: log(x))\n",
    "house_data['lat_plus_long'] = house_data['lat']*house_data['long']"
   ]
  },
  {
   "cell_type": "code",
   "execution_count": 11,
   "metadata": {},
   "outputs": [
    {
     "data": {
      "text/html": [
       "<div>\n",
       "<style scoped>\n",
       "    .dataframe tbody tr th:only-of-type {\n",
       "        vertical-align: middle;\n",
       "    }\n",
       "\n",
       "    .dataframe tbody tr th {\n",
       "        vertical-align: top;\n",
       "    }\n",
       "\n",
       "    .dataframe thead th {\n",
       "        text-align: right;\n",
       "    }\n",
       "</style>\n",
       "<table border=\"1\" class=\"dataframe\">\n",
       "  <thead>\n",
       "    <tr style=\"text-align: right;\">\n",
       "      <th></th>\n",
       "      <th>price</th>\n",
       "      <th>bedrooms</th>\n",
       "      <th>bathrooms</th>\n",
       "      <th>sqm_living</th>\n",
       "      <th>sqm_lot</th>\n",
       "      <th>floors</th>\n",
       "      <th>waterfront</th>\n",
       "      <th>view</th>\n",
       "      <th>condition</th>\n",
       "      <th>grade</th>\n",
       "      <th>...</th>\n",
       "      <th>zip_code</th>\n",
       "      <th>lat</th>\n",
       "      <th>long</th>\n",
       "      <th>sqm_living15</th>\n",
       "      <th>sqm_lot15</th>\n",
       "      <th>years</th>\n",
       "      <th>bedrooms_squared</th>\n",
       "      <th>bed_bath_rooms</th>\n",
       "      <th>log_sqm_living</th>\n",
       "      <th>lat_plus_long</th>\n",
       "    </tr>\n",
       "  </thead>\n",
       "  <tbody>\n",
       "    <tr>\n",
       "      <th>0</th>\n",
       "      <td>221900.0</td>\n",
       "      <td>3</td>\n",
       "      <td>1.00</td>\n",
       "      <td>109.625587</td>\n",
       "      <td>524.902176</td>\n",
       "      <td>1.0</td>\n",
       "      <td>0</td>\n",
       "      <td>0</td>\n",
       "      <td>3</td>\n",
       "      <td>7</td>\n",
       "      <td>...</td>\n",
       "      <td>98178</td>\n",
       "      <td>47.5112</td>\n",
       "      <td>-122.257</td>\n",
       "      <td>124.490074</td>\n",
       "      <td>524.902176</td>\n",
       "      <td>63</td>\n",
       "      <td>9</td>\n",
       "      <td>3.00</td>\n",
       "      <td>4.697071</td>\n",
       "      <td>-5808.576778</td>\n",
       "    </tr>\n",
       "    <tr>\n",
       "      <th>1</th>\n",
       "      <td>538000.0</td>\n",
       "      <td>3</td>\n",
       "      <td>2.25</td>\n",
       "      <td>238.760813</td>\n",
       "      <td>672.803816</td>\n",
       "      <td>2.0</td>\n",
       "      <td>0</td>\n",
       "      <td>0</td>\n",
       "      <td>3</td>\n",
       "      <td>7</td>\n",
       "      <td>...</td>\n",
       "      <td>98125</td>\n",
       "      <td>47.7210</td>\n",
       "      <td>-122.319</td>\n",
       "      <td>157.006138</td>\n",
       "      <td>709.686323</td>\n",
       "      <td>67</td>\n",
       "      <td>9</td>\n",
       "      <td>6.75</td>\n",
       "      <td>5.475462</td>\n",
       "      <td>-5837.184999</td>\n",
       "    </tr>\n",
       "    <tr>\n",
       "      <th>2</th>\n",
       "      <td>180000.0</td>\n",
       "      <td>2</td>\n",
       "      <td>1.00</td>\n",
       "      <td>71.535341</td>\n",
       "      <td>929.030400</td>\n",
       "      <td>1.0</td>\n",
       "      <td>0</td>\n",
       "      <td>0</td>\n",
       "      <td>3</td>\n",
       "      <td>6</td>\n",
       "      <td>...</td>\n",
       "      <td>98028</td>\n",
       "      <td>47.7379</td>\n",
       "      <td>-122.233</td>\n",
       "      <td>252.696269</td>\n",
       "      <td>748.984308</td>\n",
       "      <td>85</td>\n",
       "      <td>4</td>\n",
       "      <td>2.00</td>\n",
       "      <td>4.270192</td>\n",
       "      <td>-5835.146731</td>\n",
       "    </tr>\n",
       "    <tr>\n",
       "      <th>3</th>\n",
       "      <td>604000.0</td>\n",
       "      <td>4</td>\n",
       "      <td>3.00</td>\n",
       "      <td>182.089958</td>\n",
       "      <td>464.515200</td>\n",
       "      <td>1.0</td>\n",
       "      <td>0</td>\n",
       "      <td>0</td>\n",
       "      <td>5</td>\n",
       "      <td>7</td>\n",
       "      <td>...</td>\n",
       "      <td>98136</td>\n",
       "      <td>47.5208</td>\n",
       "      <td>-122.393</td>\n",
       "      <td>126.348134</td>\n",
       "      <td>464.515200</td>\n",
       "      <td>53</td>\n",
       "      <td>16</td>\n",
       "      <td>12.00</td>\n",
       "      <td>5.204501</td>\n",
       "      <td>-5816.213274</td>\n",
       "    </tr>\n",
       "    <tr>\n",
       "      <th>4</th>\n",
       "      <td>510000.0</td>\n",
       "      <td>3</td>\n",
       "      <td>2.00</td>\n",
       "      <td>156.077107</td>\n",
       "      <td>750.656563</td>\n",
       "      <td>1.0</td>\n",
       "      <td>0</td>\n",
       "      <td>0</td>\n",
       "      <td>3</td>\n",
       "      <td>8</td>\n",
       "      <td>...</td>\n",
       "      <td>98074</td>\n",
       "      <td>47.6168</td>\n",
       "      <td>-122.045</td>\n",
       "      <td>167.225472</td>\n",
       "      <td>697.051509</td>\n",
       "      <td>31</td>\n",
       "      <td>9</td>\n",
       "      <td>6.00</td>\n",
       "      <td>5.050350</td>\n",
       "      <td>-5811.392356</td>\n",
       "    </tr>\n",
       "  </tbody>\n",
       "</table>\n",
       "<p>5 rows × 24 columns</p>\n",
       "</div>"
      ],
      "text/plain": [
       "      price  bedrooms  bathrooms  sqm_living     sqm_lot  floors  waterfront  \\\n",
       "0  221900.0         3       1.00  109.625587  524.902176     1.0           0   \n",
       "1  538000.0         3       2.25  238.760813  672.803816     2.0           0   \n",
       "2  180000.0         2       1.00   71.535341  929.030400     1.0           0   \n",
       "3  604000.0         4       3.00  182.089958  464.515200     1.0           0   \n",
       "4  510000.0         3       2.00  156.077107  750.656563     1.0           0   \n",
       "\n",
       "   view  condition  grade      ...        zip_code      lat     long  \\\n",
       "0     0          3      7      ...           98178  47.5112 -122.257   \n",
       "1     0          3      7      ...           98125  47.7210 -122.319   \n",
       "2     0          3      6      ...           98028  47.7379 -122.233   \n",
       "3     0          5      7      ...           98136  47.5208 -122.393   \n",
       "4     0          3      8      ...           98074  47.6168 -122.045   \n",
       "\n",
       "   sqm_living15   sqm_lot15  years  bedrooms_squared  bed_bath_rooms  \\\n",
       "0    124.490074  524.902176     63                 9            3.00   \n",
       "1    157.006138  709.686323     67                 9            6.75   \n",
       "2    252.696269  748.984308     85                 4            2.00   \n",
       "3    126.348134  464.515200     53                16           12.00   \n",
       "4    167.225472  697.051509     31                 9            6.00   \n",
       "\n",
       "   log_sqm_living  lat_plus_long  \n",
       "0        4.697071   -5808.576778  \n",
       "1        5.475462   -5837.184999  \n",
       "2        4.270192   -5835.146731  \n",
       "3        5.204501   -5816.213274  \n",
       "4        5.050350   -5811.392356  \n",
       "\n",
       "[5 rows x 24 columns]"
      ]
     },
     "execution_count": 11,
     "metadata": {},
     "output_type": "execute_result"
    }
   ],
   "source": [
    "house_data.head(5)"
   ]
  },
  {
   "cell_type": "markdown",
   "metadata": {
    "collapsed": true
   },
   "source": [
    "¿Por qué hemos hecho esta transformaciones?\n",
    "\n",
    "* Elevar al cuadrado el número de habitaciones incrementará la separación entre viviendas de no muchas habitaciones (supongamos $1$ habitación),  y las viviendas con muchas habitaciones (supongamos $4$ habitaciones), dado que $1^2=1$ y $4^2 = 16$.\n",
    "* Multiplicar las variables *bedrooms* y *bathrooms* genera un atributo cuyo valor será grande cuando conjuntamente ambas variables lo sean.\n",
    "* Utilizar el logaritmo del tamaño de la vivienda separa lo valores pequeños y agrupa los valores grandes.\n",
    "* Sumar latitud y longitud no mucho tiene sentido, pero la añadimos igualmente para ver que supone no conocer el negocio"
   ]
  },
  {
   "cell_type": "code",
   "execution_count": 12,
   "metadata": {},
   "outputs": [
    {
     "data": {
      "image/png": "[encoded data removed]",
      "text/plain": [
       "<matplotlib.figure.Figure at 0x2371ec16278>"
      ]
     },
     "metadata": {},
     "output_type": "display_data"
    }
   ],
   "source": [
    "plt.figure(figsize=(15,5))\n",
    "plt.subplot(1,2,1)\n",
    "plt.plot(house_data['sqm_living'],house_data['price'],'.')\n",
    "plt.xlabel('sqm_living')\n",
    "plt.ylabel('price')\n",
    "\n",
    "plt.subplot(1,2,2)\n",
    "plt.plot(house_data['log_sqm_living'],house_data['price'],'r.')\n",
    "plt.xlabel('log_sqm_living')\n",
    "plt.ylabel('price')\n",
    "plt.show()"
   ]
  },
  {
   "cell_type": "markdown",
   "metadata": {},
   "source": [
    "Utilicemos las nuevas variables definidas para construir un modelo de regresión lineal junto con la variable *sqm_living*:"
   ]
  },
  {
   "cell_type": "code",
   "execution_count": 13,
   "metadata": {},
   "outputs": [],
   "source": [
    "myFeatures = ['price','bedrooms_squared','bed_bath_rooms','log_sqm_living','lat_plus_long','sqm_living']\n",
    "\n",
    "# convertimos el DataFrame al formato necesario para scikit-learn\n",
    "data = house_data[myFeatures].as_matrix() \n",
    "\n",
    "y = data[:,0:1]     # nos quedamos con la 1ª columna, price\n",
    "X = data[:,1:]     # nos quedamos con el resto"
   ]
  },
  {
   "cell_type": "markdown",
   "metadata": {},
   "source": [
    "Como utilizamos variables con distintas dimensiones, conviene escalarlas:"
   ]
  },
  {
   "cell_type": "code",
   "execution_count": 14,
   "metadata": {},
   "outputs": [],
   "source": [
    "from sklearn import preprocessing\n",
    "\n",
    "scaler = preprocessing.StandardScaler().fit(X)\n",
    "Xs = scaler.transform(X)"
   ]
  },
  {
   "cell_type": "code",
   "execution_count": 15,
   "metadata": {},
   "outputs": [
    {
     "name": "stdout",
     "output_type": "stream",
     "text": [
      "MSE: 5.59e+10\n"
     ]
    }
   ],
   "source": [
    "# Entrenamos\n",
    "lr = LinearRegression()\n",
    "lr.fit(Xs,y)\n",
    "\n",
    "# Predecimos y cuantificamos error\n",
    "ypred = lr.predict(Xs)\n",
    "\n",
    "mse = mean_squared_error(y,ypred)\n",
    "print ('MSE: %0.3g' % mse)"
   ]
  },
  {
   "cell_type": "code",
   "execution_count": null,
   "metadata": {},
   "outputs": [],
   "source": []
  }
 ],
 "metadata": {
  "kernelspec": {
   "display_name": "Python 3",
   "language": "python",
   "name": "python3"
  },
  "language_info": {
   "codemirror_mode": {
    "name": "ipython",
    "version": 3
   },
   "file_extension": ".py",
   "mimetype": "text/x-python",
   "name": "python",
   "nbconvert_exporter": "python",
   "pygments_lexer": "ipython3",
   "version": "3.6.4"
  }
 },
 "nbformat": 4,
 "nbformat_minor": 2
}

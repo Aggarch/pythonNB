{
 "cells": [
  {
   "cell_type": "markdown",
   "metadata": {},
   "source": [
    "# Regresión lineal (una variable)\n",
    "\n",
    "En este Notebook, implementaremos nuestro primer algoritmo de ML: regresión lineal (una variable)\n"
   ]
  },
  {
   "cell_type": "code",
   "execution_count": 3,
   "metadata": {},
   "outputs": [],
   "source": [
    "# cargamos librerías necesarias\n",
    "import pandas as pd\n",
    "import numpy as np\n",
    "from sklearn.model_selection import train_test_split\n",
    "import matplotlib.pyplot as plt # para dibujar\n",
    "from sklearn import datasets, linear_model\n",
    "import statsmodels.api as sm\n",
    "from statsmodels import regression\n",
    "%matplotlib inline"
   ]
  },
  {
   "cell_type": "code",
   "execution_count": 8,
   "metadata": {},
   "outputs": [],
   "source": [
    "# cargamos fichero\n",
    "data = pd.read_csv(\"../data/FB.csv\") "
   ]
  },
  {
   "cell_type": "code",
   "execution_count": 9,
   "metadata": {},
   "outputs": [
    {
     "data": {
      "text/html": [
       "<div>\n",
       "<style scoped>\n",
       "    .dataframe tbody tr th:only-of-type {\n",
       "        vertical-align: middle;\n",
       "    }\n",
       "\n",
       "    .dataframe tbody tr th {\n",
       "        vertical-align: top;\n",
       "    }\n",
       "\n",
       "    .dataframe thead th {\n",
       "        text-align: right;\n",
       "    }\n",
       "</style>\n",
       "<table border=\"1\" class=\"dataframe\">\n",
       "  <thead>\n",
       "    <tr style=\"text-align: right;\">\n",
       "      <th></th>\n",
       "      <th>Date</th>\n",
       "      <th>Open</th>\n",
       "      <th>High</th>\n",
       "      <th>Low</th>\n",
       "      <th>Close</th>\n",
       "      <th>Adj Close</th>\n",
       "      <th>Volume</th>\n",
       "    </tr>\n",
       "  </thead>\n",
       "  <tbody>\n",
       "    <tr>\n",
       "      <th>0</th>\n",
       "      <td>20170103.0</td>\n",
       "      <td>116.029999</td>\n",
       "      <td>117.839996</td>\n",
       "      <td>115.510002</td>\n",
       "      <td>116.860001</td>\n",
       "      <td>116.860001</td>\n",
       "      <td>20602600</td>\n",
       "    </tr>\n",
       "    <tr>\n",
       "      <th>1</th>\n",
       "      <td>20170104.0</td>\n",
       "      <td>117.550003</td>\n",
       "      <td>119.660004</td>\n",
       "      <td>117.290001</td>\n",
       "      <td>118.690002</td>\n",
       "      <td>118.690002</td>\n",
       "      <td>19549800</td>\n",
       "    </tr>\n",
       "  </tbody>\n",
       "</table>\n",
       "</div>"
      ],
      "text/plain": [
       "         Date        Open        High         Low       Close   Adj Close  \\\n",
       "0  20170103.0  116.029999  117.839996  115.510002  116.860001  116.860001   \n",
       "1  20170104.0  117.550003  119.660004  117.290001  118.690002  118.690002   \n",
       "\n",
       "     Volume  \n",
       "0  20602600  \n",
       "1  19549800  "
      ]
     },
     "execution_count": 9,
     "metadata": {},
     "output_type": "execute_result"
    }
   ],
   "source": [
    "def transform (x):\n",
    "    x = x.replace(\"-\", \"\")\n",
    "    return float(x)\n",
    "data['Date']=data['Date'].apply(lambda x : transform(x))\n",
    "\n",
    "data.head(2)\n"
   ]
  },
  {
   "cell_type": "code",
   "execution_count": 10,
   "metadata": {},
   "outputs": [],
   "source": [
    "from sklearn.linear_model import LinearRegression\n",
    "def linreg(X,Y):\n",
    "    # Running the linear regression\n",
    "    X = sm.add_constant(X)\n",
    "    model = LinearRegression()\n",
    "    model.fit(X, Y)\n",
    "    a = model.intercept_\n",
    "    b = model.coef_[1]\n",
    "    \n",
    "    return model\n"
   ]
  },
  {
   "cell_type": "markdown",
   "metadata": {},
   "source": [
    "Los pasos a seguir son los siguientes:\n",
    "\n",
    "1. Cargar la librería y creamos objeto regresión lineal \n",
    "2. Ajustar el modelo lineal con los datos disponibles (entrenamiento)\n",
    "3. Comprobar la bondad del ajuste\n",
    "4. Predecir nuevos valores"
   ]
  },
  {
   "cell_type": "code",
   "execution_count": 11,
   "metadata": {},
   "outputs": [
    {
     "name": "stdout",
     "output_type": "stream",
     "text": [
      "Intercepto: w0 = 12.64\n",
      "Pendiente:  w1 = 0.90\n"
     ]
    }
   ],
   "source": [
    "dataset_copy=data.copy(deep=True)\n",
    "y=dataset_copy['Adj Close']\n",
    "columns=dataset_copy.columns\n",
    "#features= dataset_copy.columns.difference(['trend'])\n",
    "X=dataset_copy[['Open']]\n",
    "X_train, X_test, y_train, y_test = train_test_split(X, y, test_size=0.2)\n",
    "model=linreg(X_train.values,y_train.values)\n",
    "w0 = model.intercept_\n",
    "w1 = model.coef_[1]\n",
    "\n",
    "print ('Intercepto: w0 = %.2f' % w0)\n",
    "print ('Pendiente:  w1 = %.2f' % w1)"
   ]
  },
  {
   "cell_type": "code",
   "execution_count": 13,
   "metadata": {},
   "outputs": [
    {
     "data": {
      "image/png": "[encoded data removed]",
      "text/plain": [
       "<matplotlib.figure.Figure at 0x1a4e7069080>"
      ]
     },
     "metadata": {},
     "output_type": "display_data"
    }
   ],
   "source": [
    "# Comprobar la bondad del ajuste mediante representación\n",
    "\n",
    "c=X_test.Open.values\n",
    "c = sm.add_constant(c)\n",
    "\n",
    "rectaRegresion = model.predict(c) # El mismo resultado se obtendría si se calcula así: w0[0] + w1[0][0]*newx\n",
    "\n",
    "plt.plot(X,y,'.', alpha = 0.5)\n",
    "plt.xlabel('Open')\n",
    "plt.ylabel('Close')\n",
    "\n",
    "plt.plot(X_test.Open.values,rectaRegresion,'r')\n",
    "plt.xlabel('Open')\n",
    "plt.ylabel('Close')\n",
    "plt.show()"
   ]
  },
  {
   "cell_type": "markdown",
   "metadata": {},
   "source": [
    "Existen distintas métricas de *performance*. En este caso, y coincidiendo con la función de coste que queremos minimizar, podemos calcular el **error cuadrático medio** (MSE, del inglés *Mean Squared Error*):\n",
    "\n",
    "$$\\textrm{MSE} = \\frac{1}{N}\\sum_{i=1}^{N}\\left(y^{i}-f_{\\omega}(x^{(i)})\\right)^2$$"
   ]
  },
  {
   "cell_type": "code",
   "execution_count": 14,
   "metadata": {},
   "outputs": [
    {
     "name": "stdout",
     "output_type": "stream",
     "text": [
      "MSE = 0.79\n"
     ]
    }
   ],
   "source": [
    "# Comprobar la bondad del ajuste mediante análisis de performance\n",
    "X = sm.add_constant(X)\n",
    "\n",
    "fw = model.predict(X.values)\n",
    "MSE = np.mean( (y-fw)**2 )\n",
    "\n",
    "print ('MSE = %.2f' % MSE)"
   ]
  },
  {
   "cell_type": "code",
   "execution_count": 15,
   "metadata": {},
   "outputs": [
    {
     "data": {
      "image/png": "[encoded data removed]",
      "text/plain": [
       "<matplotlib.figure.Figure at 0x1a4e723e1d0>"
      ]
     },
     "metadata": {},
     "output_type": "display_data"
    }
   ],
   "source": [
    "\n",
    "dates = np.reshape(data.index.values, (len(data.index.values),1)) # converting to matrix of n X 1\n",
    "prices = np.reshape(data['Adj Close'].values, (len(data['Adj Close'].values),1))\n",
    "linear_mod = linear_model.LinearRegression() # defining the linear regression model\n",
    "linear_mod.fit(dates, prices) # fitting the data points in the model\n",
    "\n",
    "plt.scatter(dates, prices, color= 'black', label= 'Data') # plotting the initial datapoints \n",
    "plt.plot(dates, linear_mod.predict(dates), color= 'red', label= 'Linear model') # plotting the line made by linear regression\n",
    "plt.xlabel('Date')\n",
    "plt.ylabel('Price')\n",
    "plt.title('Linear Regression')\n",
    "plt.legend()\n",
    "plt.show()\n"
   ]
  },
  {
   "cell_type": "code",
   "execution_count": null,
   "metadata": {},
   "outputs": [],
   "source": []
  }
 ],
 "metadata": {
  "kernelspec": {
   "display_name": "Python 3",
   "language": "python",
   "name": "python3"
  }
 },
 "nbformat": 4,
 "nbformat_minor": 2
}

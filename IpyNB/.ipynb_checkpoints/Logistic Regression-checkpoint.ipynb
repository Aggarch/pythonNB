{
 "cells": [
  {
   "cell_type": "markdown",
   "metadata": {},
   "source": [
    "# 4.1 Regresión logística\n",
    "\n",
    "## Introducción\n",
    "\n",
    "En este Notebook vamos a analizar el funcionamiento del algoritmo de [regresión logística](http://scikit-learn.org/stable/modules/linear_model.html#logistic-regression) \n",
    "\n",
    "La receta es la siguiente, usarlo si tenemos muchos datos, recordad que proporciona probabilidad de prediccion\n",
    "\n",
    "\n",
    "## Regresión logística\n",
    "\n",
    "El algoritmo de regresión logística intenta predecir la probabilidad de que una observación dada pertenezca a una cierta clase (categoría). Supongamos un problema con dos clases únicamente (problema binario), la regresión logística da como resultado la siguiente probabilidad:\n",
    "\n",
    "$$\n",
    "P\\left[ \\ y = 1\\ |\\ \\mathbf{x}\\ \\right]\n",
    "$$\n",
    "\n",
    "de tal forma que la probabilidad de pertenencia a la otra clase es: \n",
    "\n",
    "$$\n",
    "P\\left[\\ y = 0\\ |\\ \\mathbf{x}\\ \\right] = 1 - P\\left[\\ y = 1\\ |\\ \\mathbf{x}\\ \\right]\n",
    "$$\n",
    "\n",
    "Por lo que la salida de nuestro modelo de regresión logística debe estar comprendido en el lintervalo $[0,1]$.\n",
    "\n",
    "La regresión logística asume que podemos utilizar una frontera lineal para separar el espacio de observaciones en dos regiones, una por cada clase. Supongamos que tenemos una problem bi-dimensional, en el que nuestras observaciones están determinadas por un vector de dos dimensiones, por ejemplo $\\mathbf{x} = [x_1, x_2]^T$. Una frontera de separación lineal en el plano 2D está definido por la ecuación de una recta, que podemos escribir como\n",
    "\n",
    "$$h(\\mathbf{x}) = \\omega_0 + \\omega_1 x_1 + \\omega_2 x_2,$$\n",
    "\n",
    "que expresado en notación vectorial quedaría\n",
    "\n",
    "$$\\boldsymbol{\\omega}^T \\mathbf{x} = 0.$$\n",
    "\n",
    "Supongamos tenemos una nueva observación en este espacio bi-dimensional, que denotamos por $\\mathbf{x}^* = [x^*_1,x_2^*]$. Cuando evaluamos esta nueva observación con respecto a la frontera lineal definida $h(\\mathbf{x})$, se pueden dar tres posibilidades:\n",
    "\n",
    "1. $\\mathbf{x}^*$ se encuentra en la región de la clase positiva ($y = 1$). De esta forma $h(\\mathbf{x}^*) > 0$. Cuanto mayor sea el valor del $|h(\\mathbf{x}^*)|$, más lejos se encontrará el punto de la frontera.\n",
    "\n",
    "2. $\\mathbf{x}^*$ se encuentra en la región de la clase negativa ($y = 0$). De esta forma $h(\\mathbf{x}^*) < 0$. Cuanto mayor sea el valor del $|h(\\mathbf{x}^*)|$, más lejos se encontrará el punto de la frontera.\n",
    "\n",
    "3. $\\mathbf{x}^*$ se encuentra en exactamente en la frontera. De esta forma $h(\\mathbf{x}^*) = 0$.\n",
    "    \n",
    "Sin embargo, tal y como hemos dicho, necesitamos convertir este valor de $h(\\mathbf{x})$ en una probabilidad, es decir en un valor entre $[0,1]$, que además conserve las propiedades de $h(\\mathbf{x})$. En concreto, si estamos estimando la probabilidad de pertenecer a la clase positiva ($y = 1$), que el valor sea más cercano a 1 cuanto mayor sea el valor de $h(\\mathbf{x})$, que sea $0.5$ cuando $h(\\mathbf{x}) = 0$ y que sea cercano a 0 cuanto menor sea $h(\\mathbf{x})$. El objetivo actual es, pues, econtrar una transformación $\\theta(z)$, tal que:\n",
    "\n",
    "$$P\\left[ \\ y = 1\\ |\\ \\mathbf{x}\\ \\right] = \\theta\\left(h(\\mathbf{x})\\right) = \\theta\\left(\\mathbf{w}^T\\mathbf{x}\\right)$$\n",
    "\n",
    "y que cumpla con todos los requisitos que hemos impuesto anteriormente. Existen varias funciones $\\theta(z)$ que servirían a nuestro propósito. Una de ellas, la empeleada para la regresión logística es la que se conoce como **función sigmoide** o **función logística**, cuya expresión es\n",
    "\n",
    "$$\\theta(z) = \\frac{1}{1 + e^{-z}}$$\n",
    "\n",
    "Teniendo en cuenta que $z = \\boldsymbol{\\omega}^T\\mathbf{x}$, la probabilidad de que una observación $\\mathbf{x}$ pertenezca a la clase $C_1: y=1$ viene dada por:\n",
    "\n",
    "$$P\\left[ \\ y = 1\\ |\\ \\mathbf{x}\\ \\right] = \\frac{1}{1+e^{-\\boldsymbol{\\omega}^T\\mathbf{x}}}$$\n",
    "\n",
    "y, consecuentemente, diremos que $\\mathbf{x} \\in C_1$ *sii* $P\\left[ \\ y = 1\\ |\\ \\mathbf{x}\\ \\right] > 0.5$.\n",
    "\n",
    "Una vez que hemos definido nuesto modelo, estimamos los coeficientes del modelo $\\boldsymbol{\\omega}$ definiendo el funcional verosimilitud, o *likelihood*, si bien esta demostración queda lejos de los contenidos de este curso."
   ]
  },
  {
   "cell_type": "markdown",
   "metadata": {},
   "source": [
    "## Medida de prestaciones\n",
    "\n",
    "Una métrica de calidad que podemos usar para medir las prestaciones de un clasificador es el **error de clasificación**\n",
    "\n",
    "$$\\textrm{Error} = \\frac{\\textrm{# muestras mal clasificadas}}{\\textrm{# de muestras total del problema}}$$\n",
    "\n",
    "* Ejemplo: problema de clasificación con dos clases $y\\in{0,1}$\n",
    "    * Etiquetas reales (*y_true*) = $[1,0,0,1,0]$\n",
    "    * Etiquetas predichas (*y_pred*) = $[0,0,1,1,0]$\n",
    "    \n",
    "    * En este caso: $$\\textrm{Error} = \\frac{\\textrm{# muestras mal clasificadas} = 2}{\\textrm{# de muestras total del problema} = 5} = \\frac{2}{5} = 0.4$$\n",
    "\n",
    "Así, el error de clasificación será un número entre 0 y 1, tal que:\n",
    "\n",
    "* $\\textrm{Error} = 0$ es el mejor valor posible (no me equivoco nada)\n",
    "* $\\textrm{Error} = 1$ es el peor valor posible (me equivoco en todas las muestras). Nota: si me equivoco en la clasificación de todas las muestras, entonces puedo interpretar que el clasificador es bueno, pero que tengo que hacer justo lo contrario de lo que me dice. El peor valor de error sería por tanto $0.5$, en el que la incertidumbre es mayor. \n",
    "\n",
    "Normalmente no se utiliza el error, sino su complementario, la exactitud o [**accuracy**](http://scikit-learn.org/stable/modules/generated/sklearn.metrics.accuracy_score.html) (Acc), que ya lo vimos:\n",
    "\n",
    "$$\\textrm{Acc} = 1 - \\textrm{Error}$$\n",
    "\n",
    "y entonces:\n",
    "\n",
    "* $\\textrm{Acc} = 1$ es el mejor valor posible (no me equivoco nada)\n",
    "* $\\textrm{Acc} = 0$ es el peor valor posible (me equivoco en todas las muestras)\n"
   ]
  },
  {
   "cell_type": "code",
   "execution_count": null,
   "metadata": {},
   "outputs": [],
   "source": [
    "# cargamos librerías necesarias\n",
    "import pandas as pd\n",
    "from sklearn.feature_extraction.text import CountVectorizer\n",
    "from sklearn.linear_model import LogisticRegression"
   ]
  },
  {
   "cell_type": "code",
   "execution_count": null,
   "metadata": {},
   "outputs": [],
   "source": [
    "#Vamos a cambiar de problema, para que tengais mas muestras de lo que podemos hacer\n",
    "#Cogemos un dataset con una combinación de noticias, son las 25 noticias mas relevantes que sucedieron ese dia\n",
    "#Las etiquetas son 1 si el precio del stock sube, y 0 si el precio bajo, el stock es el Dow Jones industrial average"
   ]
  },
  {
   "cell_type": "code",
   "execution_count": null,
   "metadata": {},
   "outputs": [],
   "source": [
    "# Read in the data\n",
    "#data = pd.read_csv('Full_Data.csv', encoding = \"ISO-8859-1\")\n",
    "data = pd.read_csv('Combined_News_DJIA.csv', encoding = \"ISO-8859-1\")\n",
    "data.head(1)\n",
    "data.tail(1)"
   ]
  },
  {
   "cell_type": "code",
   "execution_count": null,
   "metadata": {},
   "outputs": [],
   "source": [
    "#proque hice esta particion basada en fechas\n",
    "train = data[data['Date'] < '20150101']\n",
    "test = data[data['Date'] > '20141231']"
   ]
  },
  {
   "cell_type": "code",
   "execution_count": null,
   "metadata": {},
   "outputs": [],
   "source": [
    "#Hacemos una limpieza diferente, ejemplos mas reales de cuando trabajamos con textos\n",
    "\n",
    "# Removing punctuations\n",
    "slicedData= train.iloc[:,2:27]\n",
    "slicedData.replace(to_replace=\"[^a-zA-Z]\", value=\" \", regex=True, inplace=True)\n",
    "\n",
    "# Renaming column names for ease of access\n",
    "list1= [i for i in range(25)]\n",
    "new_Index=[str(i) for i in list1]\n",
    "slicedData.columns= new_Index\n",
    "slicedData.head(5)\n",
    "\n",
    "# Convertng headlines to lower case\n",
    "for index in new_Index:\n",
    "    slicedData[index]=slicedData[index].str.lower()\n",
    "slicedData.head(1)"
   ]
  },
  {
   "cell_type": "code",
   "execution_count": null,
   "metadata": {},
   "outputs": [],
   "source": [
    "headlines = []\n",
    "for row in range(0,len(slicedData.index)):\n",
    "    headlines.append(' '.join(str(x) for x in slicedData.iloc[row,0:25]))"
   ]
  },
  {
   "cell_type": "code",
   "execution_count": null,
   "metadata": {},
   "outputs": [],
   "source": [
    "headlines[1]"
   ]
  },
  {
   "cell_type": "code",
   "execution_count": null,
   "metadata": {},
   "outputs": [],
   "source": [
    "?CountVectorizer"
   ]
  },
  {
   "cell_type": "code",
   "execution_count": null,
   "metadata": {},
   "outputs": [],
   "source": [
    "#Nos ayuda a tokenizar y determinar la frecuencia de las palabras\n",
    "#ver http://scikit-learn.org/stable/tutorial/text_analytics/working_with_text_data.html\n",
    "#Text preprocessing, tokenizing and filtering of stopwords are included in a high level \n",
    "#component that is able to build a dictionary of features and transform documents to feature vectors\n",
    "basicvectorizer = CountVectorizer(ngram_range=(1,1))\n",
    "basictrain = basicvectorizer.fit_transform(headlines)\n",
    "print(basictrain[0])"
   ]
  },
  {
   "cell_type": "code",
   "execution_count": null,
   "metadata": {},
   "outputs": [],
   "source": [
    "basicmodel = LogisticRegression()\n",
    "basicmodel = basicmodel.fit(basictrain, train[\"Label\"])"
   ]
  },
  {
   "cell_type": "code",
   "execution_count": null,
   "metadata": {},
   "outputs": [],
   "source": [
    "testheadlines = []\n",
    "for row in range(0,len(test.index)):\n",
    "    testheadlines.append(' '.join(str(x) for x in test.iloc[row,2:27]))\n",
    "basictest = basicvectorizer.transform(testheadlines)\n",
    "predictions = basicmodel.predict(basictest)"
   ]
  },
  {
   "cell_type": "code",
   "execution_count": null,
   "metadata": {},
   "outputs": [],
   "source": [
    "predictions"
   ]
  },
  {
   "cell_type": "code",
   "execution_count": null,
   "metadata": {},
   "outputs": [],
   "source": [
    "pd.crosstab(test[\"Label\"], predictions, rownames=[\"Actual\"], colnames=[\"Predicted\"])"
   ]
  },
  {
   "cell_type": "code",
   "execution_count": null,
   "metadata": {},
   "outputs": [],
   "source": [
    "print(basictrain.shape)\n",
    "\n",
    "from sklearn.metrics import classification_report\n",
    "from sklearn.metrics import f1_score\n",
    "from sklearn.metrics import accuracy_score \n",
    "from sklearn.metrics import confusion_matrix\n",
    "\n",
    "print (classification_report(test[\"Label\"], predictions))\n",
    "print (accuracy_score(test[\"Label\"], predictions))"
   ]
  },
  {
   "cell_type": "code",
   "execution_count": null,
   "metadata": {},
   "outputs": [],
   "source": [
    "v = CountVectorizer(ngram_range=(1, 1))\n",
    "print(v.fit([\"an apple a day keeps the doctor away\"]).vocabulary_)"
   ]
  },
  {
   "cell_type": "code",
   "execution_count": null,
   "metadata": {},
   "outputs": [],
   "source": [
    "v = CountVectorizer(ngram_range=(2, 2))\n",
    "print(v.fit([\"an apple a day keeps the doctor away\"]).vocabulary_)"
   ]
  },
  {
   "cell_type": "code",
   "execution_count": null,
   "metadata": {},
   "outputs": [],
   "source": [
    "v = CountVectorizer(ngram_range=(3, 3))\n",
    "print(v.fit([\"an apple a day keeps the doctor away\"]).vocabulary_)"
   ]
  },
  {
   "cell_type": "code",
   "execution_count": null,
   "metadata": {},
   "outputs": [],
   "source": [
    "basicvectorizer2 = CountVectorizer(ngram_range=(2,2))\n",
    "basictrain2 = basicvectorizer2.fit_transform(headlines)\n",
    "basicmodel2 = LogisticRegression()\n",
    "basicmodel2 = basicmodel2.fit(basictrain2, train[\"Label\"])\n",
    "basictest2 = basicvectorizer2.transform(testheadlines)\n",
    "predictions2 = basicmodel2.predict(basictest2)\n",
    "pd.crosstab(test[\"Label\"], predictions2, rownames=[\"Actual\"], colnames=[\"Predicted\"])"
   ]
  },
  {
   "cell_type": "code",
   "execution_count": null,
   "metadata": {},
   "outputs": [],
   "source": [
    "print(basictrain2.shape)\n",
    "print (classification_report(test[\"Label\"], predictions2))\n",
    "print (accuracy_score(test[\"Label\"], predictions2))"
   ]
  },
  {
   "cell_type": "code",
   "execution_count": null,
   "metadata": {},
   "outputs": [],
   "source": [
    "#repetidlo con agrupaciones de 3 palabras y ver que tal funciona"
   ]
  },
  {
   "cell_type": "code",
   "execution_count": 12,
   "metadata": {},
   "outputs": [],
   "source": [
    "import pandas as pd\n",
    "import matplotlib.pyplot as plt\n",
    "%matplotlib inline\n",
    "import seaborn as sns; sns.set_style(\"whitegrid\")\n",
    "import numpy as np"
   ]
  },
  {
   "cell_type": "code",
   "execution_count": 23,
   "metadata": {},
   "outputs": [],
   "source": [
    "data_path='../data/'\n",
    "instrument='BTC'\n",
    "data  = pd.read_csv(data_path+instrument+'.csv', names=['date','open','high','low','close','volume','market cap'], skiprows=1,index_col=0, parse_dates=True)\n",
    "BTC=pd.DataFrame(data[[\"close\"]])\n",
    "\n",
    "\n",
    "instrument= \"XRP\"\n",
    "data  = pd.read_csv(data_path+instrument+'.csv', names=['date','open','high','low','close','volume','market cap'], skiprows=1,index_col=0, parse_dates=True)\n",
    "XRP=pd.DataFrame(data[[\"close\"]])\n",
    "\n",
    "instrument= \"ETH\"\n",
    "data  = pd.read_csv(data_path+instrument+'.csv', names=['date','open','high','low','close','volume','market cap'], skiprows=1,index_col=0, parse_dates=True)\n",
    "ETH=pd.DataFrame(data[[\"close\"]])\n",
    "\n",
    "instrument= \"BCH\"\n",
    "data2  = pd.read_csv(data_path+instrument+'.csv', names=['date','open','high','low','close','volume','market cap'], skiprows=1,index_col=0, parse_dates=True)\n",
    "BCH=pd.DataFrame(data[[\"close\"]])\n",
    "\n",
    "\n",
    "instrument= \"LTC\"\n",
    "data  = pd.read_csv(data_path+instrument+'.csv', names=['date','open','high','low','close','volume','market cap'], skiprows=1,index_col=0, parse_dates=True)\n",
    "LTC=pd.DataFrame(data[[\"close\"]])\n",
    "\n",
    "close= pd.concat([BTC, ETH,  XRP,BCH,LTC], axis=1)\n",
    "close.columns= [ \"BTC\", \"ETH\",  \"XRP\",\"BCH\",\"LTC\"]\n",
    "close=close.dropna()"
   ]
  },
  {
   "cell_type": "code",
   "execution_count": 24,
   "metadata": {},
   "outputs": [
    {
     "data": {
      "text/html": [
       "<div>\n",
       "<style scoped>\n",
       "    .dataframe tbody tr th:only-of-type {\n",
       "        vertical-align: middle;\n",
       "    }\n",
       "\n",
       "    .dataframe tbody tr th {\n",
       "        vertical-align: top;\n",
       "    }\n",
       "\n",
       "    .dataframe thead th {\n",
       "        text-align: right;\n",
       "    }\n",
       "</style>\n",
       "<table border=\"1\" class=\"dataframe\">\n",
       "  <thead>\n",
       "    <tr style=\"text-align: right;\">\n",
       "      <th></th>\n",
       "      <th>BTC</th>\n",
       "      <th>ETH</th>\n",
       "      <th>XRP</th>\n",
       "      <th>BCH</th>\n",
       "      <th>LTC</th>\n",
       "      <th>y</th>\n",
       "    </tr>\n",
       "    <tr>\n",
       "      <th>date</th>\n",
       "      <th></th>\n",
       "      <th></th>\n",
       "      <th></th>\n",
       "      <th></th>\n",
       "      <th></th>\n",
       "      <th></th>\n",
       "    </tr>\n",
       "  </thead>\n",
       "  <tbody>\n",
       "    <tr>\n",
       "      <th>2015-08-08</th>\n",
       "      <td>-18.58</td>\n",
       "      <td>-2.016675</td>\n",
       "      <td>0.000324</td>\n",
       "      <td>-2.016675</td>\n",
       "      <td>-0.36</td>\n",
       "      <td>-1</td>\n",
       "    </tr>\n",
       "    <tr>\n",
       "      <th>2015-08-09</th>\n",
       "      <td>4.08</td>\n",
       "      <td>-0.051428</td>\n",
       "      <td>0.000332</td>\n",
       "      <td>-0.051428</td>\n",
       "      <td>0.05</td>\n",
       "      <td>1</td>\n",
       "    </tr>\n",
       "    <tr>\n",
       "      <th>2015-08-10</th>\n",
       "      <td>-0.61</td>\n",
       "      <td>0.006551</td>\n",
       "      <td>-0.000058</td>\n",
       "      <td>0.006551</td>\n",
       "      <td>0.05</td>\n",
       "      <td>1</td>\n",
       "    </tr>\n",
       "    <tr>\n",
       "      <th>2015-08-11</th>\n",
       "      <td>5.92</td>\n",
       "      <td>0.361552</td>\n",
       "      <td>-0.000159</td>\n",
       "      <td>0.361552</td>\n",
       "      <td>0.21</td>\n",
       "      <td>1</td>\n",
       "    </tr>\n",
       "    <tr>\n",
       "      <th>2015-08-12</th>\n",
       "      <td>-4.01</td>\n",
       "      <td>0.150000</td>\n",
       "      <td>-0.000320</td>\n",
       "      <td>0.150000</td>\n",
       "      <td>-0.17</td>\n",
       "      <td>-1</td>\n",
       "    </tr>\n",
       "  </tbody>\n",
       "</table>\n",
       "</div>"
      ],
      "text/plain": [
       "              BTC       ETH       XRP       BCH   LTC  y\n",
       "date                                                    \n",
       "2015-08-08 -18.58 -2.016675  0.000324 -2.016675 -0.36 -1\n",
       "2015-08-09   4.08 -0.051428  0.000332 -0.051428  0.05  1\n",
       "2015-08-10  -0.61  0.006551 -0.000058  0.006551  0.05  1\n",
       "2015-08-11   5.92  0.361552 -0.000159  0.361552  0.21  1\n",
       "2015-08-12  -4.01  0.150000 -0.000320  0.150000 -0.17 -1"
      ]
     },
     "execution_count": 24,
     "metadata": {},
     "output_type": "execute_result"
    }
   ],
   "source": [
    "def f(row):\n",
    "    if row>0:\n",
    "        return 1\n",
    "    else:\n",
    "        return -1\n",
    "    \n",
    "close = close.apply(lambda x: x - x.shift(1)) # shift moves dates back by 1.\n",
    "close['y']=close['LTC'].apply(lambda x: f(x))\n",
    "close.dropna(inplace=True)\n",
    "close.head()"
   ]
  },
  {
   "cell_type": "code",
   "execution_count": 25,
   "metadata": {},
   "outputs": [],
   "source": [
    "from matplotlib.colors import ListedColormap\n",
    "import matplotlib.pyplot as plt\n",
    "import numpy as np\n",
    "\n",
    "def plot_decision_regions(X, y, classifier, test_idx = None, resolution=0.02):\n",
    "\t# setup marker generator and color map\n",
    "\tmarkers = ('s','x','o','^','v')\n",
    "\tcolors = ('red','blue','lightgreen','gray','cyan')\n",
    "\tcmap = ListedColormap(colors[:len(np.unique(y))])\n",
    "\n",
    "\t# plot the decision surface\n",
    "\tx1_min, x1_max = X[:,0].min() - 1, X[:,0].max() + 1\n",
    "\tx2_min, x2_max = X[:,1].min() - 1, X[:,1].max() + 1\n",
    "\n",
    "\txx1, xx2 = np.meshgrid(np.arange(x1_min,x1_max),\n",
    "\t\t\t\t\t\t\tnp.arange(x2_min,x2_max))\n",
    "\n",
    "\tZ = classifier.predict(np.array([xx1.ravel(),xx2.ravel()]).T)\n",
    "\n",
    "\tZ = Z.reshape(xx1.shape)\n",
    "\n",
    "\tplt.contourf(xx1, xx2, Z, alpha=0.4, cmap=cmap)\n",
    "\tplt.xlim(xx1.min(),xx1.max())\n",
    "\tplt.ylim(xx2.min(),xx2.max())\n",
    "\n",
    "\tfor idx, cl in enumerate(np.unique(y)):\n",
    "\t\tplt.scatter(x=X[y==cl,0], y=X[y==cl,1],\n",
    "\t\t\talpha=0.8, c=cmap(idx), marker=markers[idx],label=cl)\n",
    "\tif test_idx:\n",
    "\t\tX_test, y_test = X[test_idx,:], y[test_idx]\n",
    "\t\tplt.scatter(X_test[:, 0], X_test[:,1], c='',\n",
    "\t\t\talpha=1.0, linewidth=1, marker='o',\n",
    "\t\t\ts=55, label='test set')"
   ]
  },
  {
   "cell_type": "code",
   "execution_count": 26,
   "metadata": {},
   "outputs": [
    {
     "data": {
      "image/png": "[encoded data removed]",
      "text/plain": [
       "<matplotlib.figure.Figure at 0x226dd439438>"
      ]
     },
     "metadata": {},
     "output_type": "display_data"
    }
   ],
   "source": [
    "import numpy as np\n",
    "import matplotlib.pyplot as plt\n",
    "from sklearn import linear_model, datasets\n",
    "%matplotlib inline\n",
    "\n",
    "\n",
    "X = close[['BTC','ETH']].values  # we only take the first two features.\n",
    "\n",
    "y = close.y\n",
    "\n",
    "logreg = linear_model.LogisticRegression()\n",
    "\n",
    "logreg.fit(X, y)\n",
    "\n",
    "\n",
    "plt.figure()\n",
    "plot_decision_regions(X,y,logreg)\n",
    "\n",
    "# Plot also the training points\n",
    "plt.scatter(X[:, 0], X[:, 1], c=y, edgecolors='k', cmap=plt.cm.Paired)\n",
    "plt.xlabel('BTC')\n",
    "plt.ylabel('ETH')\n",
    "\n",
    "plt.show()"
   ]
  },
  {
   "cell_type": "code",
   "execution_count": null,
   "metadata": {},
   "outputs": [],
   "source": []
  },
  {
   "cell_type": "code",
   "execution_count": null,
   "metadata": {},
   "outputs": [],
   "source": []
  },
  {
   "cell_type": "code",
   "execution_count": null,
   "metadata": {},
   "outputs": [],
   "source": []
  }
 ],
 "metadata": {
  "kernelspec": {
   "display_name": "Python 3",
   "language": "python",
   "name": "python3"
  },
  "language_info": {
   "codemirror_mode": {
    "name": "ipython",
    "version": 3
   },
   "file_extension": ".py",
   "mimetype": "text/x-python",
   "name": "python",
   "nbconvert_exporter": "python",
   "pygments_lexer": "ipython3",
   "version": "3.6.5"
  }
 },
 "nbformat": 4,
 "nbformat_minor": 1
}

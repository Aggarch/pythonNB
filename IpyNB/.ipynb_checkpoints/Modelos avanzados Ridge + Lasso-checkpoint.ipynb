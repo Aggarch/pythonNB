{
 "cells": [
  {
   "cell_type": "markdown",
   "metadata": {},
   "source": [
    "\n",
    "# 3.5 Ridge regression\n",
    "\n",
    "Se refiere al modelo de regresión lineal con penalización sobre la magnitud de los coeficientes\n",
    "\n",
    "$$\\min_{\\boldsymbol{\\omega}}|| \\mathbf{y} - \\mathbf{X}\\boldsymbol{\\omega}||_2^2 + \\alpha ||\\boldsymbol{\\omega} ||_2^2$$\n",
    "\n",
    "como medida contra el [*overfitting*](https://en.wikipedia.org/wiki/Overfitting)\n",
    "\n",
    "El modelo de [*ridge regression*](http://scikit-learn.org/stable/modules/generated/sklearn.linear_model.Ridge.html), tiene un parámetro libre ($\\alpha$) que hemos de fijar a priori. En otras palabras, tenemos que dar un valor a $\\alpha$ para que el modelo calcule los coeficientes $\\boldsymbol{\\omega}$. A tener en cuenta:\n",
    "\n",
    "* Si $\\alpha = 0$, entonces el resultado coincide con un modelo de [regresión lineal](http://scikit-learn.org/stable/modules/generated/sklearn.linear_model.LinearRegression.html).\n",
    "* Si $\\alpha \\to \\infty$, entonces el valor de todos los coeficientes será nulo.\n",
    "\n",
    "Por tanto, para buscar el valor de $\\alpha$ adecuado, tendremos que barrer valores en una escala que cubra valores muy pequeños y valores elevados. Para ello, normalmente se utiliza escala logarítmica aumentando progresivamente el orden  de magnitud. Como ejemplo, podríamos barrer lambda utilizando los siguientes valores $\\alpha = \\{10^{-3},0.01,0.1,1,10,100,1000\\}$, que en escala logarítmica queda como $\\log_{10}({\\alpha}) = \\{-3,-2,-1,0,1,2,3\\}$\n",
    "\n",
    "Vamos a implementar el algoritmo de *ridge regression* variando los valores de $\\alpha$, y viendo cómo esta variación afecta a los coeficientes $\\boldsymbol{\\omega}$ del modelo. Posteriormente, utilizaremos una estrategia de [*k-fold cross-validation*](https://en.wikipedia.org/wiki/Cross-validation_(statistics)) para calcular el valor de $\\alpha$ óptimo \n",
    "\n",
    "Como en casos anteriores, utilizaremos la base de datos de viviendas [House Sales in King COunty, USA](https://www.kaggle.com/harlfoxem/housesalesprediction)."
   ]
  },
  {
   "cell_type": "code",
   "execution_count": 3,
   "metadata": {},
   "outputs": [],
   "source": [
    "# cargamos librerías necesarias\n",
    "import numpy  as np  \n",
    "import pandas as pd\n",
    "\n",
    "import matplotlib.pyplot as plt # para dibujar\n",
    "%matplotlib inline\n",
    "\n",
    "from sklearn.linear_model import LinearRegression\n",
    "from sklearn.metrics import mean_squared_error\n",
    "\n",
    "from math import log"
   ]
  },
  {
   "cell_type": "markdown",
   "metadata": {},
   "source": [
    "## Cargar datos"
   ]
  },
  {
   "cell_type": "code",
   "execution_count": 4,
   "metadata": {},
   "outputs": [],
   "source": [
    "# cargamos fichero\n",
    "house_data = pd.read_csv(\"../data/house_data.csv\") \n",
    "\n",
    "# Eliminamos las columnas id y date \n",
    "house_data = house_data.drop(['id','date'], axis=1)\n",
    "\n",
    "# convertir las variables en pies al cuadrado en metros al cuadrado \n",
    "feetFeatures = ['sqft_living','sqft_lot','sqft_above','sqft_basement','sqft_living15','sqft_lot15']\n",
    "house_data[feetFeatures] = house_data[feetFeatures].apply(lambda x: x * 0.3048 * 0.3048)\n",
    "\n",
    "# renombramos\n",
    "house_data.columns = ['price','bedrooms','bathrooms','sqm_living','sqm_lot','floors','waterfront','view','condition',\n",
    "                      'grade','sqm_above','sqm_basement','yr_built','yr_renovated','zip_code','lat','long',\n",
    "                      'sqm_living15','sqm_lot15']\n",
    "\n",
    "# añadimos las nuevas variables\n",
    "house_data['years']            = 2018 - house_data['yr_built']\n",
    "house_data['bedrooms_squared'] = house_data['bedrooms'].apply(lambda x: x**2)\n",
    "house_data['bed_bath_rooms']   = house_data['bedrooms']*house_data['bathrooms']\n",
    "house_data['log_sqm_living']   = house_data['sqm_living'].apply(lambda x: log(x))\n",
    "house_data['lat_plus_long']    = house_data['lat']*house_data['long']\n",
    "house_data =house_data.dropna()"
   ]
  },
  {
   "cell_type": "code",
   "execution_count": 5,
   "metadata": {},
   "outputs": [
    {
     "data": {
      "text/html": [
       "<div>\n",
       "<style scoped>\n",
       "    .dataframe tbody tr th:only-of-type {\n",
       "        vertical-align: middle;\n",
       "    }\n",
       "\n",
       "    .dataframe tbody tr th {\n",
       "        vertical-align: top;\n",
       "    }\n",
       "\n",
       "    .dataframe thead th {\n",
       "        text-align: right;\n",
       "    }\n",
       "</style>\n",
       "<table border=\"1\" class=\"dataframe\">\n",
       "  <thead>\n",
       "    <tr style=\"text-align: right;\">\n",
       "      <th></th>\n",
       "      <th>price</th>\n",
       "      <th>bedrooms</th>\n",
       "      <th>bathrooms</th>\n",
       "      <th>sqm_living</th>\n",
       "      <th>sqm_lot</th>\n",
       "      <th>floors</th>\n",
       "      <th>waterfront</th>\n",
       "      <th>view</th>\n",
       "      <th>condition</th>\n",
       "      <th>grade</th>\n",
       "      <th>...</th>\n",
       "      <th>zip_code</th>\n",
       "      <th>lat</th>\n",
       "      <th>long</th>\n",
       "      <th>sqm_living15</th>\n",
       "      <th>sqm_lot15</th>\n",
       "      <th>years</th>\n",
       "      <th>bedrooms_squared</th>\n",
       "      <th>bed_bath_rooms</th>\n",
       "      <th>log_sqm_living</th>\n",
       "      <th>lat_plus_long</th>\n",
       "    </tr>\n",
       "  </thead>\n",
       "  <tbody>\n",
       "    <tr>\n",
       "      <th>0</th>\n",
       "      <td>221900.0</td>\n",
       "      <td>3</td>\n",
       "      <td>1.00</td>\n",
       "      <td>109.625587</td>\n",
       "      <td>524.902176</td>\n",
       "      <td>1.0</td>\n",
       "      <td>0</td>\n",
       "      <td>0</td>\n",
       "      <td>3</td>\n",
       "      <td>7</td>\n",
       "      <td>...</td>\n",
       "      <td>98178</td>\n",
       "      <td>47.5112</td>\n",
       "      <td>-122.257</td>\n",
       "      <td>124.490074</td>\n",
       "      <td>524.902176</td>\n",
       "      <td>63</td>\n",
       "      <td>9</td>\n",
       "      <td>3.00</td>\n",
       "      <td>4.697071</td>\n",
       "      <td>-5808.576778</td>\n",
       "    </tr>\n",
       "    <tr>\n",
       "      <th>1</th>\n",
       "      <td>538000.0</td>\n",
       "      <td>3</td>\n",
       "      <td>2.25</td>\n",
       "      <td>238.760813</td>\n",
       "      <td>672.803816</td>\n",
       "      <td>2.0</td>\n",
       "      <td>0</td>\n",
       "      <td>0</td>\n",
       "      <td>3</td>\n",
       "      <td>7</td>\n",
       "      <td>...</td>\n",
       "      <td>98125</td>\n",
       "      <td>47.7210</td>\n",
       "      <td>-122.319</td>\n",
       "      <td>157.006138</td>\n",
       "      <td>709.686323</td>\n",
       "      <td>67</td>\n",
       "      <td>9</td>\n",
       "      <td>6.75</td>\n",
       "      <td>5.475462</td>\n",
       "      <td>-5837.184999</td>\n",
       "    </tr>\n",
       "    <tr>\n",
       "      <th>2</th>\n",
       "      <td>180000.0</td>\n",
       "      <td>2</td>\n",
       "      <td>1.00</td>\n",
       "      <td>71.535341</td>\n",
       "      <td>929.030400</td>\n",
       "      <td>1.0</td>\n",
       "      <td>0</td>\n",
       "      <td>0</td>\n",
       "      <td>3</td>\n",
       "      <td>6</td>\n",
       "      <td>...</td>\n",
       "      <td>98028</td>\n",
       "      <td>47.7379</td>\n",
       "      <td>-122.233</td>\n",
       "      <td>252.696269</td>\n",
       "      <td>748.984308</td>\n",
       "      <td>85</td>\n",
       "      <td>4</td>\n",
       "      <td>2.00</td>\n",
       "      <td>4.270192</td>\n",
       "      <td>-5835.146731</td>\n",
       "    </tr>\n",
       "    <tr>\n",
       "      <th>3</th>\n",
       "      <td>604000.0</td>\n",
       "      <td>4</td>\n",
       "      <td>3.00</td>\n",
       "      <td>182.089958</td>\n",
       "      <td>464.515200</td>\n",
       "      <td>1.0</td>\n",
       "      <td>0</td>\n",
       "      <td>0</td>\n",
       "      <td>5</td>\n",
       "      <td>7</td>\n",
       "      <td>...</td>\n",
       "      <td>98136</td>\n",
       "      <td>47.5208</td>\n",
       "      <td>-122.393</td>\n",
       "      <td>126.348134</td>\n",
       "      <td>464.515200</td>\n",
       "      <td>53</td>\n",
       "      <td>16</td>\n",
       "      <td>12.00</td>\n",
       "      <td>5.204501</td>\n",
       "      <td>-5816.213274</td>\n",
       "    </tr>\n",
       "    <tr>\n",
       "      <th>4</th>\n",
       "      <td>510000.0</td>\n",
       "      <td>3</td>\n",
       "      <td>2.00</td>\n",
       "      <td>156.077107</td>\n",
       "      <td>750.656563</td>\n",
       "      <td>1.0</td>\n",
       "      <td>0</td>\n",
       "      <td>0</td>\n",
       "      <td>3</td>\n",
       "      <td>8</td>\n",
       "      <td>...</td>\n",
       "      <td>98074</td>\n",
       "      <td>47.6168</td>\n",
       "      <td>-122.045</td>\n",
       "      <td>167.225472</td>\n",
       "      <td>697.051509</td>\n",
       "      <td>31</td>\n",
       "      <td>9</td>\n",
       "      <td>6.00</td>\n",
       "      <td>5.050350</td>\n",
       "      <td>-5811.392356</td>\n",
       "    </tr>\n",
       "  </tbody>\n",
       "</table>\n",
       "<p>5 rows × 24 columns</p>\n",
       "</div>"
      ],
      "text/plain": [
       "      price  bedrooms  bathrooms  sqm_living     sqm_lot  floors  waterfront  \\\n",
       "0  221900.0         3       1.00  109.625587  524.902176     1.0           0   \n",
       "1  538000.0         3       2.25  238.760813  672.803816     2.0           0   \n",
       "2  180000.0         2       1.00   71.535341  929.030400     1.0           0   \n",
       "3  604000.0         4       3.00  182.089958  464.515200     1.0           0   \n",
       "4  510000.0         3       2.00  156.077107  750.656563     1.0           0   \n",
       "\n",
       "   view  condition  grade      ...        zip_code      lat     long  \\\n",
       "0     0          3      7      ...           98178  47.5112 -122.257   \n",
       "1     0          3      7      ...           98125  47.7210 -122.319   \n",
       "2     0          3      6      ...           98028  47.7379 -122.233   \n",
       "3     0          5      7      ...           98136  47.5208 -122.393   \n",
       "4     0          3      8      ...           98074  47.6168 -122.045   \n",
       "\n",
       "   sqm_living15   sqm_lot15  years  bedrooms_squared  bed_bath_rooms  \\\n",
       "0    124.490074  524.902176     63                 9            3.00   \n",
       "1    157.006138  709.686323     67                 9            6.75   \n",
       "2    252.696269  748.984308     85                 4            2.00   \n",
       "3    126.348134  464.515200     53                16           12.00   \n",
       "4    167.225472  697.051509     31                 9            6.00   \n",
       "\n",
       "   log_sqm_living  lat_plus_long  \n",
       "0        4.697071   -5808.576778  \n",
       "1        5.475462   -5837.184999  \n",
       "2        4.270192   -5835.146731  \n",
       "3        5.204501   -5816.213274  \n",
       "4        5.050350   -5811.392356  \n",
       "\n",
       "[5 rows x 24 columns]"
      ]
     },
     "execution_count": 5,
     "metadata": {},
     "output_type": "execute_result"
    }
   ],
   "source": [
    "house_data.head(5)"
   ]
  },
  {
   "cell_type": "markdown",
   "metadata": {},
   "source": [
    "## 3.5.1 Probando valores de $\\alpha$\n",
    "\n",
    "Dividamos los datos en un conjunto de entrenamiento y test, y escalémoslos convenientemente."
   ]
  },
  {
   "cell_type": "code",
   "execution_count": 6,
   "metadata": {},
   "outputs": [
    {
     "name": "stdout",
     "output_type": "stream",
     "text": [
      "Datos entrenamiento:  (2531, 23)\n",
      "Datos test:  (633, 23)\n"
     ]
    }
   ],
   "source": [
    "from sklearn import preprocessing\n",
    "from sklearn.model_selection import train_test_split\n",
    "\n",
    "# convertimos el DataFrame al formato necesario para scikit-learn\n",
    "data = house_data.as_matrix() \n",
    "\n",
    "y = data[:,0:1]     # nos quedamos con la 1ª columna, price\n",
    "X = data[:,1:]      # nos quedamos con el resto\n",
    "\n",
    "feature_names = house_data.columns[1:]\n",
    "\n",
    "# Dividimos los datos en entrenamiento y test (80 training, 20 test)\n",
    "Xtrain, Xtest, ytrain, ytest = train_test_split(X, y, test_size=.2, random_state = 2)\n",
    "\n",
    "print ('Datos entrenamiento: ', Xtrain.shape)\n",
    "print ('Datos test: ', Xtest.shape)\n",
    "\n",
    "# Escalamos (con los datos de train)\n",
    "scaler = preprocessing.StandardScaler().fit(Xtrain)\n",
    "XtrainScaled = scaler.transform(Xtrain)\n",
    "XtestScaled = scaler.transform(Xtest)"
   ]
  },
  {
   "cell_type": "markdown",
   "metadata": {},
   "source": [
    "Entrenemos distintos modelos con distintos valores de $\\alpha$ y veamos cuál se comporta mejor"
   ]
  },
  {
   "cell_type": "code",
   "execution_count": 21,
   "metadata": {},
   "outputs": [
    {
     "name": "stdout",
     "output_type": "stream",
     "text": [
      "[1.e-10 1.e-09 1.e-08 1.e-07 1.e-06 1.e-05 1.e-04 1.e-03 1.e-02 1.e-01\n",
      " 1.e+00 1.e+01 1.e+02 1.e+03 1.e+04 1.e+05 1.e+06 1.e+07 1.e+08 1.e+09\n",
      " 1.e+10]\n",
      "Ajustado modelo con alpha = 1e-10 ... \t con ||w||_2^2 = 2.41e+16\n",
      "Ajustado modelo con alpha = 1e-09 ... \t con ||w||_2^2 = 2.41e+16\n",
      "Ajustado modelo con alpha = 1e-08 ... \t con ||w||_2^2 = 2.41e+16\n",
      "Ajustado modelo con alpha = 1e-07 ... \t con ||w||_2^2 = 2.4e+16\n",
      "Ajustado modelo con alpha = 1e-06 ... \t con ||w||_2^2 = 2.33e+16\n",
      "Ajustado modelo con alpha = 1e-05 ... \t con ||w||_2^2 = 1.74e+16\n",
      "Ajustado modelo con alpha = 0.0001 ... \t con ||w||_2^2 = 3.16e+15\n",
      "Ajustado modelo con alpha = 0.001 ... \t con ||w||_2^2 = 7.05e+13\n",
      "Ajustado modelo con alpha = 0.01 ... \t con ||w||_2^2 = 1.63e+12\n",
      "Ajustado modelo con alpha = 0.1 ... \t con ||w||_2^2 = 8.6e+11\n",
      "Ajustado modelo con alpha = 1 ... \t con ||w||_2^2 = 8.01e+11\n",
      "Ajustado modelo con alpha = 10 ... \t con ||w||_2^2 = 4.77e+11\n",
      "Ajustado modelo con alpha = 1e+02 ... \t con ||w||_2^2 = 6.42e+10\n",
      "Ajustado modelo con alpha = 1e+03 ... \t con ||w||_2^2 = 8.12e+09\n",
      "Ajustado modelo con alpha = 1e+04 ... \t con ||w||_2^2 = 5.25e+08\n",
      "Ajustado modelo con alpha = 1e+05 ... \t con ||w||_2^2 = 4.79e+07\n",
      "Ajustado modelo con alpha = 1e+06 ... \t con ||w||_2^2 = 1.39e+07\n",
      "Ajustado modelo con alpha = 1e+07 ... \t con ||w||_2^2 = 4.07e+06\n",
      "Ajustado modelo con alpha = 1e+08 ... \t con ||w||_2^2 = 4.89e+05\n",
      "Ajustado modelo con alpha = 1e+09 ... \t con ||w||_2^2 = 1.11e+04\n",
      "Ajustado modelo con alpha = 1e+10 ... \t con ||w||_2^2 = 210\n"
     ]
    },
    {
     "name": "stderr",
     "output_type": "stream",
     "text": [
      "C:\\Users\\junaj\\AppData\\Local\\Continuum\\anaconda3\\lib\\site-packages\\scipy\\linalg\\basic.py:40: RuntimeWarning: scipy.linalg.solve\n",
      "Ill-conditioned matrix detected. Result is not guaranteed to be accurate.\n",
      "Reciprocal condition number/precision: 7.67606066612708e-21 / 1.1102230246251565e-16\n",
      "  RuntimeWarning)\n",
      "C:\\Users\\junaj\\AppData\\Local\\Continuum\\anaconda3\\lib\\site-packages\\scipy\\linalg\\basic.py:40: RuntimeWarning: scipy.linalg.solve\n",
      "Ill-conditioned matrix detected. Result is not guaranteed to be accurate.\n",
      "Reciprocal condition number/precision: 1.0345650040293638e-20 / 1.1102230246251565e-16\n",
      "  RuntimeWarning)\n",
      "C:\\Users\\junaj\\AppData\\Local\\Continuum\\anaconda3\\lib\\site-packages\\scipy\\linalg\\basic.py:40: RuntimeWarning: scipy.linalg.solve\n",
      "Ill-conditioned matrix detected. Result is not guaranteed to be accurate.\n",
      "Reciprocal condition number/precision: 1.4258399151504509e-19 / 1.1102230246251565e-16\n",
      "  RuntimeWarning)\n",
      "C:\\Users\\junaj\\AppData\\Local\\Continuum\\anaconda3\\lib\\site-packages\\scipy\\linalg\\basic.py:40: RuntimeWarning: scipy.linalg.solve\n",
      "Ill-conditioned matrix detected. Result is not guaranteed to be accurate.\n",
      "Reciprocal condition number/precision: 1.4037678001054132e-18 / 1.1102230246251565e-16\n",
      "  RuntimeWarning)\n",
      "C:\\Users\\junaj\\AppData\\Local\\Continuum\\anaconda3\\lib\\site-packages\\scipy\\linalg\\basic.py:40: RuntimeWarning: scipy.linalg.solve\n",
      "Ill-conditioned matrix detected. Result is not guaranteed to be accurate.\n",
      "Reciprocal condition number/precision: 1.3935569652020304e-17 / 1.1102230246251565e-16\n",
      "  RuntimeWarning)\n"
     ]
    }
   ],
   "source": [
    "from sklearn.linear_model import Ridge\n",
    "\n",
    "alphaVector = [0.0001,0.0001,0.001,0.01, 0.1, 1, 10, 100, 1000, 10000]\n",
    "# este vector puede definirse en escala logarítmica como:\n",
    "alphaVector = np.logspace(-10,10,21)\n",
    "print(alphaVector)\n",
    "mseVector = np.zeros(alphaVector.shape)\n",
    "\n",
    "for i in range(0,len(alphaVector)):\n",
    "    \n",
    "    alphaValue = alphaVector[i]\n",
    "    ridgeModel = Ridge(alpha = alphaValue)\n",
    "    ridgeModel.fit(X,y)\n",
    "    w = ridgeModel.coef_[0]\n",
    "    norm_w2 = np.dot(w,w.T)\n",
    "    \n",
    "    print ('Ajustado modelo con alpha = %0.2g ...' % alphaValue, '\\t con ||w||_2^2 = %0.3g' % norm_w2)\n",
    "    \n",
    "    ypred = ridgeModel.predict(XtestScaled)\n",
    "    mseVector[i] = mean_squared_error(ytest,ypred)"
   ]
  },
  {
   "cell_type": "code",
   "execution_count": 8,
   "metadata": {},
   "outputs": [
    {
     "data": {
      "image/png": "[encoded data removed]",
      "text/plain": [
       "<matplotlib.figure.Figure at 0x1bbcd71a278>"
      ]
     },
     "metadata": {},
     "output_type": "display_data"
    }
   ],
   "source": [
    "# Representemos el MSE para cada alpha\n",
    "plt.semilogx(alphaVector,mseVector,'-o')\n",
    "plt.xlabel('alpha')\n",
    "plt.ylabel('MSE')\n",
    "plt.show()"
   ]
  },
  {
   "cell_type": "markdown",
   "metadata": {},
   "source": [
    "A la vista de la figura, ¿con qué valor de $\\alpha$ nos quedamos? A priori es difícil decirlo, quedémonos con los valores de $\\alpha \\leq 10^{3}$"
   ]
  },
  {
   "cell_type": "code",
   "execution_count": 22,
   "metadata": {},
   "outputs": [
    {
     "data": {
      "image/png": "[encoded data removed]",
      "text/plain": [
       "<matplotlib.figure.Figure at 0x1bbcf9742b0>"
      ]
     },
     "metadata": {},
     "output_type": "display_data"
    }
   ],
   "source": [
    "idx_alpha = alphaVector <= 1e3\n",
    "\n",
    "plt.semilogx(alphaVector[idx_alpha],mseVector[idx_alpha],'-o')\n",
    "plt.semilogx(alphaVector[alphaVector == 1e-4], mseVector[alphaVector == 1e-4],'ro')\n",
    "plt.xlabel('alpha')\n",
    "plt.ylabel('MSE')\n",
    "plt.show()"
   ]
  },
  {
   "cell_type": "markdown",
   "metadata": {},
   "source": [
    "En función de la figura anterior, viendo la evolución del MSE, podríamos escoger cualquier valor de $\\alpha$ comprendido en el intervalo $\\alpha \\in [10^{-10}, 10^{-4}]$ como valor óptimo para nuestro algoritmo.\n",
    "\n",
    "Sin embargo, con esta metodología estamos haciendo un poco de **trampa** en el cálculo de $\\alpha$, ¿por qué? Porque estamos utilizando el conjunto de test para ajustar los parámetros libres ($\\alpha$) de mi algoritmo, y esto no es correcto, ya que el conjunto de test sólo lo utilizo cuando **TODOS** los parámetros del modelo han sido fijados y quiero evaluar sus prestaciones.\n",
    "\n",
    "Necesitamos por tanto una nueva aproximación. Vamos a utilizar 10-fold cross-validation. "
   ]
  },
  {
   "cell_type": "markdown",
   "metadata": {},
   "source": [
    "# cross-validation\n",
    "\n",
    "La validación cruzada (o cross-validation) consiste en subdivir el conjunto de entrenamiento en $K$ bloques, en K partes iguales, de tal forma que se utilizan $K-1$ para entrenar (ajustar el modelo) y el bloque $k$ restante para evaluar las prestaciones en función de los parámetros libres. Este proceso se repite $K$ veces (hasta que se barren todos los bloques) y los resultados se promedian.\n",
    "\n",
    "Por suerte, no es necesario programar estas subdivisiones, porque scikit-learn tiene un clase que realiza este trabajo por nosotros. Puedes consultarlo [aquí](http://scikit-learn.org/stable/modules/generated/sklearn.model_selection.KFold.html)."
   ]
  },
  {
   "cell_type": "code",
   "execution_count": 23,
   "metadata": {},
   "outputs": [],
   "source": [
    "from sklearn.model_selection import KFold\n",
    "\n",
    "number_of_folds = 10 #scikit-learn los llama splits\n",
    "kf  = KFold(n_splits=number_of_folds, shuffle = True, random_state=1)\n",
    "\n",
    "alphaVector = np.logspace(-4,4,21)\n",
    "\n",
    "# inicializamos una matriz de errores, para cada valor de alpha y cada iteración del algoritmo de cross-validation\n",
    "# - tantas filas como número de folds\n",
    "# - tantas columnas como valores de alphaVector\n",
    "mseMatriz = np.zeros((number_of_folds,len(alphaVector))) \n",
    "\n",
    "\n",
    "j = 0 # inicializamos contador de columnas\n",
    "for alphaValue in alphaVector:\n",
    "       \n",
    "    ridgeModel = Ridge(alpha = alphaValue)\n",
    "    \n",
    "    i = 0 # inicializamos contador de filas\n",
    "    for idxTrain, idxVal in kf.split(XtrainScaled):\n",
    "      \n",
    "        Xt = XtrainScaled[idxTrain,:]\n",
    "        yt = ytrain[idxTrain]\n",
    "        Xv = XtrainScaled[idxVal,:]\n",
    "        yv = ytrain[idxVal]\n",
    "        \n",
    "        ridgeModel.fit(Xt,yt)\n",
    "        ypred = ridgeModel.predict(Xv)   \n",
    "        mseMatriz[i,j] = mean_squared_error(yv,ypred) \n",
    "        \n",
    "        i+=1\n",
    "    j+=1\n",
    "\n",
    "mseVector = np.mean(mseMatriz,axis=0)"
   ]
  },
  {
   "cell_type": "code",
   "execution_count": 24,
   "metadata": {},
   "outputs": [
    {
     "data": {
      "image/png": "[encoded data removed]",
      "text/plain": [
       "<matplotlib.figure.Figure at 0x1bbcfadd128>"
      ]
     },
     "metadata": {},
     "output_type": "display_data"
    }
   ],
   "source": [
    "plt.semilogx(alphaVector,mseVector,'-o')\n",
    "plt.xlabel('alpha')\n",
    "plt.ylabel('CV error')\n",
    "plt.show()"
   ]
  },
  {
   "cell_type": "markdown",
   "metadata": {},
   "source": [
    "Vamos a buscar el valor de $\\alpha$ que minimiza el error"
   ]
  },
  {
   "cell_type": "code",
   "execution_count": 25,
   "metadata": {},
   "outputs": [
    {
     "name": "stdout",
     "output_type": "stream",
     "text": [
      "El valor óptimo de alpha es: 0.0001\n"
     ]
    }
   ],
   "source": [
    "idx = np.argmin(mseVector)\n",
    "alphaOpt = alphaVector[idx]\n",
    "\n",
    "print ('El valor óptimo de alpha es: %1.0g' % alphaOpt)"
   ]
  },
  {
   "cell_type": "markdown",
   "metadata": {},
   "source": [
    "Ahora ya estamos en disposición de evaluar las prestaciones del modelo "
   ]
  },
  {
   "cell_type": "code",
   "execution_count": 13,
   "metadata": {},
   "outputs": [
    {
     "name": "stdout",
     "output_type": "stream",
     "text": [
      "MSE Ridge (train): 3.66e+10\n",
      "MSE Ridge (test) : 3.73e+10\n"
     ]
    }
   ],
   "source": [
    "ridgeModel = Ridge(alpha = alphaOpt)\n",
    "ridgeModel.fit(XtrainScaled,ytrain)\n",
    "\n",
    "ytrainRidge = ridgeModel.predict(XtrainScaled)\n",
    "ytestRidge  = ridgeModel.predict(XtestScaled)\n",
    "mseTrainModelRidge = mean_squared_error(ytrain,ytrainRidge)\n",
    "mseTestModelRidge = mean_squared_error(ytest,ytestRidge)\n",
    "\n",
    "print ('MSE Ridge (train): %0.3g' % mseTrainModelRidge)\n",
    "print ('MSE Ridge (test) : %0.3g' % mseTestModelRidge)"
   ]
  },
  {
   "cell_type": "markdown",
   "metadata": {},
   "source": [
    "El error de test es pequeño (si lo comparamos con modelos definidos en Notebooks anteriores), por lo que a priori vamos por buen camino. \n",
    "\n",
    "Analicemos ahora el valor de los coeficientes del modelo $\\boldsymbol{\\omega}$, que al final es el resultado del algoritmo implementado:"
   ]
  },
  {
   "cell_type": "code",
   "execution_count": 14,
   "metadata": {},
   "outputs": [
    {
     "name": "stdout",
     "output_type": "stream",
     "text": [
      "bedrooms 90296.64452947203\n",
      "bathrooms -9802.20932496482\n",
      "sqm_living 164251.416201956\n",
      "sqm_lot 6984.32679151952\n",
      "floors 9927.895106153876\n",
      "waterfront 75127.70089845773\n",
      "view 44407.56027126202\n",
      "condition 15558.708073917418\n",
      "grade 107661.39003784001\n",
      "sqm_above 142053.47415997172\n",
      "sqm_basement 77662.72289200516\n",
      "yr_built -35091.17324373408\n",
      "yr_renovated 10397.565555179977\n",
      "zip_code -33366.825151315796\n",
      "lat -18110609.342102934\n",
      "long 7033678.4876142945\n",
      "sqm_living15 30673.928915552922\n",
      "sqm_lot15 -10665.300876275207\n",
      "years 35091.15829430466\n",
      "bedrooms_squared -143258.22851723523\n",
      "bed_bath_rooms 83405.4192205151\n",
      "log_sqm_living -213650.8249296473\n",
      "lat_plus_long -20331746.016809847\n"
     ]
    }
   ],
   "source": [
    "counter=0\n",
    "for f in feature_names:\n",
    "    print(f,ridgeModel.coef_[0][counter])\n",
    "    counter=counter+1"
   ]
  },
  {
   "cell_type": "markdown",
   "metadata": {},
   "source": [
    "<div class = \"alert alert-success\">\n",
    "¿Concuerda el valor de los coeficientes con tu intuición sobre el problema? Fíjate por ejemplo en la variable *bedrooms*\n",
    "</div>"
   ]
  },
  {
   "cell_type": "markdown",
   "metadata": {},
   "source": [
    "El coeficiente asociado a la variable *bathrooms* es negativo, lo que quiere decir que al aumentar el valor de *bathrooms* disminuye el valor de *price*. Dicho de otra manera, este modelo nos dice que cuantas más habitaciones tenga una vivienda, menor será su valor.\n",
    "\n",
    "Los modelo de machine learning buscan minimizar el error en las muestras de entrenamiento, y no en mejorar la interpretabilidad del modelo subyacente. Aquí reside el *arte* del data scientist, intentando diseñar variables que tengan capacidad predictiva y sean interpretables. \n",
    "\n",
    "Vamos a probar con otro modelo, Lasso, y comparemos los resultados con Ridge."
   ]
  },
  {
   "cell_type": "markdown",
   "metadata": {},
   "source": [
    "# Lasso\n",
    "\n",
    "Se refiere al modelo de regresión lineal con penalización (norma 1) sobre la magnitud de los coeficientes\n",
    "\n",
    "$$\\min_{\\boldsymbol{\\omega}}|| \\mathbf{y} - \\mathbf{X}\\boldsymbol{\\omega}||_2^2 + \\alpha ||\\boldsymbol{\\omega} ||_1$$\n",
    "\n",
    "donde $||\\boldsymbol{\\omega} ||_1 = |\\omega_1| + |\\omega_2| + \\ldots + |\\omega_K|$, siendo $K$ el número de atributos ($\\omega_0$ no se tiene en cuenta en esta penalización).\n",
    "\n",
    "Con esta formulación el algoritmo Lasso permite activar/desactivar coeficientes, de tal forma que se desactivan primero los coeficienes asociados a los atributos que menos influyen en la función de coste (función a minimizar anterior). Con ello:\n",
    "\n",
    "1. Se previene el overfitting, al poder utilizar modelos con menos variables (las desactivamos)\n",
    "2. Se gana interpretabilidad, al poder ver cómo evolucionan las variables supervivientes.\n",
    "\n",
    "La activación y desactivación de variables está determinada por el parámetro de regularización $\\alpha$. Veamos algunos ejemplos:"
   ]
  },
  {
   "cell_type": "code",
   "execution_count": 26,
   "metadata": {},
   "outputs": [
    {
     "name": "stdout",
     "output_type": "stream",
     "text": [
      "MSE Ridge (train): 3.7e+10\n",
      "MSE Ridge (test) : 3.78e+10\n",
      "bedrooms 92775.35345305242\n",
      "bathrooms -14658.193871855932\n",
      "sqm_living 431077.99314351927\n",
      "sqm_lot 8495.566179251868\n",
      "floors 12461.04216626435\n",
      "waterfront 73423.09927968257\n",
      "view 45378.8964399026\n",
      "condition 16590.69078713859\n",
      "grade 108838.21180824723\n",
      "sqm_above -96081.47306403177\n",
      "sqm_basement -55676.47100531921\n",
      "yr_built -74290.2493259179\n",
      "yr_renovated 9577.015869387824\n",
      "zip_code -28966.35986203159\n",
      "lat 70822.07168674364\n",
      "long -15015.18044545323\n",
      "sqm_living15 27206.045994373984\n",
      "sqm_lot15 -12477.341885369577\n",
      "years -958.7050951600746\n",
      "bedrooms_squared -150210.01095655936\n",
      "bed_bath_rooms 91705.83544876875\n",
      "log_sqm_living -211535.9795012748\n",
      "lat_plus_long -12774.991341050938\n"
     ]
    },
    {
     "name": "stderr",
     "output_type": "stream",
     "text": [
      "C:\\Users\\junaj\\AppData\\Local\\Continuum\\anaconda3\\lib\\site-packages\\sklearn\\linear_model\\coordinate_descent.py:491: ConvergenceWarning: Objective did not converge. You might want to increase the number of iterations. Fitting data with very small alpha may cause precision problems.\n",
      "  ConvergenceWarning)\n"
     ]
    }
   ],
   "source": [
    "from sklearn.linear_model import Lasso\n",
    "\n",
    "# descomenta las línea de interés \n",
    "alphaValue = 1e-2    # un valor pequeño\n",
    "#alphaValue = 1e3     # un valor medio\n",
    "#alphaValue = 1e5     # un valor alto\n",
    "\n",
    "lassoModel = Lasso(alpha = alphaValue)\n",
    "lassoModel.fit(XtrainScaled,ytrain)\n",
    "\n",
    "ytrainLasso = lassoModel.predict(XtrainScaled)\n",
    "ytestLasso  = lassoModel.predict(XtestScaled)\n",
    "mseTrainModelLasso = mean_squared_error(ytrain,ytrainLasso)\n",
    "mseTestModelLasso = mean_squared_error(ytest,ytestLasso)\n",
    "\n",
    "print ('MSE Ridge (train): %0.3g' % mseTrainModelLasso)\n",
    "print( 'MSE Ridge (test) : %0.3g' % mseTestModelLasso)\n",
    "\n",
    "counter=0\n",
    "for f in feature_names:\n",
    "    print(f,lassoModel.coef_[counter])\n",
    "    counter=counter+1"
   ]
  },
  {
   "cell_type": "markdown",
   "metadata": {},
   "source": [
    "Y, ¿cuál sería el valor de $\\alpha$ óptimo? Sigamos una estrategia 10-fold CV, al igual que hicimos con el algoritmo ridge regression."
   ]
  },
  {
   "cell_type": "code",
   "execution_count": 27,
   "metadata": {},
   "outputs": [
    {
     "name": "stderr",
     "output_type": "stream",
     "text": [
      "C:\\Users\\junaj\\AppData\\Local\\Continuum\\anaconda3\\lib\\site-packages\\sklearn\\linear_model\\coordinate_descent.py:491: ConvergenceWarning: Objective did not converge. You might want to increase the number of iterations. Fitting data with very small alpha may cause precision problems.\n",
      "  ConvergenceWarning)\n"
     ]
    }
   ],
   "source": [
    "number_of_folds = 10 #scikit-learn los llama splits\n",
    "kf  = KFold(n_splits=number_of_folds, shuffle = True, random_state=1)\n",
    "\n",
    "alphaVector = np.logspace(-1,4,21)\n",
    "\n",
    "# inicializamos una matriz de errores, para cada valor de alpha y cada iteración del algoritmo de cross-validation\n",
    "# - tantas filas como número de folds\n",
    "# - tantas columnas como valores de alphaVector\n",
    "mseMatriz = np.zeros((number_of_folds,len(alphaVector))) \n",
    "\n",
    "j = 0 # inicializamos contador de columnas\n",
    "for alphaValue in alphaVector:\n",
    "       \n",
    "    lassoModel = Lasso(alpha = alphaValue)\n",
    "    \n",
    "    i = 0 # inicializamos contador de filas\n",
    "    for idxTrain, idxVal in kf.split(XtrainScaled):\n",
    "      \n",
    "        Xt = XtrainScaled[idxTrain,:]\n",
    "        yt = ytrain[idxTrain]\n",
    "        Xv = XtrainScaled[idxVal,:]\n",
    "        yv = ytrain[idxVal]\n",
    "        \n",
    "        lassoModel.fit(Xt,yt)\n",
    "        ypred = lassoModel.predict(Xv)   \n",
    "        mseMatriz[i,j] = mean_squared_error(yv,ypred) \n",
    "        \n",
    "        i+=1\n",
    "    j+=1\n",
    "\n",
    "mseVector = np.mean(mseMatriz,axis=0)"
   ]
  },
  {
   "cell_type": "code",
   "execution_count": 28,
   "metadata": {},
   "outputs": [
    {
     "name": "stdout",
     "output_type": "stream",
     "text": [
      "El valor óptimo de alpha es: 3e+02\n"
     ]
    },
    {
     "data": {
      "image/png": "[encoded data removed]",
      "text/plain": [
       "<matplotlib.figure.Figure at 0x1bbcfa6fe48>"
      ]
     },
     "metadata": {},
     "output_type": "display_data"
    }
   ],
   "source": [
    "idx = np.argmin(mseVector)\n",
    "alphaOpt = alphaVector[idx]\n",
    "print ('El valor óptimo de alpha es: %1.0g' % alphaOpt)\n",
    "\n",
    "plt.semilogx(alphaVector,mseVector,'-o')\n",
    "plt.semilogx(alphaVector[idx],mseVector[idx],'ro')\n",
    "plt.xlabel('alpha')\n",
    "plt.ylabel('CV error')\n",
    "plt.show()"
   ]
  },
  {
   "cell_type": "code",
   "execution_count": 29,
   "metadata": {},
   "outputs": [
    {
     "name": "stdout",
     "output_type": "stream",
     "text": [
      "MSE Modelo Lasso (train): 3.7e+10\n",
      "MSE Modelo Lasso (test) : 3.78e+10\n",
      "bedrooms 67119.3326584371\n",
      "bathrooms 0.0\n",
      "sqm_living 311320.8914320808\n",
      "sqm_lot 7539.0303007025805\n",
      "floors 10579.514996426662\n",
      "waterfront 73420.04609136964\n",
      "view 45080.282571613454\n",
      "condition 16212.124923777623\n",
      "grade 109012.04527770734\n",
      "sqm_above 3524.2312096798046\n",
      "sqm_basement 0.0\n",
      "yr_built -53500.5711569502\n",
      "yr_renovated 9041.416607365254\n",
      "zip_code -28221.40141039441\n",
      "lat 31805.923839329716\n",
      "long -0.0\n",
      "sqm_living15 27263.17810809217\n",
      "sqm_lot15 -11636.216944213944\n",
      "years 19648.082198695447\n",
      "bedrooms_squared -115782.06113168983\n",
      "bed_bath_rooms 70315.44139184855\n",
      "log_sqm_living -202418.6821273437\n",
      "lat_plus_long -55591.51805151941\n"
     ]
    }
   ],
   "source": [
    "lassoModel = Lasso(alpha = alphaOpt)\n",
    "lassoModel.fit(XtrainScaled,ytrain)\n",
    "\n",
    "ytrainLasso = lassoModel.predict(XtrainScaled)\n",
    "ytestLasso  = lassoModel.predict(XtestScaled)\n",
    "mseTrainModelLasso = mean_squared_error(ytrain,ytrainLasso)\n",
    "mseTestModelLasso = mean_squared_error(ytest,ytestLasso)\n",
    "\n",
    "print ('MSE Modelo Lasso (train): %0.3g' % mseTrainModelLasso)\n",
    "print ('MSE Modelo Lasso (test) : %0.3g' % mseTestModelLasso)\n",
    "counter=0\n",
    "for f in feature_names:\n",
    "    print(f,lassoModel.coef_[counter])\n",
    "    counter=counter+1"
   ]
  },
  {
   "cell_type": "markdown",
   "metadata": {},
   "source": [
    "Como puede apreciarse, con este algoritmo hemos conseguido \"desactivar\" algunas variables , lo que mejora la interpretabilidad del modelo a costa de aumentar ligeramente el error en test con respecto al método Ridge."
   ]
  },
  {
   "cell_type": "code",
   "execution_count": 30,
   "metadata": {},
   "outputs": [
    {
     "name": "stdout",
     "output_type": "stream",
     "text": [
      "MSE Modelo Lasso (train): 4.44e+10\n",
      "MSE Modelo Lasso (test) : 4.6e+10\n",
      "bedrooms -0.0\n",
      "bathrooms 0.0\n",
      "sqm_living 145674.4945498313\n",
      "sqm_lot 0.0\n",
      "floors 0.0\n",
      "waterfront 67361.71894785251\n",
      "view 42754.95140929171\n",
      "condition 0.0\n",
      "grade 99372.26683107016\n",
      "sqm_above 0.0\n",
      "sqm_basement 0.0\n",
      "yr_built -28593.257003496554\n",
      "yr_renovated 0.0\n",
      "zip_code -0.0\n",
      "lat 33537.7034133022\n",
      "long -0.0\n",
      "sqm_living15 14674.648251922803\n",
      "sqm_lot15 -0.0\n",
      "years 9244.780687061118\n",
      "bedrooms_squared -0.0\n",
      "bed_bath_rooms 0.0\n",
      "log_sqm_living 0.0\n",
      "lat_plus_long -32890.564708566766\n"
     ]
    }
   ],
   "source": [
    "lassoModel = Lasso(alpha = 2e4)\n",
    "lassoModel.fit(XtrainScaled,ytrain)\n",
    "\n",
    "ytrainLasso = lassoModel.predict(XtrainScaled)\n",
    "ytestLasso  = lassoModel.predict(XtestScaled)\n",
    "mseTrainModelLasso = mean_squared_error(ytrain,ytrainLasso)\n",
    "mseTestModelLasso = mean_squared_error(ytest,ytestLasso)\n",
    "\n",
    "print ('MSE Modelo Lasso (train): %0.3g' % mseTrainModelLasso)\n",
    "print ('MSE Modelo Lasso (test) : %0.3g' % mseTestModelLasso)\n",
    "counter=0\n",
    "for f in feature_names:\n",
    "    print(f,lassoModel.coef_[counter])\n",
    "    counter=counter+1"
   ]
  },
  {
   "cell_type": "markdown",
   "metadata": {},
   "source": [
    "Hemos aumentado el error, pero a cambio:\n",
    "\n",
    "1. Tenemos un modelo más sencillo (menos variables al haber muchos coeficientes nulos) y por tanto, menos susceptible a sufrir overfitting\n",
    "2. Mejoramos la interpretabilidad del modelo, las variables supervivientes (con coeficiente distintos de cero) parecen concordar con nuestra intuición sobre problema a resolver"
   ]
  },
  {
   "cell_type": "code",
   "execution_count": null,
   "metadata": {},
   "outputs": [],
   "source": []
  }
 ],
 "metadata": {
  "kernelspec": {
   "display_name": "Python 3",
   "language": "python",
   "name": "python3"
  },
  "language_info": {
   "codemirror_mode": {
    "name": "ipython",
    "version": 3
   },
   "file_extension": ".py",
   "mimetype": "text/x-python",
   "name": "python",
   "nbconvert_exporter": "python",
   "pygments_lexer": "ipython3",
   "version": "3.6.5"
  }
 },
 "nbformat": 4,
 "nbformat_minor": 2
}

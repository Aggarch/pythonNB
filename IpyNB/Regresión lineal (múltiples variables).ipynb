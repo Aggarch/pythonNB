{
 "cells": [
  {
   "cell_type": "markdown",
   "metadata": {},
   "source": [
    "# Regresión lineal (múltiples variables)\n",
    "\n",
    "En este caso, vamos a estimar el precio de una vivienda utilizando un conjunto de variables. Utilizaremos la base de datos de viviendas [House Sales in King COunty, USA](https://www.kaggle.com/harlfoxem/housesalesprediction)."
   ]
  },
  {
   "cell_type": "code",
   "execution_count": 174,
   "metadata": {},
   "outputs": [],
   "source": [
    "# cargamos librerías necesarias\n",
    "import numpy  as np  \n",
    "import pandas as pd\n",
    "\n",
    "import matplotlib.pyplot as plt # para dibujar\n",
    "%matplotlib inline"
   ]
  },
  {
   "cell_type": "code",
   "execution_count": 178,
   "metadata": {},
   "outputs": [],
   "source": [
    "# cargamos fichero\n",
    "house_data = pd.read_csv(\"./data/house_data.csv\") \n",
    "\n",
    "# Eliminamos las columnas id y date \n",
    "house_data = house_data.drop(['id','date'], axis=1)\n",
    "\n",
    "# convertir las variables en pies al cuadrado en metros al cuadrado \n",
    "feetFeatures = ['sqft_living','sqft_lot','sqft_above','sqft_basement','sqft_living15','sqft_lot15']\n",
    "house_data[feetFeatures] = house_data[feetFeatures].apply(lambda x: x * 0.3048 * 0.3048)\n",
    "\n",
    "# renombramos\n",
    "house_data.columns = ['price','bedrooms','bathrooms','sqm_living','sqm_lot','floors','waterfront','view','condition',\n",
    "                      'grade','sqm_above','sqm_basement','yr_built','yr_renovated','zip_code','lat','long',\n",
    "                      'sqm_living15','sqm_lot15']"
   ]
  },
  {
   "cell_type": "code",
   "execution_count": 180,
   "metadata": {},
   "outputs": [
    {
     "data": {
      "text/html": [
       "<div>\n",
       "<style scoped>\n",
       "    .dataframe tbody tr th:only-of-type {\n",
       "        vertical-align: middle;\n",
       "    }\n",
       "\n",
       "    .dataframe tbody tr th {\n",
       "        vertical-align: top;\n",
       "    }\n",
       "\n",
       "    .dataframe thead th {\n",
       "        text-align: right;\n",
       "    }\n",
       "</style>\n",
       "<table border=\"1\" class=\"dataframe\">\n",
       "  <thead>\n",
       "    <tr style=\"text-align: right;\">\n",
       "      <th></th>\n",
       "      <th>price</th>\n",
       "      <th>bedrooms</th>\n",
       "      <th>bathrooms</th>\n",
       "      <th>sqm_living</th>\n",
       "      <th>sqm_lot</th>\n",
       "      <th>floors</th>\n",
       "      <th>waterfront</th>\n",
       "      <th>view</th>\n",
       "      <th>condition</th>\n",
       "      <th>grade</th>\n",
       "      <th>sqm_above</th>\n",
       "      <th>sqm_basement</th>\n",
       "      <th>yr_built</th>\n",
       "      <th>yr_renovated</th>\n",
       "      <th>zip_code</th>\n",
       "      <th>lat</th>\n",
       "      <th>long</th>\n",
       "      <th>sqm_living15</th>\n",
       "      <th>sqm_lot15</th>\n",
       "    </tr>\n",
       "  </thead>\n",
       "  <tbody>\n",
       "    <tr>\n",
       "      <th>0</th>\n",
       "      <td>221900.0</td>\n",
       "      <td>3</td>\n",
       "      <td>1.00</td>\n",
       "      <td>109.625587</td>\n",
       "      <td>524.902176</td>\n",
       "      <td>1.0</td>\n",
       "      <td>0</td>\n",
       "      <td>0</td>\n",
       "      <td>3</td>\n",
       "      <td>7</td>\n",
       "      <td>109.625587</td>\n",
       "      <td>0.000000</td>\n",
       "      <td>1955</td>\n",
       "      <td>0</td>\n",
       "      <td>98178</td>\n",
       "      <td>47.5112</td>\n",
       "      <td>-122.257</td>\n",
       "      <td>124.490074</td>\n",
       "      <td>524.902176</td>\n",
       "    </tr>\n",
       "    <tr>\n",
       "      <th>1</th>\n",
       "      <td>538000.0</td>\n",
       "      <td>3</td>\n",
       "      <td>2.25</td>\n",
       "      <td>238.760813</td>\n",
       "      <td>672.803816</td>\n",
       "      <td>2.0</td>\n",
       "      <td>0</td>\n",
       "      <td>0</td>\n",
       "      <td>3</td>\n",
       "      <td>7</td>\n",
       "      <td>201.599597</td>\n",
       "      <td>37.161216</td>\n",
       "      <td>1951</td>\n",
       "      <td>1991</td>\n",
       "      <td>98125</td>\n",
       "      <td>47.7210</td>\n",
       "      <td>-122.319</td>\n",
       "      <td>157.006138</td>\n",
       "      <td>709.686323</td>\n",
       "    </tr>\n",
       "    <tr>\n",
       "      <th>2</th>\n",
       "      <td>180000.0</td>\n",
       "      <td>2</td>\n",
       "      <td>1.00</td>\n",
       "      <td>71.535341</td>\n",
       "      <td>929.030400</td>\n",
       "      <td>1.0</td>\n",
       "      <td>0</td>\n",
       "      <td>0</td>\n",
       "      <td>3</td>\n",
       "      <td>6</td>\n",
       "      <td>71.535341</td>\n",
       "      <td>0.000000</td>\n",
       "      <td>1933</td>\n",
       "      <td>0</td>\n",
       "      <td>98028</td>\n",
       "      <td>47.7379</td>\n",
       "      <td>-122.233</td>\n",
       "      <td>252.696269</td>\n",
       "      <td>748.984308</td>\n",
       "    </tr>\n",
       "    <tr>\n",
       "      <th>3</th>\n",
       "      <td>604000.0</td>\n",
       "      <td>4</td>\n",
       "      <td>3.00</td>\n",
       "      <td>182.089958</td>\n",
       "      <td>464.515200</td>\n",
       "      <td>1.0</td>\n",
       "      <td>0</td>\n",
       "      <td>0</td>\n",
       "      <td>5</td>\n",
       "      <td>7</td>\n",
       "      <td>97.548192</td>\n",
       "      <td>84.541766</td>\n",
       "      <td>1965</td>\n",
       "      <td>0</td>\n",
       "      <td>98136</td>\n",
       "      <td>47.5208</td>\n",
       "      <td>-122.393</td>\n",
       "      <td>126.348134</td>\n",
       "      <td>464.515200</td>\n",
       "    </tr>\n",
       "    <tr>\n",
       "      <th>4</th>\n",
       "      <td>510000.0</td>\n",
       "      <td>3</td>\n",
       "      <td>2.00</td>\n",
       "      <td>156.077107</td>\n",
       "      <td>750.656563</td>\n",
       "      <td>1.0</td>\n",
       "      <td>0</td>\n",
       "      <td>0</td>\n",
       "      <td>3</td>\n",
       "      <td>8</td>\n",
       "      <td>156.077107</td>\n",
       "      <td>0.000000</td>\n",
       "      <td>1987</td>\n",
       "      <td>0</td>\n",
       "      <td>98074</td>\n",
       "      <td>47.6168</td>\n",
       "      <td>-122.045</td>\n",
       "      <td>167.225472</td>\n",
       "      <td>697.051509</td>\n",
       "    </tr>\n",
       "    <tr>\n",
       "      <th>5</th>\n",
       "      <td>1225000.0</td>\n",
       "      <td>4</td>\n",
       "      <td>4.50</td>\n",
       "      <td>503.534477</td>\n",
       "      <td>9469.606867</td>\n",
       "      <td>1.0</td>\n",
       "      <td>0</td>\n",
       "      <td>0</td>\n",
       "      <td>3</td>\n",
       "      <td>11</td>\n",
       "      <td>361.392826</td>\n",
       "      <td>142.141651</td>\n",
       "      <td>2001</td>\n",
       "      <td>0</td>\n",
       "      <td>98053</td>\n",
       "      <td>47.6561</td>\n",
       "      <td>-122.005</td>\n",
       "      <td>442.218470</td>\n",
       "      <td>9469.606867</td>\n",
       "    </tr>\n",
       "    <tr>\n",
       "      <th>6</th>\n",
       "      <td>257500.0</td>\n",
       "      <td>3</td>\n",
       "      <td>2.25</td>\n",
       "      <td>159.328714</td>\n",
       "      <td>633.505830</td>\n",
       "      <td>2.0</td>\n",
       "      <td>0</td>\n",
       "      <td>0</td>\n",
       "      <td>3</td>\n",
       "      <td>7</td>\n",
       "      <td>159.328714</td>\n",
       "      <td>0.000000</td>\n",
       "      <td>1995</td>\n",
       "      <td>0</td>\n",
       "      <td>98003</td>\n",
       "      <td>47.3097</td>\n",
       "      <td>-122.327</td>\n",
       "      <td>207.917004</td>\n",
       "      <td>633.505830</td>\n",
       "    </tr>\n",
       "    <tr>\n",
       "      <th>7</th>\n",
       "      <td>291850.0</td>\n",
       "      <td>3</td>\n",
       "      <td>1.50</td>\n",
       "      <td>98.477222</td>\n",
       "      <td>902.181421</td>\n",
       "      <td>1.0</td>\n",
       "      <td>0</td>\n",
       "      <td>0</td>\n",
       "      <td>3</td>\n",
       "      <td>7</td>\n",
       "      <td>98.477222</td>\n",
       "      <td>0.000000</td>\n",
       "      <td>1963</td>\n",
       "      <td>0</td>\n",
       "      <td>98198</td>\n",
       "      <td>47.4095</td>\n",
       "      <td>-122.315</td>\n",
       "      <td>153.290016</td>\n",
       "      <td>902.181421</td>\n",
       "    </tr>\n",
       "    <tr>\n",
       "      <th>8</th>\n",
       "      <td>229500.0</td>\n",
       "      <td>3</td>\n",
       "      <td>1.00</td>\n",
       "      <td>165.367411</td>\n",
       "      <td>693.985709</td>\n",
       "      <td>1.0</td>\n",
       "      <td>0</td>\n",
       "      <td>0</td>\n",
       "      <td>3</td>\n",
       "      <td>7</td>\n",
       "      <td>97.548192</td>\n",
       "      <td>67.819219</td>\n",
       "      <td>1960</td>\n",
       "      <td>0</td>\n",
       "      <td>98146</td>\n",
       "      <td>47.5123</td>\n",
       "      <td>-122.337</td>\n",
       "      <td>165.367411</td>\n",
       "      <td>753.722364</td>\n",
       "    </tr>\n",
       "    <tr>\n",
       "      <th>9</th>\n",
       "      <td>323000.0</td>\n",
       "      <td>3</td>\n",
       "      <td>2.50</td>\n",
       "      <td>175.586746</td>\n",
       "      <td>609.443942</td>\n",
       "      <td>2.0</td>\n",
       "      <td>0</td>\n",
       "      <td>0</td>\n",
       "      <td>3</td>\n",
       "      <td>7</td>\n",
       "      <td>175.586746</td>\n",
       "      <td>0.000000</td>\n",
       "      <td>2003</td>\n",
       "      <td>0</td>\n",
       "      <td>98038</td>\n",
       "      <td>47.3684</td>\n",
       "      <td>-122.031</td>\n",
       "      <td>222.038266</td>\n",
       "      <td>703.276013</td>\n",
       "    </tr>\n",
       "  </tbody>\n",
       "</table>\n",
       "</div>"
      ],
      "text/plain": [
       "       price  bedrooms  bathrooms  sqm_living      sqm_lot  floors  \\\n",
       "0   221900.0         3       1.00  109.625587   524.902176     1.0   \n",
       "1   538000.0         3       2.25  238.760813   672.803816     2.0   \n",
       "2   180000.0         2       1.00   71.535341   929.030400     1.0   \n",
       "3   604000.0         4       3.00  182.089958   464.515200     1.0   \n",
       "4   510000.0         3       2.00  156.077107   750.656563     1.0   \n",
       "5  1225000.0         4       4.50  503.534477  9469.606867     1.0   \n",
       "6   257500.0         3       2.25  159.328714   633.505830     2.0   \n",
       "7   291850.0         3       1.50   98.477222   902.181421     1.0   \n",
       "8   229500.0         3       1.00  165.367411   693.985709     1.0   \n",
       "9   323000.0         3       2.50  175.586746   609.443942     2.0   \n",
       "\n",
       "   waterfront  view  condition  grade   sqm_above  sqm_basement  yr_built  \\\n",
       "0           0     0          3      7  109.625587      0.000000      1955   \n",
       "1           0     0          3      7  201.599597     37.161216      1951   \n",
       "2           0     0          3      6   71.535341      0.000000      1933   \n",
       "3           0     0          5      7   97.548192     84.541766      1965   \n",
       "4           0     0          3      8  156.077107      0.000000      1987   \n",
       "5           0     0          3     11  361.392826    142.141651      2001   \n",
       "6           0     0          3      7  159.328714      0.000000      1995   \n",
       "7           0     0          3      7   98.477222      0.000000      1963   \n",
       "8           0     0          3      7   97.548192     67.819219      1960   \n",
       "9           0     0          3      7  175.586746      0.000000      2003   \n",
       "\n",
       "   yr_renovated  zip_code      lat     long  sqm_living15    sqm_lot15  \n",
       "0             0     98178  47.5112 -122.257    124.490074   524.902176  \n",
       "1          1991     98125  47.7210 -122.319    157.006138   709.686323  \n",
       "2             0     98028  47.7379 -122.233    252.696269   748.984308  \n",
       "3             0     98136  47.5208 -122.393    126.348134   464.515200  \n",
       "4             0     98074  47.6168 -122.045    167.225472   697.051509  \n",
       "5             0     98053  47.6561 -122.005    442.218470  9469.606867  \n",
       "6             0     98003  47.3097 -122.327    207.917004   633.505830  \n",
       "7             0     98198  47.4095 -122.315    153.290016   902.181421  \n",
       "8             0     98146  47.5123 -122.337    165.367411   753.722364  \n",
       "9             0     98038  47.3684 -122.031    222.038266   703.276013  "
      ]
     },
     "execution_count": 180,
     "metadata": {},
     "output_type": "execute_result"
    }
   ],
   "source": [
    "house_data.head(10)"
   ]
  },
  {
   "cell_type": "markdown",
   "metadata": {},
   "source": [
    "## Regresión lineal (varias variables)\n",
    "\n",
    "Vamos a comenzar utilizando sólo algunas variables que nos parecen de interés:\n",
    "\n",
    "* *price* (variable target)\n",
    "* *sqm_living*\n",
    "* *bedrooms*\n",
    "* *bathrooms*\n",
    "* *floors*\n",
    "* *years* : esta características tenemos que calcularla, y se calcularía como $2018 - $ *yr_built*\n",
    "* *zip_code*"
   ]
  },
  {
   "cell_type": "code",
   "execution_count": 181,
   "metadata": {},
   "outputs": [],
   "source": [
    "house_data['years'] = 2018 - house_data['yr_built']\n",
    "\n",
    "myFeatures = ['price','sqm_living','bedrooms','bathrooms','floors','years','zip_code']\n",
    "\n",
    "# convertimos el DataFrame al formato necesario para scikit-learn\n",
    "data = house_data[myFeatures].as_matrix() \n",
    "\n",
    "y = data[:,0:1] # nos quedamos con la 1ª columna, price\n",
    "X = data[:,1:]  # nos quedamos con el resto "
   ]
  },
  {
   "cell_type": "markdown",
   "metadata": {},
   "source": [
    "### Escalado\n",
    "\n",
    "Vamos estandarizar (escalar) las variables. Para ello, utilizaremos el módulo de preprocesado de scikit-learn. "
   ]
  },
  {
   "cell_type": "code",
   "execution_count": 183,
   "metadata": {},
   "outputs": [],
   "source": [
    "from sklearn import preprocessing\n",
    "\n",
    "scaler = preprocessing.StandardScaler().fit(X)\n",
    "Xs = scaler.transform(X)"
   ]
  },
  {
   "cell_type": "code",
   "execution_count": 189,
   "metadata": {},
   "outputs": [
    {
     "data": {
      "text/plain": [
       "array([[-0.96746588, -0.4259767 , -1.39489287, -0.85633928,  0.4443123 ,\n",
       "         1.86228577],\n",
       "       [ 0.54346759, -0.4259767 ,  0.2322765 ,  1.11336553,  0.58671   ,\n",
       "         0.883712  ],\n",
       "       [-1.4131369 , -1.54297443, -1.39489287, -0.85633928,  1.22749963,\n",
       "        -0.90726264],\n",
       "       ...,\n",
       "       [-0.25004423, -1.54297443, -0.74402512, -0.85633928,  0.37311346,\n",
       "         1.08681222],\n",
       "       [-0.77180543, -0.4259767 , -1.39489287, -0.85633928, -0.12527848,\n",
       "        -0.09486177],\n",
       "       [ 0.01083637,  0.69102103, -1.39489287, -0.85633928,  0.94270424,\n",
       "         0.73600275]])"
      ]
     },
     "execution_count": 189,
     "metadata": {},
     "output_type": "execute_result"
    }
   ],
   "source": [
    "Xs"
   ]
  },
  {
   "cell_type": "code",
   "execution_count": 184,
   "metadata": {},
   "outputs": [
    {
     "data": {
      "image/png": "[encoded data removed]",
      "text/plain": [
       "<matplotlib.figure.Figure at 0x1c21e48d518>"
      ]
     },
     "metadata": {},
     "output_type": "display_data"
    }
   ],
   "source": [
    "# Comprobamos resultado de la estandarización \n",
    "plt.figure(figsize=(12, 4))\n",
    "\n",
    "plt.subplot(1, 2, 1)\n",
    "plt.hist(X[:,0],bins=50)\n",
    "plt.xlabel('sqm_living')\n",
    "plt.title('Variable original')\n",
    "\n",
    "plt.subplot(1, 2, 2)\n",
    "plt.hist(Xs[:,0],bins=50)\n",
    "plt.xlabel('sqm_living')\n",
    "plt.title('Variable estandarizada')\n",
    "plt.show()"
   ]
  },
  {
   "cell_type": "markdown",
   "metadata": {},
   "source": [
    "### Entrenamiento "
   ]
  },
  {
   "cell_type": "code",
   "execution_count": 185,
   "metadata": {},
   "outputs": [
    {
     "data": {
      "text/plain": [
       "LinearRegression(copy_X=True, fit_intercept=True, n_jobs=1, normalize=False)"
      ]
     },
     "execution_count": 185,
     "metadata": {},
     "output_type": "execute_result"
    }
   ],
   "source": [
    "# 1. Cargamos librería y creamos objeto lr\n",
    "from sklearn.linear_model import LinearRegression\n",
    "lr = LinearRegression()\n",
    "\n",
    "# 2. Entrenamos el modelo\n",
    "lr.fit(Xs,y)"
   ]
  },
  {
   "cell_type": "markdown",
   "metadata": {},
   "source": [
    "Como resultado del entrenamiento, hemos obtenido los coeficientes del modelo: $\\omega_0$ y $\\omega_1$"
   ]
  },
  {
   "cell_type": "code",
   "execution_count": 187,
   "metadata": {},
   "outputs": [
    {
     "name": "stdout",
     "output_type": "stream",
     "text": [
      "Intercepto: w0 = 535418.29\n",
      "Coeficientes:  w1 =  [291291.72836837 -68437.10645509  51731.93770161  16868.88551202\n",
      "  96281.59942842   1303.83610837]\n"
     ]
    }
   ],
   "source": [
    "w0 = lr.intercept_\n",
    "w1 = lr.coef_\n",
    "\n",
    "print ('Intercepto: w0 = %.2f' % w0)\n",
    "print ('Coeficientes:  w1 = ', w1[0])"
   ]
  },
  {
   "cell_type": "markdown",
   "metadata": {},
   "source": [
    "Bien, ¿cómo de bueno ha sido el ajuste? Tenemos dos opciones:\n",
    "\n",
    "- Representar el resultado: en este caso, no podemos representar el precio con respecto a todas las dimensiones (número de características) del problema, porque supondría hacer una representación en 6 dimensiones, y como mucho el ojo humano sólo llega a 3!\n",
    "- Proporcionar alguna métrica de *performance*: utilizaremos el **error cuadrático medio** (MSE, del inglés *Mean Squared Error*):\n",
    "\n",
    "$$\\textrm{MSE} = \\frac{1}{N}\\sum_{i=1}^{N}\\left(\\mathbf{y}^{(i)}-f_{\\omega}(\\mathbf{x}^{(i)})\\right)^2 = ||\\mathbf{y} - \\mathbf{X}\\boldsymbol{\\omega}||_2^2$$"
   ]
  },
  {
   "cell_type": "code",
   "execution_count": 192,
   "metadata": {},
   "outputs": [
    {
     "name": "stdout",
     "output_type": "stream",
     "text": [
      "MSE = 6.37e+10\n"
     ]
    }
   ],
   "source": [
    "# Comprobar la bondad del ajuste mediante análisis de performance\n",
    "fw = lr.predict(Xs)\n",
    "MSE = np.mean( (y-fw)**2 )\n",
    "\n",
    "print ('MSE = %.3g' % MSE)"
   ]
  },
  {
   "cell_type": "markdown",
   "metadata": {},
   "source": [
    "## Todas las variables\n",
    "\n",
    "Utilicemos ahora todas las variables para y veamos qué resultado obtenemos?"
   ]
  },
  {
   "cell_type": "code",
   "execution_count": 194,
   "metadata": {},
   "outputs": [
    {
     "ename": "ValueError",
     "evalue": "Input contains NaN, infinity or a value too large for dtype('float64').",
     "output_type": "error",
     "traceback": [
      "\u001b[1;31m---------------------------------------------------------------------------\u001b[0m",
      "\u001b[1;31mValueError\u001b[0m                                Traceback (most recent call last)",
      "\u001b[1;32m<ipython-input-194-454ba321328d>\u001b[0m in \u001b[0;36m<module>\u001b[1;34m()\u001b[0m\n\u001b[0;32m      4\u001b[0m \u001b[0mXall\u001b[0m \u001b[1;33m=\u001b[0m \u001b[0mdata\u001b[0m\u001b[1;33m[\u001b[0m\u001b[1;33m:\u001b[0m\u001b[1;33m,\u001b[0m\u001b[1;36m1\u001b[0m\u001b[1;33m:\u001b[0m\u001b[1;33m]\u001b[0m  \u001b[1;31m# nos quedamos con el resto\u001b[0m\u001b[1;33m\u001b[0m\u001b[0m\n\u001b[0;32m      5\u001b[0m \u001b[1;33m\u001b[0m\u001b[0m\n\u001b[1;32m----> 6\u001b[1;33m \u001b[0mscaler\u001b[0m \u001b[1;33m=\u001b[0m \u001b[0mpreprocessing\u001b[0m\u001b[1;33m.\u001b[0m\u001b[0mStandardScaler\u001b[0m\u001b[1;33m(\u001b[0m\u001b[1;33m)\u001b[0m\u001b[1;33m.\u001b[0m\u001b[0mfit\u001b[0m\u001b[1;33m(\u001b[0m\u001b[0mXall\u001b[0m\u001b[1;33m)\u001b[0m\u001b[1;33m\u001b[0m\u001b[0m\n\u001b[0m\u001b[0;32m      7\u001b[0m \u001b[0mXalls\u001b[0m \u001b[1;33m=\u001b[0m \u001b[0mscaler\u001b[0m\u001b[1;33m.\u001b[0m\u001b[0mtransform\u001b[0m\u001b[1;33m(\u001b[0m\u001b[0mXall\u001b[0m\u001b[1;33m)\u001b[0m\u001b[1;33m\u001b[0m\u001b[0m\n\u001b[0;32m      8\u001b[0m \u001b[1;31m#ERROR HAY QUE LIMPIAR DATOS!!!!!\u001b[0m\u001b[1;33m\u001b[0m\u001b[1;33m\u001b[0m\u001b[0m\n",
      "\u001b[1;32m~\\AppData\\Local\\Continuum\\anaconda3\\lib\\site-packages\\sklearn\\preprocessing\\data.py\u001b[0m in \u001b[0;36mfit\u001b[1;34m(self, X, y)\u001b[0m\n\u001b[0;32m    588\u001b[0m         \u001b[1;31m# Reset internal state before fitting\u001b[0m\u001b[1;33m\u001b[0m\u001b[1;33m\u001b[0m\u001b[0m\n\u001b[0;32m    589\u001b[0m         \u001b[0mself\u001b[0m\u001b[1;33m.\u001b[0m\u001b[0m_reset\u001b[0m\u001b[1;33m(\u001b[0m\u001b[1;33m)\u001b[0m\u001b[1;33m\u001b[0m\u001b[0m\n\u001b[1;32m--> 590\u001b[1;33m         \u001b[1;32mreturn\u001b[0m \u001b[0mself\u001b[0m\u001b[1;33m.\u001b[0m\u001b[0mpartial_fit\u001b[0m\u001b[1;33m(\u001b[0m\u001b[0mX\u001b[0m\u001b[1;33m,\u001b[0m \u001b[0my\u001b[0m\u001b[1;33m)\u001b[0m\u001b[1;33m\u001b[0m\u001b[0m\n\u001b[0m\u001b[0;32m    591\u001b[0m \u001b[1;33m\u001b[0m\u001b[0m\n\u001b[0;32m    592\u001b[0m     \u001b[1;32mdef\u001b[0m \u001b[0mpartial_fit\u001b[0m\u001b[1;33m(\u001b[0m\u001b[0mself\u001b[0m\u001b[1;33m,\u001b[0m \u001b[0mX\u001b[0m\u001b[1;33m,\u001b[0m \u001b[0my\u001b[0m\u001b[1;33m=\u001b[0m\u001b[1;32mNone\u001b[0m\u001b[1;33m)\u001b[0m\u001b[1;33m:\u001b[0m\u001b[1;33m\u001b[0m\u001b[0m\n",
      "\u001b[1;32m~\\AppData\\Local\\Continuum\\anaconda3\\lib\\site-packages\\sklearn\\preprocessing\\data.py\u001b[0m in \u001b[0;36mpartial_fit\u001b[1;34m(self, X, y)\u001b[0m\n\u001b[0;32m    610\u001b[0m         \"\"\"\n\u001b[0;32m    611\u001b[0m         X = check_array(X, accept_sparse=('csr', 'csc'), copy=self.copy,\n\u001b[1;32m--> 612\u001b[1;33m                         warn_on_dtype=True, estimator=self, dtype=FLOAT_DTYPES)\n\u001b[0m\u001b[0;32m    613\u001b[0m \u001b[1;33m\u001b[0m\u001b[0m\n\u001b[0;32m    614\u001b[0m         \u001b[1;31m# Even in the case of `with_mean=False`, we update the mean anyway\u001b[0m\u001b[1;33m\u001b[0m\u001b[1;33m\u001b[0m\u001b[0m\n",
      "\u001b[1;32m~\\AppData\\Local\\Continuum\\anaconda3\\lib\\site-packages\\sklearn\\utils\\validation.py\u001b[0m in \u001b[0;36mcheck_array\u001b[1;34m(array, accept_sparse, dtype, order, copy, force_all_finite, ensure_2d, allow_nd, ensure_min_samples, ensure_min_features, warn_on_dtype, estimator)\u001b[0m\n\u001b[0;32m    451\u001b[0m                              % (array.ndim, estimator_name))\n\u001b[0;32m    452\u001b[0m         \u001b[1;32mif\u001b[0m \u001b[0mforce_all_finite\u001b[0m\u001b[1;33m:\u001b[0m\u001b[1;33m\u001b[0m\u001b[0m\n\u001b[1;32m--> 453\u001b[1;33m             \u001b[0m_assert_all_finite\u001b[0m\u001b[1;33m(\u001b[0m\u001b[0marray\u001b[0m\u001b[1;33m)\u001b[0m\u001b[1;33m\u001b[0m\u001b[0m\n\u001b[0m\u001b[0;32m    454\u001b[0m \u001b[1;33m\u001b[0m\u001b[0m\n\u001b[0;32m    455\u001b[0m     \u001b[0mshape_repr\u001b[0m \u001b[1;33m=\u001b[0m \u001b[0m_shape_repr\u001b[0m\u001b[1;33m(\u001b[0m\u001b[0marray\u001b[0m\u001b[1;33m.\u001b[0m\u001b[0mshape\u001b[0m\u001b[1;33m)\u001b[0m\u001b[1;33m\u001b[0m\u001b[0m\n",
      "\u001b[1;32m~\\AppData\\Local\\Continuum\\anaconda3\\lib\\site-packages\\sklearn\\utils\\validation.py\u001b[0m in \u001b[0;36m_assert_all_finite\u001b[1;34m(X)\u001b[0m\n\u001b[0;32m     42\u001b[0m             and not np.isfinite(X).all()):\n\u001b[0;32m     43\u001b[0m         raise ValueError(\"Input contains NaN, infinity\"\n\u001b[1;32m---> 44\u001b[1;33m                          \" or a value too large for %r.\" % X.dtype)\n\u001b[0m\u001b[0;32m     45\u001b[0m \u001b[1;33m\u001b[0m\u001b[0m\n\u001b[0;32m     46\u001b[0m \u001b[1;33m\u001b[0m\u001b[0m\n",
      "\u001b[1;31mValueError\u001b[0m: Input contains NaN, infinity or a value too large for dtype('float64')."
     ]
    }
   ],
   "source": [
    "data = house_data.as_matrix() \n",
    "\n",
    "y = data[:,0:1] # nos quedamos con la 1ª columna, price\n",
    "Xall = data[:,1:]  # nos quedamos con el resto \n",
    "\n",
    "scaler = preprocessing.StandardScaler().fit(Xall)\n",
    "Xalls = scaler.transform(Xall)\n",
    "#ERROR HAY QUE LIMPIAR DATOS!!!!!"
   ]
  },
  {
   "cell_type": "code",
   "execution_count": null,
   "metadata": {},
   "outputs": [],
   "source": []
  }
 ],
 "metadata": {
  "kernelspec": {
   "display_name": "Python 3",
   "language": "python",
   "name": "python3"
  },
  "language_info": {
   "codemirror_mode": {
    "name": "ipython",
    "version": 3
   },
   "file_extension": ".py",
   "mimetype": "text/x-python",
   "name": "python",
   "nbconvert_exporter": "python",
   "pygments_lexer": "ipython3",
   "version": "3.6.4"
  }
 },
 "nbformat": 4,
 "nbformat_minor": 2
}
